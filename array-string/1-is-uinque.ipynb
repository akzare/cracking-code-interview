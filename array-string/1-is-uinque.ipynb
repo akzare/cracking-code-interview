{
 "cells": [
  {
   "cell_type": "markdown",
   "metadata": {},
   "source": [
    "# Problem Description"
   ]
  },
  {
   "cell_type": "markdown",
   "metadata": {},
   "source": [
    "Implement an algorithm to determine if a string has all unique characters. Additionally, consider a scenario where you cannot use additional data structures."
   ]
  },
  {
   "cell_type": "markdown",
   "metadata": {},
   "source": [
    "# Solution"
   ]
  },
  {
   "cell_type": "markdown",
   "metadata": {},
   "source": [
    "The `Solution` contains two functions to determine if a string has all unique characters."
   ]
  },
  {
   "cell_type": "markdown",
   "metadata": {},
   "source": [
    "## Functions"
   ]
  },
  {
   "cell_type": "markdown",
   "metadata": {},
   "source": [
    "### isUniqueChars1"
   ]
  },
  {
   "cell_type": "markdown",
   "metadata": {},
   "source": [
    "This method uses an array to keep track of characters that have been seen:\n",
    "\n",
    "1. If the length of the string is greater than 128 (number of unique ASCII characters), return `False`.\n",
    "2. Create an array char_set to keep track of characters.\n",
    "3. Iterate through the string and check if the character has already been seen. If it has, return `False`.\n",
    "4. If the character has not been seen, mark it as seen.\n",
    "5. Return True if all characters are unique."
   ]
  },
  {
   "cell_type": "code",
   "execution_count": null,
   "metadata": {},
   "outputs": [],
   "source": [
    "def isUniqueChars1(s: str) -> bool:\n",
    "    if len(s) > 128:\n",
    "        return False\n",
    "    char_set = [False] * 128\n",
    "    for i in range(len(s)):\n",
    "        val = ord(s[i])  # Use ord to get ASCII value\n",
    "        if char_set[val]:  # Already found this char in string\n",
    "            return False\n",
    "        char_set[val] = True\n",
    "    return True"
   ]
  },
  {
   "cell_type": "markdown",
   "metadata": {},
   "source": [
    "### isUniqueChars2"
   ]
  },
  {
   "cell_type": "markdown",
   "metadata": {},
   "source": [
    "This method uses a bit vector to keep track of characters. This approach does not use additional data structures:\n",
    "\n",
    "1. Initialize a checkerBitmap to 0.\n",
    "2. Iterate through the string and check if the bit corresponding to the character has already been set. If it has, return False.\n",
    "3. If the bit has not been set, set the bit corresponding to the character.\n",
    "4. Return True if all characters are unique."
   ]
  },
  {
   "cell_type": "code",
   "execution_count": 19,
   "metadata": {},
   "outputs": [],
   "source": [
    "def isUniqueChars2(s: str) -> bool:\n",
    "    checkerBitmap = 0\n",
    "    for i in range(len(s)):\n",
    "        val = ord(s[i]) - ord('a')  # Use ord to get ASCII value and normalize it to 'a'\n",
    "        if (checkerBitmap & (1 << val)) > 0:\n",
    "            return False\n",
    "        checkerBitmap |= (1 << val)\n",
    "    return True"
   ]
  },
  {
   "cell_type": "markdown",
   "metadata": {},
   "source": [
    "## Explanation\n",
    "These methods provide two different ways to determine if a string has all unique characters, one using an array and the other using a bit vector. Both approaches have their own advantages and can be chosen based on the specific requirements of the problem."
   ]
  },
  {
   "cell_type": "markdown",
   "metadata": {},
   "source": [
    "### isUniqueChars1:\n",
    "\n",
    "* Time complexity: `O(n)`, where n is the length of the string.\n",
    "* Space complexity: O(1), since the size of the char_set array is fixed at 128.\n",
    "* This method uses an array to keep track of characters seen in the string. It returns False if a duplicate character is found and True otherwise.\n",
    "\n",
    "### isUniqueChars2:\n",
    "* Time complexity: O(n), where n is the length of the string.\n",
    "* Space complexity: O(1), since the checkerBitmap uses a fixed amount of memory.\n",
    "* This method uses a bit vector to keep track of characters seen in the string. It returns False if a duplicate character is found and True otherwise. This approach avoids using additional data structures."
   ]
  },
  {
   "cell_type": "markdown",
   "metadata": {},
   "source": [
    "## Example Usage"
   ]
  },
  {
   "cell_type": "markdown",
   "metadata": {},
   "source": [
    "Here's how you can use these methods to determine if a string has all unique characters:"
   ]
  },
  {
   "cell_type": "code",
   "execution_count": null,
   "metadata": {},
   "outputs": [
    {
     "data": {
      "text/plain": [
       "True\n",
       "False\n",
       "True\n",
       "False\n"
      ]
     },
     "metadata": {},
     "output_type": "display_data"
    }
   ],
   "source": [
    "# Example using isUniqueChars1\n",
    "string1 = \"abcdef\"\n",
    "print(isUniqueChars1(string1))  # Output: True\n",
    "\n",
    "string2 = \"aabbcc\"\n",
    "print(isUniqueChars1(string2))  # Output: False\n",
    "\n",
    "# Example using isUniqueChars2\n",
    "string3 = \"xyz\"\n",
    "print(isUniqueChars2(string3))  # Output: True\n",
    "\n",
    "string4 = \"hello\"\n",
    "print(isUniqueChars2(string4))  # Output: False"
   ]
  },
  {
   "cell_type": "markdown",
   "metadata": {},
   "source": [
    "# Literature\n",
    "\n",
    "The contents base on the following literature:\n",
    "\n",
    "* Gayle Laakmann McDowell, *Cracking the Coding Interview*, [Link](https://www.crackingthecodinginterview.com/)."
   ]
  },
  {
   "cell_type": "markdown",
   "metadata": {},
   "source": [
    "**Copyright**\n",
    "\n",
    "The notebooks are provided as [Open Educational Resources](https://en.wikipedia.org/wiki/Open_educational_resources). Feel free to use the notebooks for your own purposes. The text is licensed under [Creative Commons Attribution 4.0](https://creativecommons.org/licenses/by/4.0/), the code of the IPython examples under the [MIT license](https://opensource.org/licenses/MIT)."
   ]
  }
 ],
 "metadata": {
  "kernelspec": {
   "display_name": "Python 3",
   "language": "python",
   "name": "python3"
  },
  "language_info": {
   "codemirror_mode": {
    "name": "ipython",
    "version": 3
   },
   "file_extension": ".py",
   "mimetype": "text/x-python",
   "name": "python",
   "nbconvert_exporter": "python",
   "pygments_lexer": "ipython3",
   "version": "3.8.12"
  },
  "nav_menu": {},
  "toc": {
   "navigate_menu": true,
   "number_sections": true,
   "sideBar": true,
   "threshold": 6,
   "toc_cell": false,
   "toc_section_display": "block",
   "toc_window_display": false
  }
 },
 "nbformat": 4,
 "nbformat_minor": 4
}
