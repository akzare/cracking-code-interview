{
 "cells": [
  {
   "cell_type": "markdown",
   "metadata": {},
   "source": [
    "# Problem Description"
   ]
  },
  {
   "cell_type": "markdown",
   "metadata": {},
   "source": [
    "Write code to remove duplicates from an unsorted linked list.\n",
    "\n",
    "FOLLOW UP\n",
    "* How would you solve this problem if a temporary buffer is not allowed?"
   ]
  },
  {
   "cell_type": "markdown",
   "metadata": {},
   "source": [
    "# Solution"
   ]
  },
  {
   "cell_type": "markdown",
   "metadata": {},
   "source": [
    "The `Solution` contains two functions to determine if a string has all unique characters."
   ]
  },
  {
   "cell_type": "markdown",
   "metadata": {},
   "source": [
    "## Linked List Node and Linked List Classes\n",
    "First, we have a basic implementation of a linked list nodeand a linked list."
   ]
  },
  {
   "cell_type": "code",
   "execution_count": 27,
   "metadata": {},
   "outputs": [],
   "source": [
    "class LikedListNode:\n",
    "    def __init__(self, val) -> None:\n",
    "        self.next: LikedListNode = None\n",
    "        self.data = val\n",
    "\n",
    "class LinkeList:\n",
    "    def __init__(self):\n",
    "        self.head: LikedListNode = None\n",
    "    \n",
    "    def add(self, val) -> None:\n",
    "        newNode: LikedListNode = LikedListNode(val)\n",
    "\n",
    "        if self.head is None:\n",
    "            self.head = newNode\n",
    "        else:\n",
    "            newNode.next = self.head\n",
    "            self.head = newNode\n",
    "   \n",
    "    def __str__(self):\n",
    "        entries = []\n",
    "        cur: LikedListNode = self.head\n",
    "        while cur != None:\n",
    "            entries.append(cur.data)\n",
    "            cur = cur.next\n",
    "        return  (f\"{entries}\")"
   ]
  },
  {
   "cell_type": "markdown",
   "metadata": {},
   "source": [
    "## Functions"
   ]
  },
  {
   "cell_type": "markdown",
   "metadata": {},
   "source": [
    "### deleteDups (Using a Temporary Buffer)"
   ]
  },
  {
   "cell_type": "markdown",
   "metadata": {},
   "source": [
    "This method uses a set to keep track of the unique elements seen so far. If a duplicate is found, it's removed from the list."
   ]
  },
  {
   "cell_type": "code",
   "execution_count": 2,
   "metadata": {},
   "outputs": [],
   "source": [
    "def deleteDups(n: LikedListNode) -> None:\n",
    "    set = []\n",
    "    previous = None\n",
    "    while (n != None):\n",
    "        if n.data in set:\n",
    "            previous.next = n.next\n",
    "        else:\n",
    "            set.append(n.data)\n",
    "            previous = n\n",
    "        n = n.next"
   ]
  },
  {
   "cell_type": "markdown",
   "metadata": {},
   "source": [
    "### deleteDups2 (Without Using a Temporary Buffer)"
   ]
  },
  {
   "cell_type": "markdown",
   "metadata": {},
   "source": [
    "This method does not use any additional data structures. It uses two pointers (current and runner) to check for duplicates and removes them if found."
   ]
  },
  {
   "cell_type": "code",
   "execution_count": 3,
   "metadata": {},
   "outputs": [],
   "source": [
    "def deleteDups2(head: LikedListNode) -> None:\n",
    "    current = head\n",
    "    while (current != None):\n",
    "        # Remove all future nodes that have the same value\n",
    "        runner = current\n",
    "        while runner.next != None:\n",
    "            if runner.next.data == current.data:\n",
    "                runner.next = runner.next.next\n",
    "            else:\n",
    "                runner = runner.next\n",
    "        current = current.next"
   ]
  },
  {
   "cell_type": "markdown",
   "metadata": {},
   "source": [
    "## Explanation\n",
    "1. Using a Temporary Buffer:\n",
    "   * Time Complexity: O(N), where N is the number of elements in the linked list.\n",
    "   * Space Complexity: O(N), since we are using a set to store the unique elements.\n",
    "   * This method iterates through the list and uses a set to keep track of elements seen so far. If a duplicate is found, it's removed from the list.\n",
    "2. Without Using a Temporary Buffer:\n",
    "   * Time Complexity: O(N^2), where N is the number of elements in the linked list.\n",
    "   * Space Complexity: O(1), since no additional data structures are used.\n",
    "   * This method uses two pointers to check for duplicates. For each element, it iterates through the rest of the list to check for duplicates and removes them if found."
   ]
  },
  {
   "cell_type": "markdown",
   "metadata": {},
   "source": [
    "## Example Usage"
   ]
  },
  {
   "cell_type": "markdown",
   "metadata": {},
   "source": [
    "Here's how you can use these methods to determine if a string has all unique characters:"
   ]
  },
  {
   "cell_type": "code",
   "execution_count": 28,
   "metadata": {},
   "outputs": [
    {
     "name": "stdout",
     "output_type": "stream",
     "text": [
      "LinkedList before deleteDups:[2, 3, 2, 1, 3]\n",
      "LinkedList after deleteDups:[2, 3, 1]\n",
      "LinkedList before deleteDups2:[2, 3, 2, 1, 3, 2, 3, 1]\n",
      "LinkedList after deleteDups2:[2, 3, 1]\n"
     ]
    }
   ],
   "source": [
    "# Creating a linked list with duplicates\n",
    "linkedList = LinkeList()\n",
    "linkedList.add(3)\n",
    "linkedList.add(1)\n",
    "linkedList.add(2)\n",
    "linkedList.add(3)\n",
    "linkedList.add(2)\n",
    "\n",
    "# Removing duplicates using a temporary buffer\n",
    "head = linkedList.head\n",
    "print(f'LinkedList before deleteDups:{linkedList}') # Prints: LinkedList before deleteDups:[2, 3, 2, 1, 3]\n",
    "deleteDups(head)\n",
    "print(f'LinkedList after deleteDups:{linkedList}') # Prints LinkedList after deleteDups:[2, 3, 1]\n",
    "\n",
    "# Removing duplicates without using a temporary buffer\n",
    "linkedList.add(3)\n",
    "linkedList.add(1)\n",
    "linkedList.add(2)\n",
    "linkedList.add(3)\n",
    "linkedList.add(2)\n",
    "head = linkedList.head\n",
    "print(f'LinkedList before deleteDups2:{linkedList}') # Prints LinkedList before deleteDups2:[2, 3, 2, 1, 3, 2, 3, 1]\n",
    "deleteDups2(head)\n",
    "print(f'LinkedList after deleteDups2:{linkedList}') # Prints LinkedList after deleteDups2:[2, 3, 1]"
   ]
  },
  {
   "cell_type": "markdown",
   "metadata": {},
   "source": [
    "# Literature\n",
    "\n",
    "The contents base on the following literature:\n",
    "\n",
    "* Gayle Laakmann McDowell, *Cracking the Coding Interview*, [Link](https://www.crackingthecodinginterview.com/)."
   ]
  },
  {
   "cell_type": "markdown",
   "metadata": {},
   "source": [
    "**Copyright**\n",
    "\n",
    "The notebooks are provided as [Open Educational Resources](https://en.wikipedia.org/wiki/Open_educational_resources). Feel free to use the notebooks for your own purposes. The text is licensed under [Creative Commons Attribution 4.0](https://creativecommons.org/licenses/by/4.0/), the code of the IPython examples under the [MIT license](https://opensource.org/licenses/MIT)."
   ]
  }
 ],
 "metadata": {
  "kernelspec": {
   "display_name": "Python 3",
   "language": "python",
   "name": "python3"
  },
  "language_info": {
   "codemirror_mode": {
    "name": "ipython",
    "version": 3
   },
   "file_extension": ".py",
   "mimetype": "text/x-python",
   "name": "python",
   "nbconvert_exporter": "python",
   "pygments_lexer": "ipython3",
   "version": "3.10.12"
  },
  "nav_menu": {},
  "toc": {
   "navigate_menu": true,
   "number_sections": true,
   "sideBar": true,
   "threshold": 6,
   "toc_cell": false,
   "toc_section_display": "block",
   "toc_window_display": false
  }
 },
 "nbformat": 4,
 "nbformat_minor": 4
}
