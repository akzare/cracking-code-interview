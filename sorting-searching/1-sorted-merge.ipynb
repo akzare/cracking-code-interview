{
 "cells": [
  {
   "cell_type": "markdown",
   "metadata": {},
   "source": [
    "# Problem Description"
   ]
  },
  {
   "cell_type": "markdown",
   "metadata": {},
   "source": [
    "You are given two sorted arrays, A and B, where A has a large enough buffer at the end to hold B. Write a method to merge B into A in sorted order."
   ]
  },
  {
   "cell_type": "markdown",
   "metadata": {},
   "source": [
    "# Solution"
   ]
  },
  {
   "cell_type": "markdown",
   "metadata": {},
   "source": [
    "The `Solution` contains a method which efficiently merges two sorted arrays in place, ensuring that the result is sorted."
   ]
  },
  {
   "cell_type": "markdown",
   "metadata": {},
   "source": [
    "## Functions"
   ]
  },
  {
   "cell_type": "markdown",
   "metadata": {},
   "source": [
    "### Merge"
   ]
  },
  {
   "cell_type": "markdown",
   "metadata": {},
   "source": [
    "1. Initialize Pointers:\n",
    "    * indexMerged points to the last position of the merged array.\n",
    "    * indexA points to the last element in the actual data of array A.\n",
    "    * indexB points to the last element in array B.\n",
    "2. Merge Arrays:\n",
    "    * Traverse both arrays from the end, comparing the elements.\n",
    "    * Place the larger element at the end of A.\n",
    "    * Decrement the pointers accordingly.\n",
    "    * Continue until all elements from B are placed in A.\n",
    "\n",
    "Here's the code with comments for clarity:"
   ]
  },
  {
   "cell_type": "code",
   "execution_count": 5,
   "metadata": {},
   "outputs": [],
   "source": [
    "def Merge(a: list[int], b: list[int], countA: int, countB: int) -> None:\n",
    "    indexMerged: int = countB + countA - 1  # Last location of merged array\n",
    "    indexA: int = countA - 1  # Last element in array A\n",
    "    indexB: int = countB - 1  # Last element in array B\n",
    "\n",
    "    # Merge A and B, starting from the last element in each\n",
    "    while indexB >= 0:\n",
    "        if (indexA >= 0) and (a[indexA] > b[indexB]):  # end of A > end of B\n",
    "            a[indexMerged] = a[indexA]  # copy element from A\n",
    "            indexA -= 1\n",
    "        else:\n",
    "            a[indexMerged] = b[indexB]  # copy element from B\n",
    "            indexB -= 1\n",
    "        indexMerged -= 1  # Move indices"
   ]
  },
  {
   "cell_type": "markdown",
   "metadata": {},
   "source": [
    "## Example Usage"
   ]
  },
  {
   "cell_type": "markdown",
   "metadata": {},
   "source": [
    "Let's see how we can use this method to merge two arrays:"
   ]
  },
  {
   "cell_type": "code",
   "execution_count": 6,
   "metadata": {},
   "outputs": [
    {
     "name": "stdout",
     "output_type": "stream",
     "text": [
      "[1, 2, 3, 4, 5, 6, 7, 8]\n"
     ]
    }
   ],
   "source": [
    "# Example arrays\n",
    "A = [1, 3, 5, 7, 0, 0, 0, 0]  # Array A with enough buffer to hold B\n",
    "B = [2, 4, 6, 8]  # Array B\n",
    "countA = 4  # Number of actual elements in A\n",
    "countB = 4  # Number of elements in B\n",
    "\n",
    "# Create an instance of the Solution class and merge the arrays\n",
    "Merge(A, B, countA, countB)\n",
    "\n",
    "print(A)  # Output: [1, 2, 3, 4, 5, 6, 7, 8]"
   ]
  },
  {
   "cell_type": "markdown",
   "metadata": {},
   "source": [
    "# Literature\n",
    "\n",
    "The contents base on the following literature:\n",
    "\n",
    "* Gayle Laakmann McDowell, *Cracking the Coding Interview*, [Link](https://www.crackingthecodinginterview.com/)."
   ]
  },
  {
   "cell_type": "markdown",
   "metadata": {},
   "source": [
    "**Copyright**\n",
    "\n",
    "The notebooks are provided as [Open Educational Resources](https://en.wikipedia.org/wiki/Open_educational_resources). Feel free to use the notebooks for your own purposes. The text is licensed under [Creative Commons Attribution 4.0](https://creativecommons.org/licenses/by/4.0/), the code of the IPython examples under the [MIT license](https://opensource.org/licenses/MIT)."
   ]
  }
 ],
 "metadata": {
  "kernelspec": {
   "display_name": "Python 3",
   "language": "python",
   "name": "python3"
  },
  "language_info": {
   "codemirror_mode": {
    "name": "ipython",
    "version": 3
   },
   "file_extension": ".py",
   "mimetype": "text/x-python",
   "name": "python",
   "nbconvert_exporter": "python",
   "pygments_lexer": "ipython3",
   "version": "3.10.12"
  },
  "nav_menu": {},
  "toc": {
   "navigate_menu": true,
   "number_sections": true,
   "sideBar": true,
   "threshold": 6,
   "toc_cell": false,
   "toc_section_display": "block",
   "toc_window_display": false
  }
 },
 "nbformat": 4,
 "nbformat_minor": 4
}
