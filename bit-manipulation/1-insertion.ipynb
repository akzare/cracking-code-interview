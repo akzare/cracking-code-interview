{
 "cells": [
  {
   "cell_type": "markdown",
   "metadata": {},
   "source": [
    "# Problem Description"
   ]
  },
  {
   "cell_type": "markdown",
   "metadata": {},
   "source": [
    "You are given two 32-bit numbers, N and M, and two bit positions, i and j.\n",
    "Write a method to insert M into N such that M starts at bit j and ends at bit i.\n",
    "You can assume that the bits j through i have enough space to fit all of M.\n",
    "That is, if M=10011, you can assume that there are at least 5 bits between j\n",
    "and i. You would not, for example, have j=3 and i=2, because M could not fully\n",
    "fit between bit 3 and bit 2.\n",
    "\n",
    "Example:\n",
    "* Input: N = 10000000000 M = 10011, i=2, j=6\n",
    "* Output:N = 10001001100"
   ]
  },
  {
   "cell_type": "markdown",
   "metadata": {},
   "source": [
    "# Solution"
   ]
  },
  {
   "cell_type": "markdown",
   "metadata": {},
   "source": [
    "The `Solution` contains the method updateBits to insert a 32-bit number M into another 32-bit number N starting at bit j and ending at bit i."
   ]
  },
  {
   "cell_type": "markdown",
   "metadata": {},
   "source": [
    "## Functions"
   ]
  },
  {
   "cell_type": "markdown",
   "metadata": {},
   "source": [
    "### updateBits"
   ]
  },
  {
   "cell_type": "markdown",
   "metadata": {},
   "source": [
    "#### Steps to Insert M into N\n",
    "1. Validate Input: Ensure that i <= j, i >= 0, and j < 32.\n",
    "2. Create a Mask:\n",
    "   * All Ones Mask: Start with a mask of all 1s.\n",
    "   * Left Part: Create the left part of the mask that has 1s before position j and 0s after.\n",
    "   * Right Part: Create the right part of the mask that has 1s after position i.\n",
    "   * Combined Mask: Combine the left and right parts of the mask to clear bits between i and j.\n",
    "3. Clear Bits in N: Use the mask to clear bits i through j in N.\n",
    "4. Shift M: Shift M to the left by i positions to align it with the correct position in N.\n",
    "5. Combine: Use bitwise OR to combine the cleared N and the shifted M.\n",
    "\n",
    "Here's the detailed code with the print statements to show the intermediate steps:"
   ]
  },
  {
   "cell_type": "code",
   "execution_count": 4,
   "metadata": {},
   "outputs": [],
   "source": [
    "def updateBits(n: int, m: int, i: int, j: int) -> int:\n",
    "    if i > j or i < 0 or j >= 32:\n",
    "        return 0\n",
    "            \n",
    "    # Create a mask to clear bits i through j in n.\n",
    "    # Example: i=2, j=6, Result should be 11100000011 (8 bits for example)\n",
    "    allOnes: int = (1 << 32) - 1  # Will equal sequence of all 1s\n",
    "    print(f'allOnes: {hex(allOnes)}')\n",
    "\n",
    "    # 1s before position j, then 0s. left = 11100000000\n",
    "    left: int = (allOnes << (j + 1)) if (j < 31) else 0\n",
    "    print(f'left: {hex(left)}')\n",
    "\n",
    "    # 1's after position i. right = 00000000011\n",
    "    right: int = (1 << i) - 1\n",
    "    print(f'right: {hex(right)}')\n",
    "\n",
    "    # All 1s, except for 0s between i and j. mask = 11100000011\n",
    "    mask: int = left | right\n",
    "    print(f'mask: {hex(mask)}')\n",
    "\n",
    "    # Clear bits j through i then put m in there\n",
    "    n_cleared: int = n & mask  # Clear bits j through i\n",
    "    print(f'n_cleared: {hex(n_cleared)}')\n",
    "\n",
    "    m_shifted: int = m << i  # Move m into correct position\n",
    "    print(f'm_shifted: {hex(m_shifted)}')\n",
    "\n",
    "    return n_cleared | m_shifted  # OR them, and we're done!"
   ]
  },
  {
   "cell_type": "markdown",
   "metadata": {},
   "source": [
    "## Explanation\n",
    "1. All Ones Mask:\n",
    "  * allOnes: 0b11111111111111111111111111111111\n",
    "2. Left Mask:\n",
    "  * left: 0b11111111111111111111111111100000\n",
    "3. Right Mask:\n",
    "  * right: 0b00000000000000000000000000000011\n",
    "4. Combined Mask:\n",
    "  * mask: 0b11111111111111111111111111100011\n",
    "5. Clear Bits in N:\n",
    "  * n_cleared: 0b10000000000 & 0b11111111111111111111111111100011 = 0b10000000000\n",
    "6. Shift M:\n",
    "  * m_shifted: 0b10011 << 2 = 0b1001100\n",
    "7. Combine:\n",
    "  * result: 0b10000000000 | 0b1001100 = 0b10001001100\n",
    "\n",
    "This method ensures that M is inserted into N starting at bit j and ending at bit i"
   ]
  },
  {
   "cell_type": "markdown",
   "metadata": {},
   "source": [
    "## Example Usage"
   ]
  },
  {
   "cell_type": "markdown",
   "metadata": {},
   "source": [
    "Here's how you can use these methods to determine if a string has all unique characters:"
   ]
  },
  {
   "cell_type": "code",
   "execution_count": 5,
   "metadata": {},
   "outputs": [
    {
     "name": "stdout",
     "output_type": "stream",
     "text": [
      "allOnes: 0xffffffff\n",
      "left: 0x7fffffff80\n",
      "right: 0x3\n",
      "mask: 0x7fffffff83\n",
      "n_cleared: 0x400\n",
      "m_shifted: 0x4c\n",
      "0b10001001100\n"
     ]
    }
   ],
   "source": [
    "N = 0b10000000000\n",
    "M = 0b10011\n",
    "i = 2\n",
    "j = 6\n",
    "\n",
    "result = updateBits(N, M, i, j)\n",
    "print(bin(result))  # Output should be 0b10001001100"
   ]
  },
  {
   "cell_type": "markdown",
   "metadata": {},
   "source": [
    "# Literature\n",
    "\n",
    "The contents base on the following literature:\n",
    "\n",
    "* Gayle Laakmann McDowell, *Cracking the Coding Interview*, [Link](https://www.crackingthecodinginterview.com/)."
   ]
  },
  {
   "cell_type": "markdown",
   "metadata": {},
   "source": [
    "**Copyright**\n",
    "\n",
    "The notebooks are provided as [Open Educational Resources](https://en.wikipedia.org/wiki/Open_educational_resources). Feel free to use the notebooks for your own purposes. The text is licensed under [Creative Commons Attribution 4.0](https://creativecommons.org/licenses/by/4.0/), the code of the IPython examples under the [MIT license](https://opensource.org/licenses/MIT)."
   ]
  }
 ],
 "metadata": {
  "kernelspec": {
   "display_name": "Python 3",
   "language": "python",
   "name": "python3"
  },
  "language_info": {
   "codemirror_mode": {
    "name": "ipython",
    "version": 3
   },
   "file_extension": ".py",
   "mimetype": "text/x-python",
   "name": "python",
   "nbconvert_exporter": "python",
   "pygments_lexer": "ipython3",
   "version": "3.10.12"
  },
  "nav_menu": {},
  "toc": {
   "navigate_menu": true,
   "number_sections": true,
   "sideBar": true,
   "threshold": 6,
   "toc_cell": false,
   "toc_section_display": "block",
   "toc_window_display": false
  }
 },
 "nbformat": 4,
 "nbformat_minor": 4
}
