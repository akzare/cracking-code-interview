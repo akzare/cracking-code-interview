{
 "cells": [
  {
   "cell_type": "markdown",
   "metadata": {},
   "source": [
    "# Problem Description"
   ]
  },
  {
   "cell_type": "markdown",
   "metadata": {},
   "source": [
    "An ant is sitting on an infinite grid of white and black squares. Initially, the grid is all white and the ant faces right. At each step, it does the following:\n",
    "1. At a white square, flip the color of the square, turn 90 degree right (clockwise), and move forward one unit.\n",
    "2. At a black sqaure, flip the color of the square, turn 90 degree left (counter-clockwise), andmove forward one unit.\n",
    "\n",
    "Write a program to simulate the first K moves that the ant makes and print the final board as a grid.\n",
    "Note that you are not provided with the data structure to represent the grid. This is something you must design yourself. The only input to your method is K. You should print the final grid and return\n",
    "nothing. The method signature might be something like void PrintKMoves(int K)."
   ]
  },
  {
   "cell_type": "markdown",
   "metadata": {},
   "source": [
    "### Summary"
   ]
  },
  {
   "cell_type": "markdown",
   "metadata": {},
   "source": [
    "The code simulates the movement of an ant on an infinite grid based on specific rules:\n",
    "   * If the ant is on a white square, it flips the color to black, turns 90 degrees right, and moves forward one unit.\n",
    "   * If the ant is on a black square, it flips the color to white, turns 90 degrees left, and moves forward one unit.\n",
    "\n",
    "This code sets up an infinite grid using a dynamically growing 2D list. It simulates the movements of the ant according to the rules and prints the final state of the grid after K moves."
   ]
  },
  {
   "cell_type": "markdown",
   "metadata": {},
   "source": [
    "### Position Class"
   ]
  },
  {
   "cell_type": "markdown",
   "metadata": {},
   "source": [
    "* Purpose: Represents the ant's position on the grid with row and column coordinates.\n",
    "* Methods:\n",
    "   * equals(other): Checks if two positions are equal.\n",
    "   * hash_code(): Generates a hash code for the position.\n",
    "   * clone(): Creates a copy of the position."
   ]
  },
  {
   "cell_type": "code",
   "execution_count": 2,
   "metadata": {},
   "outputs": [],
   "source": [
    "class Position:\n",
    "    '''\n",
    "    Position Class\n",
    "        Position(row: int, column: int): Represents a position on the grid with row and column coordinates.\n",
    "        Equals(other: 'Position') -> bool: Checks if two positions are equal.\n",
    "        hash_code() -> int: Generates a hash code for the position, used for comparisons.\n",
    "        clone() -> 'Position': Creates a copy of the position.\n",
    "    '''\n",
    "    def __init__(self, row: int, column: int):\n",
    "        self.row: int = row\n",
    "        self.column: int = column\n",
    "\n",
    "    def equals(self, other: 'Position') -> bool:\n",
    "        return self.row == other.row and self.column == other.column\n",
    "\n",
    "    def hash_code(self) -> int:\n",
    "        return (self.row * 31) ^ self.column\n",
    "\n",
    "    def clone(self) -> 'Position':\n",
    "        return Position(self.row, self.column)"
   ]
  },
  {
   "cell_type": "markdown",
   "metadata": {},
   "source": [
    "### OrientationEnum Enum"
   ]
  },
  {
   "cell_type": "markdown",
   "metadata": {},
   "source": [
    "Defines the possible directions the ant can face: LEFT, UP, RIGHT, and DOWN."
   ]
  },
  {
   "cell_type": "code",
   "execution_count": 3,
   "metadata": {},
   "outputs": [],
   "source": [
    "from enum import Enum\n",
    "\n",
    "class OrientationEnum(Enum):\n",
    "    '''\n",
    "    OrientationEnum Enum\n",
    "        Defines the possible orientations of the ant: LEFT, UP, RIGHT, and DOWN.\n",
    "    '''\n",
    "    LEFT = 1\n",
    "    UP = 2\n",
    "    RIGHT = 3\n",
    "    DOWN = 4"
   ]
  },
  {
   "cell_type": "markdown",
   "metadata": {},
   "source": [
    "### Orientation Class"
   ]
  },
  {
   "cell_type": "markdown",
   "metadata": {},
   "source": [
    "* Purpose: Represents the current direction the ant is facing.\n",
    "* Methods:\n",
    "   * get_turn(clockwise): Determines the new direction based on a clockwise or counterclockwise turn."
   ]
  },
  {
   "cell_type": "code",
   "execution_count": 4,
   "metadata": {},
   "outputs": [],
   "source": [
    "class Orientation:\n",
    "    '''\n",
    "    Orientation Class\n",
    "        Orientation(orientation: OrientationEnum): Represents the current orientation of the ant.\n",
    "        get_turn(clockwise: bool) -> OrientationEnum: Determines the new orientation based on a clockwise or counterclockwise turn.\n",
    "    '''\n",
    "    def __init__(self, orientation: OrientationEnum):\n",
    "        self.orient: OrientationEnum = orientation\n",
    "\n",
    "    def get_turn(self, clockwise: bool) -> OrientationEnum:\n",
    "        if self.orient == OrientationEnum.LEFT:\n",
    "            return OrientationEnum.UP if clockwise else OrientationEnum.DOWN\n",
    "        elif self.orient == OrientationEnum.UP:\n",
    "            return OrientationEnum.RIGHT if clockwise else OrientationEnum.LEFT\n",
    "        elif self.orient == OrientationEnum.RIGHT:\n",
    "            return OrientationEnum.DOWN if clockwise else OrientationEnum.UP\n",
    "        else:\n",
    "            return OrientationEnum.LEFT if clockwise else OrientationEnum.RIGHT"
   ]
  },
  {
   "cell_type": "markdown",
   "metadata": {},
   "source": [
    "### Ant Class"
   ]
  },
  {
   "cell_type": "markdown",
   "metadata": {},
   "source": [
    "* Purpose: Represents the ant with its position and direction.\n",
    "* Methods:\n",
    "   * turn(clockwise): Turns the ant 90 degrees clockwise or counterclockwise.\n",
    "   * move(): Moves the ant one unit forward in the current direction.\n",
    "   * adjust_position(shift_row, shift_column): Adjusts the ant's position when the grid expands."
   ]
  },
  {
   "cell_type": "code",
   "execution_count": 5,
   "metadata": {},
   "outputs": [],
   "source": [
    "class Ant:\n",
    "    '''\n",
    "    Ant Class\n",
    "        Ant(): Initializes the ant with a starting position (0, 0) and facing RIGHT.\n",
    "        turn(clockwise: bool) -> None: Turns the ant 90 degrees clockwise or counterclockwise.\n",
    "        move() -> None: Moves the ant one unit forward in the current direction.\n",
    "        adjust_position(shift_row: int, shift_column: int) -> None: Adjusts the position of the ant when the grid is expanded.\n",
    "    '''\n",
    "    def __init__(self):\n",
    "        self.position: Position = Position(0, 0)\n",
    "        self.orientation: Orientation = Orientation(OrientationEnum.RIGHT)\n",
    "\n",
    "    def turn(self, clockwise: bool) -> None:\n",
    "        self.orientation.orient = self.orientation.get_turn(clockwise)\n",
    "\n",
    "    def move(self) -> None:\n",
    "        if self.orientation.orient == OrientationEnum.LEFT:\n",
    "            self.position.column -= 1\n",
    "        elif self.orientation.orient == OrientationEnum.RIGHT:\n",
    "            self.position.column += 1\n",
    "        elif self.orientation.orient == OrientationEnum.UP:\n",
    "            self.position.row -= 1\n",
    "        elif self.orientation.orient == OrientationEnum.DOWN:\n",
    "            self.position.row += 1\n",
    "\n",
    "    def adjust_position(self, shift_row: int, shift_column: int) -> None:\n",
    "        self.position.row += shift_row\n",
    "        self.position.column += shift_column"
   ]
  },
  {
   "cell_type": "markdown",
   "metadata": {},
   "source": [
    "### Grid Class"
   ]
  },
  {
   "cell_type": "markdown",
   "metadata": {},
   "source": [
    "* Purpose: Represents the infinite grid and manages the ant's movements.\n",
    "* Methods:\n",
    "   * copy_with_shift(old_grid, new_grid, shift_row, shift_column): Copies the old grid to a new grid with a specified shift.\n",
    "   * ensure_fit(position): Expands the grid if necessary to accommodate the ant's new position.\n",
    "   * flip(position): Flips the color of the cell at the given position.\n",
    "   * move(): Performs the ant's move (turn, flip, move forward) and ensures the grid can fit the new position.\n",
    "   * print_grid(): Prints the current state of the grid, where 'X' represents a black cell and '_' represents a white cell."
   ]
  },
  {
   "cell_type": "code",
   "execution_count": 6,
   "metadata": {},
   "outputs": [],
   "source": [
    "class Grid:\n",
    "    '''\n",
    "    This program sets up an infinite grid using a dynamic 2D list. It simulates the movements of the ant according to the rules and\n",
    "    prints the final state of the grid after K moves.\n",
    "    \n",
    "    Grid Class\n",
    "        Grid(): Initializes the grid and the ant.\n",
    "        copy_with_shift(old_grid: list[list[bool]], new_grid: list[list[bool]], shift_row: int, shift_column: int) -> None: Copies the old grid to a new grid with a specified shift.\n",
    "        ensure_fit(position: Position) -> None: Ensures that the grid can accommodate the ant's new position by expanding it if necessary.\n",
    "        flip(position: Position) -> None: Flips the color of the cell at the given position.\n",
    "        move() -> None: Turns, flips, and moves the ant. It also ensures the grid is large enough to accommodate the ant's new position.\n",
    "        print_grid() -> None: Prints the current state of the grid, where 'X' represents a black cell and '_' represents a white cell.\n",
    "    '''\n",
    "    def __init__(self):\n",
    "        self.grid: list[list[bool]] = [[False]]\n",
    "        self.ant: Ant = Ant()\n",
    "\n",
    "    def copy_with_shift(self, old_grid: list[list[bool]], new_grid: list[list[bool]], shift_row: int, shift_column: int) -> None:\n",
    "        for r in range(len(old_grid)):\n",
    "            for c in range(len(old_grid[0])):\n",
    "                new_grid[r + shift_row][c + shift_column] = old_grid[r][c]\n",
    "\n",
    "    def ensure_fit(self, position: Position) -> None:\n",
    "        shift_row: int = 0\n",
    "        shift_column: int = 0\n",
    "        num_rows: int = len(self.grid)\n",
    "        if position.row < 0:\n",
    "            shift_row = num_rows\n",
    "            num_rows += num_rows\n",
    "        elif position.row >= num_rows:\n",
    "            num_rows *= 2\n",
    "\n",
    "        num_columns: int = len(self.grid[0])\n",
    "        if position.column < 0:\n",
    "            shift_column = num_columns\n",
    "            num_columns += num_columns\n",
    "        elif position.column >= num_columns:\n",
    "            num_columns *= 2\n",
    "\n",
    "        if num_rows != len(self.grid) or num_columns != len(self.grid[0]):\n",
    "            new_grid: list[list[bool]] = [[False for _ in range(num_columns)] for _ in range(num_rows)]\n",
    "            self.copy_with_shift(self.grid, new_grid, shift_row, shift_column)\n",
    "            self.ant.adjust_position(shift_row, shift_column)\n",
    "            self.grid = new_grid\n",
    "\n",
    "    def flip(self, position: Position) -> None:\n",
    "        row: int = position.row\n",
    "        column: int = position.column\n",
    "        self.grid[row][column] = not self.grid[row][column]\n",
    "\n",
    "    def move(self):\n",
    "        self.ant.turn(not self.grid[self.ant.position.row][self.ant.position.column])\n",
    "        self.flip(self.ant.position)\n",
    "        self.ant.move()\n",
    "        self.ensure_fit(self.ant.position)\n",
    "\n",
    "    def print_grid(self) -> None:\n",
    "        top_left: Position = Position(0, 0)\n",
    "        bottom_right: Position = Position(len(self.grid) - 1, len(self.grid[0]) - 1)\n",
    "        for r in range(top_left.row, bottom_right.row + 1):\n",
    "            line = ''\n",
    "            for c in range(top_left.column, bottom_right.column + 1):\n",
    "                line += 'X' if self.grid[r][c] else '_'\n",
    "            print(line)"
   ]
  },
  {
   "cell_type": "markdown",
   "metadata": {},
   "source": [
    "## Example Usage"
   ]
  },
  {
   "cell_type": "markdown",
   "metadata": {},
   "source": [
    "Here's how you can use these methods to find the pair of values:"
   ]
  },
  {
   "cell_type": "code",
   "execution_count": 7,
   "metadata": {},
   "outputs": [
    {
     "name": "stdout",
     "output_type": "stream",
     "text": [
      "____\n",
      "__X_\n",
      "XXX_\n",
      "XX__\n"
     ]
    }
   ],
   "source": [
    "def PrintKMovesGrid(K: int) -> None:\n",
    "    grid = Grid()\n",
    "    for _ in range(K):\n",
    "        grid.move()\n",
    "    grid.print_grid()\n",
    "\n",
    "\n",
    "# Example usage:\n",
    "# In this example, PrintKMoves(10) will simulate 10 moves of the ant and print the grid.\n",
    "PrintKMovesGrid(10)"
   ]
  },
  {
   "cell_type": "markdown",
   "metadata": {},
   "source": [
    "# Literature\n",
    "\n",
    "The contents base on the following literature:\n",
    "\n",
    "* Gayle Laakmann McDowell, *Cracking the Coding Interview*, [Link](https://www.crackingthecodinginterview.com/)."
   ]
  },
  {
   "cell_type": "markdown",
   "metadata": {},
   "source": [
    "**Copyright**\n",
    "\n",
    "The notebooks are provided as [Open Educational Resources](https://en.wikipedia.org/wiki/Open_educational_resources). Feel free to use the notebooks for your own purposes. The text is licensed under [Creative Commons Attribution 4.0](https://creativecommons.org/licenses/by/4.0/), the code of the IPython examples under the [MIT license](https://opensource.org/licenses/MIT)."
   ]
  }
 ],
 "metadata": {
  "kernelspec": {
   "display_name": "Python 3",
   "language": "python",
   "name": "python3"
  },
  "language_info": {
   "codemirror_mode": {
    "name": "ipython",
    "version": 3
   },
   "file_extension": ".py",
   "mimetype": "text/x-python",
   "name": "python",
   "nbconvert_exporter": "python",
   "pygments_lexer": "ipython3",
   "version": "3.10.12"
  },
  "nav_menu": {},
  "toc": {
   "navigate_menu": true,
   "number_sections": true,
   "sideBar": true,
   "threshold": 6,
   "toc_cell": false,
   "toc_section_display": "block",
   "toc_window_display": false
  }
 },
 "nbformat": 4,
 "nbformat_minor": 4
}
