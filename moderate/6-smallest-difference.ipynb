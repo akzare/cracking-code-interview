{
 "cells": [
  {
   "cell_type": "markdown",
   "metadata": {},
   "source": [
    "# Problem Description"
   ]
  },
  {
   "cell_type": "markdown",
   "metadata": {},
   "source": [
    "Given two arrays of integers, compute the pair of values (one vlue in each array) with the smallest (non-negative) differnce. Return the difference."
   ]
  },
  {
   "cell_type": "markdown",
   "metadata": {},
   "source": [
    "# Solution"
   ]
  },
  {
   "cell_type": "markdown",
   "metadata": {},
   "source": [
    "This solution provides two methods to compute the pair of values (one value from each array) with the smallest non-negative difference and return that difference."
   ]
  },
  {
   "cell_type": "markdown",
   "metadata": {},
   "source": [
    "### Brute Force Approach"
   ]
  },
  {
   "cell_type": "markdown",
   "metadata": {},
   "source": [
    "The brute force approach compares every possible pair of elements from both arrays, resulting in an 𝑂(𝑛×𝑚) time complexity, where 𝑛 and 𝑚 are the lengths of the arrays arrayA and arrayB, respectively."
   ]
  },
  {
   "cell_type": "code",
   "execution_count": 4,
   "metadata": {},
   "outputs": [],
   "source": [
    "def FindSmallestDifferenceBruteForce(arrayA: list[int], arrayB: list[int]) -> int:\n",
    "    '''\n",
    "    The FindSmallestDifferenceBruteForce method computes the smallest\n",
    "    difference using a brute force approach.\n",
    "    Parameters:\n",
    "        arrayA: List of integers (first array).\n",
    "        arrayB: List of integers (second array).\n",
    "    Returns:\n",
    "        The smallest non-negative difference between any pair of values (one from each array).\n",
    "    Logic:\n",
    "        Initialize smallestDifference with a large value (float('inf')).\n",
    "        Iterate over each element in arrayA and arrayB and compute the absolute difference.\n",
    "        Update smallestDifference with the minimum difference found.\n",
    "        Return the smallestDifference.\n",
    "    '''\n",
    "    if len(arrayA) == 0 or len(arrayB) == 0:\n",
    "        return -1\n",
    "    smallestDifference: int = float('inf')\n",
    "    for a in arrayA:\n",
    "        for b in arrayB:\n",
    "            smallestDifference = min(smallestDifference, abs(a - b))\n",
    "    return smallestDifference"
   ]
  },
  {
   "cell_type": "markdown",
   "metadata": {},
   "source": [
    "### Optimal Approach"
   ]
  },
  {
   "cell_type": "markdown",
   "metadata": {},
   "source": [
    "The optimal approach first sorts both arrays, then uses two pointers to find the smallest difference in 𝑂(𝑛+𝑚) time complexity, after an initial sorting step that takes 𝑂(𝑛log𝑛+𝑚log𝑚)."
   ]
  },
  {
   "cell_type": "code",
   "execution_count": 5,
   "metadata": {},
   "outputs": [],
   "source": [
    "def FindSmallestDifferenceOptimal(arrayA: list[int], arrayB: list[int]) -> int:\n",
    "    '''\n",
    "    The FindSmallestDifferenceOptimal method computes the smallest difference\n",
    "    using a more efficient approach.\n",
    "    Parameters:\n",
    "        arrayA: List of integers (first array).\n",
    "        arrayB: List of integers (second array).\n",
    "    Returns:\n",
    "        The smallest non-negative difference between any pair of values (one from each array).\n",
    "    Logic:\n",
    "        Check if either array is empty, return -1 if true.\n",
    "        Sort both arrays.\n",
    "        Initialize two pointers, indexA and indexB, to the start of arrayA and arrayB respectively.\n",
    "        Use a while loop to iterate through both arrays, comparing elements and updating the\n",
    "        smallest difference.\n",
    "        Return the smallestDifference.\n",
    "    '''\n",
    "    if len(arrayA) == 0 or len(arrayB) == 0:\n",
    "        return -1\n",
    "    arrayA.sort()\n",
    "    arrayB.sort()\n",
    "    indexA: int = 0\n",
    "    indexB: int = 0\n",
    "    smallestDifference: int = float('inf')\n",
    "    while indexA < len(arrayA) and indexB < len(arrayB):\n",
    "        difference: int = abs(arrayA[indexA] - arrayB[indexB])\n",
    "        smallestDifference = min(smallestDifference, difference)\n",
    "        if arrayA[indexA] < arrayB[indexB]:\n",
    "            indexA += 1\n",
    "        else:\n",
    "            indexB += 1\n",
    "    return smallestDifference"
   ]
  },
  {
   "cell_type": "markdown",
   "metadata": {},
   "source": [
    "## Example Usage"
   ]
  },
  {
   "cell_type": "markdown",
   "metadata": {},
   "source": [
    "Here's how you can use these methods to find the smallest difference between pairs of values from two arrays:"
   ]
  },
  {
   "cell_type": "code",
   "execution_count": 6,
   "metadata": {},
   "outputs": [
    {
     "name": "stdout",
     "output_type": "stream",
     "text": [
      "Brute Force Smallest Difference: 3 Execution time:330.39 microseconds\n",
      "Optimal Smallest Difference: 3 Execution time:180.84 microseconds\n"
     ]
    }
   ],
   "source": [
    "import time\n",
    "\n",
    "# Example input arrays\n",
    "arrayA = [1, 3, 15, 11, 2]\n",
    "arrayB = [23, 127, 235, 19, 8]\n",
    "\n",
    "# Using brute force approach\n",
    "start_time = time.perf_counter()\n",
    "smallest_diff_brute_force = FindSmallestDifferenceBruteForce(arrayA, arrayB)  # Output: 3\n",
    "end_time = time.perf_counter()\n",
    "execution_time = (end_time - start_time) * 1_000_000  # Convert to microseconds\n",
    "print(f\"Brute Force Smallest Difference: {smallest_diff_brute_force} Execution time:{execution_time:.2f} microseconds\")\n",
    "\n",
    "# Using optimal approach\n",
    "start_time = time.perf_counter()\n",
    "smallest_diff_optimal = FindSmallestDifferenceOptimal(arrayA, arrayB)  # Output: 3\n",
    "end_time = time.perf_counter()\n",
    "execution_time = (end_time - start_time) * 1_000_000  # Convert to microseconds\n",
    "print(f\"Optimal Smallest Difference: {smallest_diff_optimal} Execution time:{execution_time:.2f} microseconds\")"
   ]
  },
  {
   "cell_type": "markdown",
   "metadata": {},
   "source": [
    "# Literature\n",
    "\n",
    "The contents base on the following literature:\n",
    "\n",
    "* Gayle Laakmann McDowell, *Cracking the Coding Interview*, [Link](https://www.crackingthecodinginterview.com/)."
   ]
  },
  {
   "cell_type": "markdown",
   "metadata": {},
   "source": [
    "**Copyright**\n",
    "\n",
    "The notebooks are provided as [Open Educational Resources](https://en.wikipedia.org/wiki/Open_educational_resources). Feel free to use the notebooks for your own purposes. The text is licensed under [Creative Commons Attribution 4.0](https://creativecommons.org/licenses/by/4.0/), the code of the IPython examples under the [MIT license](https://opensource.org/licenses/MIT)."
   ]
  }
 ],
 "metadata": {
  "kernelspec": {
   "display_name": "Python 3",
   "language": "python",
   "name": "python3"
  },
  "language_info": {
   "codemirror_mode": {
    "name": "ipython",
    "version": 3
   },
   "file_extension": ".py",
   "mimetype": "text/x-python",
   "name": "python",
   "nbconvert_exporter": "python",
   "pygments_lexer": "ipython3",
   "version": "3.10.12"
  },
  "nav_menu": {},
  "toc": {
   "navigate_menu": true,
   "number_sections": true,
   "sideBar": true,
   "threshold": 6,
   "toc_cell": false,
   "toc_section_display": "block",
   "toc_window_display": false
  }
 },
 "nbformat": 4,
 "nbformat_minor": 4
}
