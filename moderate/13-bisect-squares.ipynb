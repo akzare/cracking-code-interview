{
 "cells": [
  {
   "cell_type": "markdown",
   "metadata": {},
   "source": [
    "# Problem Description"
   ]
  },
  {
   "cell_type": "markdown",
   "metadata": {},
   "source": [
    "Given two squares on a two dimensional plane, find a line that would cut these two squares in half. Assume that the top and bottom sides of the square run parallel to the x-axis."
   ]
  },
  {
   "cell_type": "markdown",
   "metadata": {},
   "source": [
    "# Solution"
   ]
  },
  {
   "cell_type": "markdown",
   "metadata": {},
   "source": [
    "The code involves creating classes to represent points, lines, and squares, and then uses these classes to find the line that intersects both squares at their midpoints."
   ]
  },
  {
   "cell_type": "markdown",
   "metadata": {},
   "source": [
    "### Point Class"
   ]
  },
  {
   "cell_type": "markdown",
   "metadata": {},
   "source": [
    "Represents a point on the graph with x and y coordinates."
   ]
  },
  {
   "cell_type": "code",
   "execution_count": 2,
   "metadata": {},
   "outputs": [],
   "source": [
    "class Point:\n",
    "    def __init__(self, x: float, y: float) -> None:\n",
    "        self.x = x\n",
    "        self.y = y"
   ]
  },
  {
   "cell_type": "markdown",
   "metadata": {},
   "source": [
    "### Line Class"
   ]
  },
  {
   "cell_type": "markdown",
   "metadata": {},
   "source": [
    "Represents a line defined by two points. It calculates the slope and y-intercept of the line."
   ]
  },
  {
   "cell_type": "code",
   "execution_count": 3,
   "metadata": {},
   "outputs": [],
   "source": [
    "class Line:\n",
    "    def __init__(self, start: Point, end: Point) -> None:\n",
    "        self.slope: float = 0\n",
    "        self.yintercept: float = 0\n",
    "        self.start: Point = start\n",
    "        self.end: Point = end\n",
    "        if start.x == end.x:\n",
    "            self.slope = float('inf')  # PositiveInfinity\n",
    "            self.yintercept = float('inf')  # PositiveInfinity\n",
    "        else:\n",
    "            self.slope = (end.y - start.y) / (end.x - start.x)\n",
    "            self.yintercept = end.y - self.slope * end.x"
   ]
  },
  {
   "cell_type": "markdown",
   "metadata": {},
   "source": [
    "### Square Class"
   ]
  },
  {
   "cell_type": "markdown",
   "metadata": {},
   "source": [
    "Represents a square defined by its left, right, top, and bottom coordinates.\n",
    "   * Middle(): Returns the middle point of the square.\n",
    "   * Extend(): Extends a line segment connecting two middle points until it intersects the edge of the square.\n",
    "   * Cut(): Finds the line that cuts both squares in half:\n",
    "       * Calculates the middle points of both squares.\n",
    "       * Uses Extend() to determine where the line segment intersects the edges of both squares.\n",
    "       * Determines the start and end points of the line based on these intersections."
   ]
  },
  {
   "cell_type": "code",
   "execution_count": 4,
   "metadata": {},
   "outputs": [],
   "source": [
    "class Square:\n",
    "    def __init__(self, left: float, right: float, top: float, bottom: float):\n",
    "        self.left: float = left\n",
    "        self.right: float = right\n",
    "        self.top: float = top\n",
    "        self.bottom: float = bottom\n",
    "        self.size: float = right - left\n",
    "\n",
    "    def Middle(self) -> Point:\n",
    "        return Point((self.left + self.right) / 2.0,\n",
    "                     (self.top + self.bottom) / 2.0)\n",
    "\n",
    "    def Extend(self, mid1: Point, mid2: Point, size: float) -> Point:\n",
    "        # Find what direction the line mid2 -> mid1 goes\n",
    "        xdir: float = -1 if (mid1.x < mid2.x) else 1\n",
    "        ydir: float = -1 if (mid1.y < mid2.y) else 1\n",
    "        # If mid1 and mid2 have the same x value, then the slope calculation will\n",
    "        # throw a divide by 0 exception. So, we compute this specially.\n",
    "        if mid1.x == mid2.x:\n",
    "            return Point(mid1.x, mid1.y + ydir * size / 2.0)\n",
    "        slope: float = (mid1.y - mid2.y) / (mid1.x - mid2.x)\n",
    "        x1: float = 0.0\n",
    "        y1: float = 0.0\n",
    "        # Calculate slope using the equation (y1-y2)/(x1-x2).\n",
    "        # Note: If the slope is \"steep\" (>1) then the end of the line segment will\n",
    "        # hit size/2 units away from the middle on the y axis. If the slope is\n",
    "        # \"shallow\" (<1) the end of the line segment will hit size/2 units away\n",
    "        # from the middle on the x axis.\n",
    "        if abs(slope) == 1:\n",
    "            x1 = mid1.x + xdir * size / 2.0\n",
    "            y1 = mid1.y + ydir * size / 2.0\n",
    "        elif abs(slope) < 1:  # shallow slope\n",
    "            x1 = mid1.x + xdir * size / 2.0\n",
    "            y1 = slope * (x1 - mid1.x) + mid1.y\n",
    "        else:  # Steep slope\n",
    "            y1 = mid1.y + ydir * size / 2.0\n",
    "            x1 = (y1 - mid1.y) / slope + mid1.x\n",
    "        return Point(x1, y1)\n",
    "\n",
    "    def Cut(self, other: 'Square') -> Line:\n",
    "        # Calculate where a line between each middle would collide with the edges of\n",
    "        # the squares\n",
    "        p1: Point = other.Extend(self.Middle(), other.Middle(), self.size)\n",
    "        p2: Point = other.Extend(self.Middle(), other.Middle(), -self.size)\n",
    "        p3: Point = other.Extend(other.Middle(), self.Middle(), other.size)\n",
    "        p4: Point = other.Extend(other.Middle(), self.Middle(), -other.size)\n",
    "        # Of above points, finds start and end of line. Start is farthest left (with\n",
    "        # top most as a tie breaker) and end is farthest right (with bottom most as\n",
    "        # a tie breaker)\n",
    "        start: Point = p1\n",
    "        end: Point = p1\n",
    "        points: list[Point] = [p2, p3, p4]\n",
    "        for point in points:\n",
    "            if point.x < start.x or (point.x == start.x and point.y < start.y):\n",
    "                start = point\n",
    "            elif point.x > end.x or (point.x == end.x and point.y > end.y):\n",
    "                end = point\n",
    "        return Line(start, end)"
   ]
  },
  {
   "cell_type": "markdown",
   "metadata": {},
   "source": [
    "## Example Usage"
   ]
  },
  {
   "cell_type": "markdown",
   "metadata": {},
   "source": [
    "Here's how you can use these methods:"
   ]
  },
  {
   "cell_type": "code",
   "execution_count": 5,
   "metadata": {},
   "outputs": [
    {
     "name": "stdout",
     "output_type": "stream",
     "text": [
      "Line starts at (1.0, 1.0) and ends at (6.0, 6.0)\n"
     ]
    }
   ],
   "source": [
    "square1 = Square(1, 3, 3, 1)\n",
    "square2 = Square(4, 6, 6, 4)\n",
    "\n",
    "line = square1.Cut(square2)\n",
    "print(f\"Line starts at ({line.start.x}, {line.start.y}) and ends at ({line.end.x}, {line.end.y})\")"
   ]
  },
  {
   "cell_type": "markdown",
   "metadata": {},
   "source": [
    "# Literature\n",
    "\n",
    "The contents base on the following literature:\n",
    "\n",
    "* Gayle Laakmann McDowell, *Cracking the Coding Interview*, [Link](https://www.crackingthecodinginterview.com/)."
   ]
  },
  {
   "cell_type": "markdown",
   "metadata": {},
   "source": [
    "**Copyright**\n",
    "\n",
    "The notebooks are provided as [Open Educational Resources](https://en.wikipedia.org/wiki/Open_educational_resources). Feel free to use the notebooks for your own purposes. The text is licensed under [Creative Commons Attribution 4.0](https://creativecommons.org/licenses/by/4.0/), the code of the IPython examples under the [MIT license](https://opensource.org/licenses/MIT)."
   ]
  }
 ],
 "metadata": {
  "kernelspec": {
   "display_name": "Python 3",
   "language": "python",
   "name": "python3"
  },
  "language_info": {
   "codemirror_mode": {
    "name": "ipython",
    "version": 3
   },
   "file_extension": ".py",
   "mimetype": "text/x-python",
   "name": "python",
   "nbconvert_exporter": "python",
   "pygments_lexer": "ipython3",
   "version": "3.10.12"
  },
  "nav_menu": {},
  "toc": {
   "navigate_menu": true,
   "number_sections": true,
   "sideBar": true,
   "threshold": 6,
   "toc_cell": false,
   "toc_section_display": "block",
   "toc_window_display": false
  }
 },
 "nbformat": 4,
 "nbformat_minor": 4
}
