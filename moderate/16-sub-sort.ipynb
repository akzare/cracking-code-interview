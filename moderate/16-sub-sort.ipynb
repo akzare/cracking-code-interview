{
 "cells": [
  {
   "cell_type": "markdown",
   "metadata": {},
   "source": [
    "# Problem Description"
   ]
  },
  {
   "cell_type": "markdown",
   "metadata": {},
   "source": [
    "Given an array of integers, write a method to find indices m and n such that if you sorted elements in m through n, the entire array would be sorted. Minimize n-m (that is, find the smallest such sequence).\n",
    "* Example:\n",
    "   * Input: 1,2,4,7,10,11,7,12,6,7,16,18,19\n",
    "   * Output: (3,9)"
   ]
  },
  {
   "cell_type": "markdown",
   "metadata": {},
   "source": [
    "# Solution"
   ]
  },
  {
   "cell_type": "markdown",
   "metadata": {},
   "source": [
    "The solution provided addresses the: Given an array of integers, we need to find indices m and n such that sorting the elements between these indices would result in the entire array being sorted. The goal is to minimize n - m, which means finding the smallest such sequence."
   ]
  },
  {
   "cell_type": "markdown",
   "metadata": {},
   "source": [
    "### Algorithm 1: Find Unsorted Sequence"
   ]
  },
  {
   "cell_type": "markdown",
   "metadata": {},
   "source": [
    "This algorithm identifies the unsorted sequence in the array and adjusts the indices to ensure the entire array is sorted when this subsequence is sorted.\n",
    "\n",
    "#### Steps\n",
    "1. **Find the End of the Left Subsequence**:\n",
    "   * Traverse the array from left to right to find the end of the left sorted subsequence.\n",
    "   * This is done by finding the first element that is greater than the next element.\n",
    "   * For example, in the array [1, 2, 4, 7, 10, 11, 7, 12, 6, 7, 16, 18, 19], the end of the left subsequence is at index 5 (11).\n",
    "2. **Find the Start of the Right Subsequence**:\n",
    "   * Traverse the array from right to left to find the start of the right sorted subsequence.\n",
    "   * This is done by finding the first element that is less than the previous element.\n",
    "   * For example, in the array [1, 2, 4, 7, 10, 11, 7, 12, 6, 7, 16, 18, 19], the start of the right subsequence is at index 6 (7).\n",
    "3. **Find the Minimum and Maximum in the Unsorted Subsequence**:\n",
    "   * Identify the minimum and maximum values within the unsorted sequence (between the end of the left subsequence and the start of the right subsequence).\n",
    "   * In the array [1, 2, 4, 7, 10, 11, 7, 12, 6, 7, 16, 18, 19], the unsorted subsequence is [7, 12, 6, 7].\n",
    "   * The minimum value is 6 and the maximum value is 12.\n",
    "4. **Adjust the Left Index**:\n",
    "   * Traverse the left part of the array to adjust the left index to include any values greater than the minimum of the unsorted sequence.\n",
    "   * In the example array, the adjusted left index is 3.\n",
    "5. **Adjust the Right Index**:\n",
    "   * Traverse the right part of the array to adjust the right index to include any values less than the maximum of the unsorted sequence.\n",
    "   * In the example array, the adjusted right index is 9.\n",
    "6. **Return the Indices**:\n",
    "   * The indices m and n are 3 and 9, respectively."
   ]
  },
  {
   "cell_type": "code",
   "execution_count": 9,
   "metadata": {},
   "outputs": [],
   "source": [
    "class Range:\n",
    "    def __init__(self, start:int, end:int):\n",
    "        self.start = start\n",
    "        self.end = end\n",
    "\n",
    "def FindUnsortedSequenceAlgo1(array: list[int]) -> Range:\n",
    "    '''\n",
    "    FindUnsortedSequenceAlgo1\n",
    "    This method uses a step-by-step approach to find the unsorted sequence:\n",
    "        FindEndOfLeftSubseqeunce: Identify the end of the left subsequence\n",
    "        that is already sorted.\n",
    "        FindStartOfRightSubseqeunce: Identify the start of the right subsequence\n",
    "        that is already sorted.\n",
    "        Find min and max: Determine the minimum and maximum values within the\n",
    "        unsorted sequence.\n",
    "        ShrinkLeft: Adjust the left index to include any values greater than\n",
    "        the minimum of the unsorted sequence.\n",
    "        ShrinkRight: Adjust the right index to include any values less than\n",
    "        the maximum of the unsorted sequence.\n",
    "    '''\n",
    "    end_left: int = FindEndOfLeftSubseqeunce(array)\n",
    "    if end_left >= len(array) - 1:\n",
    "        return  # Already sorted\n",
    "    start_right: int = FindStartOfRightSubseqeunce(array)\n",
    "    max_index: int = end_left  # max of left side\n",
    "    min_index: int = start_right  # min of right side\n",
    "    for i in range(end_left + 1, start_right):\n",
    "        if array[i] < array[min_index]:\n",
    "            min_index = i\n",
    "        if array[i] > array[max_index]:\n",
    "            max_index = i\n",
    "    left_index: int = ShrinkLeft(array, min_index, end_left)\n",
    "    right_index: int = ShrinkRight(array, max_index, start_right)\n",
    "    return Range(left_index, right_index)\n",
    "\n",
    "def FindEndOfLeftSubseqeunce(array: list[int]) -> int:\n",
    "    for i in range(1, len(array)):\n",
    "        if array[i] < array[i - 1]:\n",
    "            return i - 1\n",
    "    return len(array) - 1\n",
    "\n",
    "def FindStartOfRightSubseqeunce(array: list[int]) -> int:\n",
    "    for i in range(len(array) - 2, -1, -1):\n",
    "        if array[i] > array[i + 1]:\n",
    "            return i + 1\n",
    "    return 0\n",
    "\n",
    "def ShrinkLeft(array: list[int], min_index: int, start: int) -> int:\n",
    "    comp: int = array[min_index]\n",
    "    for i in range(start - 1, -1, -1):\n",
    "        if array[i] <= comp:\n",
    "            return i + 1\n",
    "    return 0\n",
    "\n",
    "def ShrinkRight(array: list[int], max_index: int, start: int) -> int:\n",
    "    comp: int = array[max_index]\n",
    "    for i in range(start, len(array)):\n",
    "        if array[i] >= comp:\n",
    "            return i - 1\n",
    "    return len(array) - 1"
   ]
  },
  {
   "cell_type": "markdown",
   "metadata": {},
   "source": [
    "### Algorithm 2: Alternative Approach"
   ]
  },
  {
   "cell_type": "markdown",
   "metadata": {},
   "source": [
    "This algorithm provides an alternative approach by identifying the out-of-order elements directly.\n",
    "\n",
    "#### Steps\n",
    "1. **Find the Last Element of the Right Sequence**:\n",
    "    * Traverse the array from left to right to find the last element that disrupts the order.\n",
    "    * This is done by keeping track of the maximum value seen so far and identifying the last index where the current element is less than this maximum value.\n",
    "    * For example, in the array [1, 2, 4, 7, 10, 11, 7, 12, 6, 7, 16, 18, 19], the last out-of-order element in the right sequence is at index 9 (7).\n",
    "2. **Find the First Element of the Left Sequence**:\n",
    "    * Traverse the array from right to left to find the first element that disrupts the order.\n",
    "    * This is done by keeping track of the minimum value seen so far and identifying the first index where the current element is greater than this minimum value.\n",
    "    * For example, in the array [1, 2, 4, 7, 10, 11, 7, 12, 6, 7, 16, 18, 19], the first out-of-order element in the left sequence is at index 3 (7).\n",
    "3. **Return the Indices**:\n",
    "    * The indices m and n are 3 and 9, respectively."
   ]
  },
  {
   "cell_type": "code",
   "execution_count": 10,
   "metadata": {},
   "outputs": [],
   "source": [
    "def FindUnsortedSequenceAlgo2(array: list[int]) -> Range:\n",
    "    '''\n",
    "    FindUnsortedSequenceAlgo2\n",
    "    This method provides an alternative approach:\n",
    "        FindRightSeqeunceStart: Find the last element of the right\n",
    "        sequence that disrupts the order.\n",
    "        FindLeftSeqeunceStart: Find the first element of the left sequence\n",
    "        that disrupts the order.\n",
    "        Return the range of indices representing the unsorted sequence.\n",
    "    '''\n",
    "    leftSequenceEnd: int = FindRightSeqeunceStart(array)\n",
    "    rightSequenceEnd: int = FindLeftSeqeunceStart(array)\n",
    "    return Range(leftSequenceEnd, rightSequenceEnd)\n",
    "\n",
    "def FindRightSeqeunceStart(array: list[int]) -> int:\n",
    "    max_val: int = float('-inf')\n",
    "    lastNo: int = 0\n",
    "    for i in range(len(array)):\n",
    "        if max_val > array[i]:\n",
    "            lastNo = i\n",
    "        max_val = max(array[i], max_val)\n",
    "    return lastNo\n",
    "\n",
    "def FindLeftSeqeunceStart(array: list[int]) -> int:\n",
    "    min_val: int = float('inf')\n",
    "    lastNo: int = 0\n",
    "    for i in range(len(array) - 1, -1, -1):\n",
    "        if min_val < array[i]:\n",
    "            lastNo = i\n",
    "        min_val = min(array[i], min_val)\n",
    "    return lastNo"
   ]
  },
  {
   "cell_type": "markdown",
   "metadata": {},
   "source": [
    "## Example Usage"
   ]
  },
  {
   "cell_type": "markdown",
   "metadata": {},
   "source": [
    "Here's how you can use these methods to find the indices for the unsorted sequence:"
   ]
  },
  {
   "cell_type": "code",
   "execution_count": 13,
   "metadata": {},
   "outputs": [
    {
     "name": "stdout",
     "output_type": "stream",
     "text": [
      "Find Unsorted Sequence Algo1: 3,9 Execution time:248.76 microseconds\n",
      "Find Unsorted Sequence Algo2: 9,3 Execution time:226.09 microseconds\n"
     ]
    }
   ],
   "source": [
    "import time\n",
    "array = [1, 2, 4, 7, 10, 11, 7, 12, 6, 7, 16, 18, 19]\n",
    "\n",
    "# Using Algorithm 1\n",
    "start_time = time.perf_counter()\n",
    "output = FindUnsortedSequenceAlgo1(array)  # Output: 3, 9\n",
    "end_time = time.perf_counter()\n",
    "execution_time = (end_time - start_time) * 1_000_000  # Convert to microseconds\n",
    "print(f\"Find Unsorted Sequence Algo1: {output.start},{output.end} Execution time:{execution_time:.2f} microseconds\")  # Output: 3, 9\n",
    "\n",
    "# Using Algorithm 2\n",
    "start_time = time.perf_counter()\n",
    "output = FindUnsortedSequenceAlgo2(array)  # Output: 3, 9\n",
    "end_time = time.perf_counter()\n",
    "execution_time = (end_time - start_time) * 1_000_000  # Convert to microseconds\n",
    "print(f\"Find Unsorted Sequence Algo2: {output.start},{output.end} Execution time:{execution_time:.2f} microseconds\")  # Output: 3, 9"
   ]
  },
  {
   "cell_type": "markdown",
   "metadata": {},
   "source": [
    "# Literature\n",
    "\n",
    "The contents base on the following literature:\n",
    "\n",
    "* Gayle Laakmann McDowell, *Cracking the Coding Interview*, [Link](https://www.crackingthecodinginterview.com/)."
   ]
  },
  {
   "cell_type": "markdown",
   "metadata": {},
   "source": [
    "**Copyright**\n",
    "\n",
    "The notebooks are provided as [Open Educational Resources](https://en.wikipedia.org/wiki/Open_educational_resources). Feel free to use the notebooks for your own purposes. The text is licensed under [Creative Commons Attribution 4.0](https://creativecommons.org/licenses/by/4.0/), the code of the IPython examples under the [MIT license](https://opensource.org/licenses/MIT)."
   ]
  }
 ],
 "metadata": {
  "kernelspec": {
   "display_name": "Python 3",
   "language": "python",
   "name": "python3"
  },
  "language_info": {
   "codemirror_mode": {
    "name": "ipython",
    "version": 3
   },
   "file_extension": ".py",
   "mimetype": "text/x-python",
   "name": "python",
   "nbconvert_exporter": "python",
   "pygments_lexer": "ipython3",
   "version": "3.10.12"
  },
  "nav_menu": {},
  "toc": {
   "navigate_menu": true,
   "number_sections": true,
   "sideBar": true,
   "threshold": 6,
   "toc_cell": false,
   "toc_section_display": "block",
   "toc_window_display": false
  }
 },
 "nbformat": 4,
 "nbformat_minor": 4
}
