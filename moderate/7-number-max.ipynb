{
 "cells": [
  {
   "cell_type": "markdown",
   "metadata": {},
   "source": [
    "# Problem Description"
   ]
  },
  {
   "cell_type": "markdown",
   "metadata": {},
   "source": [
    "Write a method that finds the maximum of two numbers. You should not use if-else or any other comparision operator."
   ]
  },
  {
   "cell_type": "markdown",
   "metadata": {},
   "source": [
    "# Solution"
   ]
  },
  {
   "cell_type": "markdown",
   "metadata": {},
   "source": [
    "This solution implements a method to find the maximum of two numbers without using if-else statements or any comparison operators, leveraging bitwise operations and arithmetic.\n",
    "\n",
    "The algorithm determines the maximum of two integers using the following concepts:"
   ]
  },
  {
   "cell_type": "markdown",
   "metadata": {},
   "source": [
    "### Flip Method"
   ]
  },
  {
   "cell_type": "markdown",
   "metadata": {},
   "source": [
    "This method flips a bit: 1 to 0 and 0 to 1."
   ]
  },
  {
   "cell_type": "code",
   "execution_count": 2,
   "metadata": {},
   "outputs": [],
   "source": [
    "def Flip(bit: int) -> int:\n",
    "    '''\n",
    "    Flip a 1 to a 0 and a 0 to a 1\n",
    "    Parameters:\n",
    "        bit: The bit to be flipped.\n",
    "    Returns:\n",
    "        The flipped bit (1 becomes 0, and 0 becomes 1).\n",
    "    Logic:\n",
    "        Uses the XOR operation to flip the bit.\n",
    "    '''\n",
    "    return 1 ^ bit"
   ]
  },
  {
   "cell_type": "markdown",
   "metadata": {},
   "source": [
    "### Sign Method"
   ]
  },
  {
   "cell_type": "markdown",
   "metadata": {},
   "source": [
    "This method determines the sign of an integer."
   ]
  },
  {
   "cell_type": "code",
   "execution_count": 3,
   "metadata": {},
   "outputs": [],
   "source": [
    "def Sign(a: int) -> int:\n",
    "    '''\n",
    "    Returns 1 if a is positive, and 0 if a is negative\n",
    "    Sign Method:\n",
    "        The Sign method determines the sign of an integer.\n",
    "    Parameters:\n",
    "        a: The integer whose sign is to be determined.\n",
    "    Returns:\n",
    "        1 if a is positive, 0 if a is negative.\n",
    "    Logic:\n",
    "        Shifts the integer 31 bits to the right (sign bit) and\n",
    "        performs a bitwise AND with 1 to get the sign.\n",
    "        Flips the result to return 1 for positive numbers and 0\n",
    "        for negative numbers.\n",
    "    '''\n",
    "    return Flip((a >> 31) & 0x1)"
   ]
  },
  {
   "cell_type": "markdown",
   "metadata": {},
   "source": [
    "### GetMaxNaive Method"
   ]
  },
  {
   "cell_type": "markdown",
   "metadata": {},
   "source": [
    "This method finds the maximum of two integers using the sign of the difference."
   ]
  },
  {
   "cell_type": "code",
   "execution_count": 4,
   "metadata": {},
   "outputs": [],
   "source": [
    "def GetMaxNaive(a: int, b: int) -> int:\n",
    "    '''\n",
    "    This method finds the maximum of two integers using the sign of the difference.\n",
    "    Parameters:\n",
    "        a, b: The two integers to compare.\n",
    "    Returns:\n",
    "        The maximum of a and b.\n",
    "    Logic:\n",
    "        Computes the sign of a - b and uses it to select a or b without direct comparison.\n",
    "        k is 1 if a >= b, otherwise 0.\n",
    "        q is the opposite of k (i.e., 0 if a >= b, otherwise 1).\n",
    "        Returns a if a >= b, otherwise returns b.\n",
    "    '''\n",
    "    k: int = Sign(a - b)\n",
    "    q: int = Flip(k)\n",
    "    return a * k + b * q"
   ]
  },
  {
   "cell_type": "markdown",
   "metadata": {},
   "source": [
    "### GetMaxOptimal Method"
   ]
  },
  {
   "cell_type": "markdown",
   "metadata": {},
   "source": [
    "This method handles edge cases, such as integer overflow, more robustly."
   ]
  },
  {
   "cell_type": "code",
   "execution_count": 5,
   "metadata": {},
   "outputs": [],
   "source": [
    "def GetMaxOptimal(a: int, b: int) -> int:\n",
    "    '''\n",
    "    This method handles edge cases, such as integer overflow, more robustly.\n",
    "    Parameters:\n",
    "        a, b: The two integers to compare.\n",
    "    Returns:\n",
    "        The maximum of a and b.\n",
    "    Logic:\n",
    "        Computes the difference c = a - b.\n",
    "        Determines the signs of a, b, and c using the Sign method.\n",
    "        Uses the signs to handle cases where a and b have different signs or the same sign.\n",
    "        use_sign_of_a determines if a and b have different signs.\n",
    "        use_sign_of_c determines if a and b have the same sign.\n",
    "        k is 1 if a >= b, otherwise 0, determined based on the signs.\n",
    "        q is the opposite of k.\n",
    "        Returns a if a >= b, otherwise returns b.\n",
    "    '''\n",
    "    c: int = a - b\n",
    "    sa: int = Sign(a)  # if a >= 0, then 1 else 0\n",
    "    sb: int = Sign(b)  # if b >= 0, then 1 else 0\n",
    "    sc: int = Sign(c)  # depends on whether or not a - b overflows\n",
    "    use_sign_of_a: int = sa ^ sb\n",
    "    use_sign_of_c: int = Flip(sa ^ sb)\n",
    "    k: int = use_sign_of_a * sa + use_sign_of_c * sc\n",
    "    q: int = Flip(k)  # opposite of k\n",
    "    return a * k + b * q"
   ]
  },
  {
   "cell_type": "markdown",
   "metadata": {},
   "source": [
    "## Example Usage"
   ]
  },
  {
   "cell_type": "markdown",
   "metadata": {},
   "source": [
    "Here's how you can use these methods to find the maximum of two numbers:"
   ]
  },
  {
   "cell_type": "code",
   "execution_count": 6,
   "metadata": {},
   "outputs": [
    {
     "name": "stdout",
     "output_type": "stream",
     "text": [
      "Maximum (Naive): 5\n",
      "Maximum (Optimal): 5\n"
     ]
    }
   ],
   "source": [
    "# Using the naive method\n",
    "a, b = 5, 3\n",
    "max_naive = GetMaxNaive(a, b)\n",
    "print(f\"Maximum (Naive): {max_naive}\")  # Output: 5\n",
    "\n",
    "# Using the optimal method\n",
    "max_optimal = GetMaxOptimal(a, b)\n",
    "print(f\"Maximum (Optimal): {max_optimal}\")  # Output: 5"
   ]
  },
  {
   "cell_type": "markdown",
   "metadata": {},
   "source": [
    "# Literature\n",
    "\n",
    "The contents base on the following literature:\n",
    "\n",
    "* Gayle Laakmann McDowell, *Cracking the Coding Interview*, [Link](https://www.crackingthecodinginterview.com/)."
   ]
  },
  {
   "cell_type": "markdown",
   "metadata": {},
   "source": [
    "**Copyright**\n",
    "\n",
    "The notebooks are provided as [Open Educational Resources](https://en.wikipedia.org/wiki/Open_educational_resources). Feel free to use the notebooks for your own purposes. The text is licensed under [Creative Commons Attribution 4.0](https://creativecommons.org/licenses/by/4.0/), the code of the IPython examples under the [MIT license](https://opensource.org/licenses/MIT)."
   ]
  }
 ],
 "metadata": {
  "kernelspec": {
   "display_name": "Python 3",
   "language": "python",
   "name": "python3"
  },
  "language_info": {
   "codemirror_mode": {
    "name": "ipython",
    "version": 3
   },
   "file_extension": ".py",
   "mimetype": "text/x-python",
   "name": "python",
   "nbconvert_exporter": "python",
   "pygments_lexer": "ipython3",
   "version": "3.10.12"
  },
  "nav_menu": {},
  "toc": {
   "navigate_menu": true,
   "number_sections": true,
   "sideBar": true,
   "threshold": 6,
   "toc_cell": false,
   "toc_section_display": "block",
   "toc_window_display": false
  }
 },
 "nbformat": 4,
 "nbformat_minor": 4
}
