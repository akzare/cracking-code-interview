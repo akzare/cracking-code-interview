{
 "cells": [
  {
   "cell_type": "markdown",
   "metadata": {},
   "source": [
    "# Problem Description"
   ]
  },
  {
   "cell_type": "markdown",
   "metadata": {},
   "source": [
    "Design a method to find the frequency of occurrences of any given word in a book. What if we were running this algorithm multiple times?"
   ]
  },
  {
   "cell_type": "markdown",
   "metadata": {},
   "source": [
    "# Solution"
   ]
  },
  {
   "cell_type": "markdown",
   "metadata": {},
   "source": [
    "To find the frequency of occurrences of any given word in a book, we can implement two methods depending on the use case: one for single queries and another for multiple queries."
   ]
  },
  {
   "cell_type": "markdown",
   "metadata": {},
   "source": [
    "### Method 1: Single Query Method"
   ]
  },
  {
   "cell_type": "markdown",
   "metadata": {},
   "source": [
    "This method counts the occurrences of a word each time it is called."
   ]
  },
  {
   "cell_type": "code",
   "execution_count": 2,
   "metadata": {},
   "outputs": [],
   "source": [
    "def GetFrequencySingleQuery(book: list[str], word: str) -> int:\n",
    "    '''\n",
    "    Single Query Method:\n",
    "        The GetFrequencySingleQuery method counts the occurrences of a word in the book each time it's called.\n",
    "    Parameters:\n",
    "        book: A list of strings representing the words in the book.\n",
    "        word: The word to count.\n",
    "    Returns:\n",
    "        The count of occurrences of the word in the book.\n",
    "    '''\n",
    "    word = word.lower()\n",
    "    count: int = 0\n",
    "    for w in book:\n",
    "        if w.lower() == word:\n",
    "            count += 1\n",
    "    return count"
   ]
  },
  {
   "cell_type": "markdown",
   "metadata": {},
   "source": [
    "### Method 2: Repetitive Query Method"
   ]
  },
  {
   "cell_type": "markdown",
   "metadata": {},
   "source": [
    "For multiple queries, it's more efficient to preprocess the book and store word frequencies in a dictionary."
   ]
  },
  {
   "cell_type": "code",
   "execution_count": 3,
   "metadata": {},
   "outputs": [],
   "source": [
    "def GetFrequencyRepetitiveQuery(table: dict[str, int], word: str) -> int:\n",
    "    '''\n",
    "    Repetitive Query Method:\n",
    "        For multiple queries, it's more efficient to pre-process the book and store word frequencies in a dictionary.\n",
    "        The SetupDictionary method prepares the dictionary, and GetFrequencyRepetitiveQuery retrieves the count from the dictionary.\n",
    "    Parameters:\n",
    "        table: The pre-built frequency dictionary.\n",
    "        word: The word to count.\n",
    "    Returns:\n",
    "        The count of occurrences of the word in the dictionary, or 0 if the word is not found.\n",
    "    '''\n",
    "    if table is None or word is None:\n",
    "        return -1\n",
    "    word = word.lower()\n",
    "    return table.get(word, 0)\n",
    "\n",
    "def SetupDictionary(book: list[str]) -> dict[str, int]:\n",
    "    '''\n",
    "    Setup Dictionary:\n",
    "        The SetupDictionary method builds a frequency table (dictionary) from the book.\n",
    "    Parameters:\n",
    "        book: A list of strings representing the words in the book.\n",
    "    Returns:\n",
    "        A dictionary where the keys are words and the values are their frequencies.\n",
    "    '''\n",
    "    table: dict[str, int] = {}\n",
    "    for word in book:\n",
    "        word = word.lower().strip()\n",
    "        if word:\n",
    "            if word not in table:\n",
    "                table[word] = 0\n",
    "            table[word] += 1\n",
    "    return table"
   ]
  },
  {
   "cell_type": "markdown",
   "metadata": {},
   "source": [
    "## Explanation"
   ]
  },
  {
   "cell_type": "markdown",
   "metadata": {},
   "source": [
    "1. Single Query Method:\n",
    "    * Parameters: Takes a list of strings (book) and a target word (word).\n",
    "    * Logic: Converts the target word to lowercase, initializes a counter, iterates through each word in the book, converts it to lowercase, and compares it to the target word. Increments the counter for each match and returns the count.\n",
    "    * Use Case: Suitable for infrequent or one-time queries.\n",
    "2. Repetitive Query Method:\n",
    "    * Parameters: Takes a pre-built frequency dictionary (table) and a target word (word).\n",
    "    * Logic: Converts the target word to lowercase and retrieves the frequency of the word from the dictionary using get (returns 0 if the word is not in the dictionary).\n",
    "    * Setup Dictionary Method:\n",
    "        * Builds a frequency table (dictionary) from the book by converting each word to lowercase, stripping any whitespace, and incrementing its count in the dictionary.\n",
    "    * Use Case: Suitable for multiple or frequent queries as it preprocesses the book and uses a dictionary for fast lookups."
   ]
  },
  {
   "cell_type": "markdown",
   "metadata": {},
   "source": [
    "## Example Usage"
   ]
  },
  {
   "cell_type": "markdown",
   "metadata": {},
   "source": [
    "Let's see how to use these methods to find the frequency of occurrences of a word in a book:"
   ]
  },
  {
   "cell_type": "code",
   "execution_count": 4,
   "metadata": {},
   "outputs": [
    {
     "name": "stdout",
     "output_type": "stream",
     "text": [
      "3\n",
      "3\n"
     ]
    }
   ],
   "source": [
    "# Example book as a list of words\n",
    "book = [\"The\", \"quick\", \"brown\", \"fox\", \"jumps\", \"over\", \"the\", \"lazy\", \"dog\", \"the\"]\n",
    "\n",
    "# Single query\n",
    "word = \"the\"\n",
    "print(GetFrequencySingleQuery(book, word))  # Output: 3\n",
    "\n",
    "# Setup dictionary for repetitive queries\n",
    "frequency_table = SetupDictionary(book)\n",
    "\n",
    "# Repetitive query\n",
    "print(GetFrequencyRepetitiveQuery(frequency_table, word))  # Output: 3"
   ]
  },
  {
   "cell_type": "markdown",
   "metadata": {},
   "source": [
    "# Literature\n",
    "\n",
    "The contents base on the following literature:\n",
    "\n",
    "* Gayle Laakmann McDowell, *Cracking the Coding Interview*, [Link](https://www.crackingthecodinginterview.com/)."
   ]
  },
  {
   "cell_type": "markdown",
   "metadata": {},
   "source": [
    "**Copyright**\n",
    "\n",
    "The notebooks are provided as [Open Educational Resources](https://en.wikipedia.org/wiki/Open_educational_resources). Feel free to use the notebooks for your own purposes. The text is licensed under [Creative Commons Attribution 4.0](https://creativecommons.org/licenses/by/4.0/), the code of the IPython examples under the [MIT license](https://opensource.org/licenses/MIT)."
   ]
  }
 ],
 "metadata": {
  "kernelspec": {
   "display_name": "Python 3",
   "language": "python",
   "name": "python3"
  },
  "language_info": {
   "codemirror_mode": {
    "name": "ipython",
    "version": 3
   },
   "file_extension": ".py",
   "mimetype": "text/x-python",
   "name": "python",
   "nbconvert_exporter": "python",
   "pygments_lexer": "ipython3",
   "version": "3.10.12"
  },
  "nav_menu": {},
  "toc": {
   "navigate_menu": true,
   "number_sections": true,
   "sideBar": true,
   "threshold": 6,
   "toc_cell": false,
   "toc_section_display": "block",
   "toc_window_display": false
  }
 },
 "nbformat": 4,
 "nbformat_minor": 4
}
