{
 "cells": [
  {
   "cell_type": "markdown",
   "metadata": {},
   "source": [
    "# Problem Description"
   ]
  },
  {
   "cell_type": "markdown",
   "metadata": {},
   "source": [
    "Write a function to swap two numbers in place (that is without temporary variables)."
   ]
  },
  {
   "cell_type": "markdown",
   "metadata": {},
   "source": [
    "# Solution"
   ]
  },
  {
   "cell_type": "markdown",
   "metadata": {},
   "source": [
    "The `Solution` contains using Using Arithmetic Bitwise XOR Operations."
   ]
  },
  {
   "cell_type": "markdown",
   "metadata": {},
   "source": [
    "### Method 1: Using Arithmetic Operations"
   ]
  },
  {
   "cell_type": "markdown",
   "metadata": {},
   "source": [
    "This method swaps the numbers using basic arithmetic operations as follows:\n",
    "1. Initial Values:\n",
    "    * Suppose a = 5 and b = 3.\n",
    "2. Step 1:\n",
    "    * Subtract b from a and store the result in a.\n",
    "    * a = 5 - 3 = 2\n",
    "3. Step 2:\n",
    "    * Add the new value of a to b and store the result in b.\n",
    "    * b = 2 + 3 = 5\n",
    "4. Step 3:\n",
    "    * Subtract the new value of a from b and store the result in a.\n",
    "    * a = 5 - 2 = 3"
   ]
  },
  {
   "cell_type": "code",
   "execution_count": 1,
   "metadata": {},
   "outputs": [],
   "source": [
    "def SwapArithmetic(a: int, b: int) -> tuple:\n",
    "    a = a - b\n",
    "    b = a + b\n",
    "    a = b - a\n",
    "    return a, b"
   ]
  },
  {
   "cell_type": "markdown",
   "metadata": {},
   "source": [
    "### Method 2: Using Bitwise XOR Operation"
   ]
  },
  {
   "cell_type": "markdown",
   "metadata": {},
   "source": [
    "1. Initial Values:\n",
    "    * Suppose a = 5 (binary: 0101) and b = 3 (binary: 0011).\n",
    "2. Step 1:\n",
    "    * Apply XOR between a and b and store the result in a.\n",
    "    * a = 0101 ^ 0011 = 0110 (binary for 6)\n",
    "3. Step 2:\n",
    "    * Apply XOR between the new value of a and b and store the result in b.\n",
    "    * b = 0110 ^ 0011 = 0101 (binary for 5)\n",
    "4. Step 3:\n",
    "    * Apply XOR between the new value of a and the new value of b and store the result in a.\n",
    "    * a = 0110 ^ 0101 = 0011 (binary for 3)"
   ]
  },
  {
   "cell_type": "code",
   "execution_count": 4,
   "metadata": {},
   "outputs": [],
   "source": [
    "def SwapXOR(a: int, b: int) -> tuple:\n",
    "    a = a ^ b\n",
    "    b = a ^ b\n",
    "    a = a ^ b\n",
    "    return a, b"
   ]
  },
  {
   "cell_type": "markdown",
   "metadata": {},
   "source": [
    "## Example Usage"
   ]
  },
  {
   "cell_type": "markdown",
   "metadata": {},
   "source": [
    "Let's see how you can use these methods to swap two numbers:"
   ]
  },
  {
   "cell_type": "code",
   "execution_count": 5,
   "metadata": {},
   "outputs": [
    {
     "name": "stdout",
     "output_type": "stream",
     "text": [
      "Swapped values (Arithmetic): a = 3, b = 5\n",
      "Swapped values (Bitwise XOR): a = 3, b = 5\n"
     ]
    }
   ],
   "source": [
    "# Using arithmetic operations\n",
    "a, b = 5, 3\n",
    "a, b = SwapArithmetic(a, b)\n",
    "print(f\"Swapped values (Arithmetic): a = {a}, b = {b}\")  # Output: a = 3, b = 5\n",
    "\n",
    "# Using bitwise XOR operations\n",
    "a, b = 5, 3\n",
    "a, b = SwapXOR(a, b)\n",
    "print(f\"Swapped values (Bitwise XOR): a = {a}, b = {b}\")  # Output: a = 3, b = 5"
   ]
  },
  {
   "cell_type": "markdown",
   "metadata": {},
   "source": [
    "# Literature\n",
    "\n",
    "The contents base on the following literature:\n",
    "\n",
    "* Gayle Laakmann McDowell, *Cracking the Coding Interview*, [Link](https://www.crackingthecodinginterview.com/)."
   ]
  },
  {
   "cell_type": "markdown",
   "metadata": {},
   "source": [
    "**Copyright**\n",
    "\n",
    "The notebooks are provided as [Open Educational Resources](https://en.wikipedia.org/wiki/Open_educational_resources). Feel free to use the notebooks for your own purposes. The text is licensed under [Creative Commons Attribution 4.0](https://creativecommons.org/licenses/by/4.0/), the code of the IPython examples under the [MIT license](https://opensource.org/licenses/MIT)."
   ]
  }
 ],
 "metadata": {
  "kernelspec": {
   "display_name": "Python 3",
   "language": "python",
   "name": "python3"
  },
  "language_info": {
   "codemirror_mode": {
    "name": "ipython",
    "version": 3
   },
   "file_extension": ".py",
   "mimetype": "text/x-python",
   "name": "python",
   "nbconvert_exporter": "python",
   "pygments_lexer": "ipython3",
   "version": "3.10.12"
  },
  "nav_menu": {},
  "toc": {
   "navigate_menu": true,
   "number_sections": true,
   "sideBar": true,
   "threshold": 6,
   "toc_cell": false,
   "toc_section_display": "block",
   "toc_window_display": false
  }
 },
 "nbformat": 4,
 "nbformat_minor": 4
}
