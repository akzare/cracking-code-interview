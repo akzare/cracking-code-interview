{
 "cells": [
  {
   "cell_type": "markdown",
   "metadata": {},
   "source": [
    "# Problem Description"
   ]
  },
  {
   "cell_type": "markdown",
   "metadata": {},
   "source": [
    "You are building a diving board by placing a bunch of planks of wood end-to-end. There are two types pf planks, one of length shorter and one of length longer. You must use exactly 'k planks pf wood. Write a method to generate all possible lengths for the diving board."
   ]
  },
  {
   "cell_type": "markdown",
   "metadata": {},
   "source": [
    "### AllLengthsRecursive Method"
   ]
  },
  {
   "cell_type": "markdown",
   "metadata": {},
   "source": [
    "This method uses a recursive approach to generate all possible lengths."
   ]
  },
  {
   "cell_type": "code",
   "execution_count": 2,
   "metadata": {},
   "outputs": [],
   "source": [
    "def AllLengthsRecursive(k: int, shorter: int, longer: int) -> list[int]:\n",
    "    '''\n",
    "    AllLengthsRecursive\n",
    "    This method uses a recursive approach to generate all possible lengths:\n",
    "        AllLengthsRecursive(k, shorter, longer): Initializes the recursion and returns a list of possible lengths.\n",
    "        GetAllLengthsRecursive(k, total, shorter, longer, lengths): Recursively generates the lengths by adding either the shorter or longer plank to the total length, until k planks are used.\n",
    "    '''\n",
    "    lengths: list[int] = []\n",
    "    GetAllLengthsRecursive(k, 0, shorter, longer, lengths)\n",
    "    return lengths\n",
    "\n",
    "def GetAllLengthsRecursive(k: int, total: int, shorter: int, longer: int, lengths: list[int]) -> None:\n",
    "    if k == 0:\n",
    "        lengths.append(total)\n",
    "        return\n",
    "    GetAllLengthsRecursive(k - 1, total + shorter, shorter, longer, lengths)\n",
    "    GetAllLengthsRecursive(k - 1, total + longer, shorter, longer, lengths)"
   ]
  },
  {
   "cell_type": "markdown",
   "metadata": {},
   "source": [
    "### AllLengthsMemoization Method"
   ]
  },
  {
   "cell_type": "markdown",
   "metadata": {},
   "source": [
    "This method uses memoization to avoid recalculating lengths that have already been computed."
   ]
  },
  {
   "cell_type": "code",
   "execution_count": 3,
   "metadata": {},
   "outputs": [],
   "source": [
    "def AllLengthsMemoization(k: int, shorter: int, longer: int) -> list[int]:\n",
    "    '''\n",
    "    AllLengthsMemoization\n",
    "    This method uses memoization to avoid recalculating lengths that have already been computed:\n",
    "        AllLengthsMemoization(k, shorter, longer): Initializes the recursion and memoization.\n",
    "        GetAllLengthsMemoization(k, total, shorter, longer, lengths, visited): Recursively generates the lengths using memoization to store and reuse previously computed results.\n",
    "    '''\n",
    "    lengths: list[int] = []\n",
    "    visited: list[str] = []\n",
    "    GetAllLengthsMemoization(k, 0, shorter, longer, lengths, visited)\n",
    "    return lengths\n",
    "\n",
    "def GetAllLengthsMemoization(k: int, total: int, shorter: int, longer: int, lengths: list[int], visited: list[str]) -> None:\n",
    "    if k == 0:\n",
    "        lengths.append(total)\n",
    "        return\n",
    "    key: str = f\"{k} {total}\"\n",
    "    if key in visited:  # if we've seen this before, then just exit\n",
    "        return\n",
    "    \n",
    "    GetAllLengthsMemoization(k - 1, total + shorter, shorter, longer, lengths, visited)\n",
    "    GetAllLengthsMemoization(k - 1, total + longer, shorter, longer, lengths, visited)\n",
    "    visited.append(key)  # Record that we've seen this before"
   ]
  },
  {
   "cell_type": "markdown",
   "metadata": {},
   "source": [
    "### AllLengthsOptimal Method"
   ]
  },
  {
   "cell_type": "markdown",
   "metadata": {},
   "source": [
    "This method provides an optimal approach by iterating through all possible combinations of shorter and longer planks."
   ]
  },
  {
   "cell_type": "code",
   "execution_count": 4,
   "metadata": {},
   "outputs": [],
   "source": [
    "def AllLengthsOptimal(k: int, shorter: int, longer: int) -> list[int]:\n",
    "    '''\n",
    "    AllLengthsOptimal\n",
    "    This method provides an optimal approach by iterating through all possible combinations of shorter and longer planks:\n",
    "        AllLengthsOptimal(k, shorter, longer): Iterates through all possible combinations of shorter and longer planks, calculating the total length for each combination and adding it to the list of possible lengths.\n",
    "    '''\n",
    "    lengths: list[int] = []\n",
    "    for nShorter in range(k + 1):\n",
    "        nLonger: int = k - nShorter\n",
    "        length: int = nShorter * shorter + nLonger * longer\n",
    "        lengths.append(length)\n",
    "    return lengths"
   ]
  },
  {
   "cell_type": "markdown",
   "metadata": {},
   "source": [
    "## Example Usage"
   ]
  },
  {
   "cell_type": "markdown",
   "metadata": {},
   "source": [
    "Here's how you can use these methods to generate all possible lengths for the diving board:"
   ]
  },
  {
   "cell_type": "code",
   "execution_count": 5,
   "metadata": {},
   "outputs": [
    {
     "name": "stdout",
     "output_type": "stream",
     "text": [
      "All Lengths Recursive: [3, 4, 4, 5, 4, 5, 5, 6] Execution time:891.57 microseconds\n",
      "All Lengths Memoization: [3, 4, 4, 5, 5, 6] Execution time:128.45 microseconds\n",
      "Optimal: [6, 5, 4, 3]\n"
     ]
    }
   ],
   "source": [
    "import time\n",
    "\n",
    "# Using the recursive method\n",
    "k = 3\n",
    "shorter = 1\n",
    "longer = 2\n",
    "start_time = time.perf_counter()\n",
    "lengths_recursive = AllLengthsRecursive(k, shorter, longer)\n",
    "end_time = time.perf_counter()\n",
    "execution_time = (end_time - start_time) * 1_000_000  # Convert to microseconds\n",
    "print(f\"All Lengths Recursive: {lengths_recursive} Execution time:{execution_time:.2f} microseconds\")  # Output: 3, 9\n",
    "\n",
    "# Using the memoization method\n",
    "start_time = time.perf_counter()\n",
    "lengths_memoization = AllLengthsMemoization(k, shorter, longer)\n",
    "end_time = time.perf_counter()\n",
    "execution_time = (end_time - start_time) * 1_000_000  # Convert to microseconds\n",
    "print(f\"All Lengths Memoization: {lengths_memoization} Execution time:{execution_time:.2f} microseconds\")  # Output: 3, 9\n",
    "\n",
    "# Using the optimal method\n",
    "lengths_optimal = AllLengthsOptimal(k, shorter, longer)\n",
    "print(\"Optimal:\", lengths_optimal)"
   ]
  },
  {
   "cell_type": "markdown",
   "metadata": {},
   "source": [
    "# Literature\n",
    "\n",
    "The contents base on the following literature:\n",
    "\n",
    "* Gayle Laakmann McDowell, *Cracking the Coding Interview*, [Link](https://www.crackingthecodinginterview.com/)."
   ]
  },
  {
   "cell_type": "markdown",
   "metadata": {},
   "source": [
    "**Copyright**\n",
    "\n",
    "The notebooks are provided as [Open Educational Resources](https://en.wikipedia.org/wiki/Open_educational_resources). Feel free to use the notebooks for your own purposes. The text is licensed under [Creative Commons Attribution 4.0](https://creativecommons.org/licenses/by/4.0/), the code of the IPython examples under the [MIT license](https://opensource.org/licenses/MIT)."
   ]
  }
 ],
 "metadata": {
  "kernelspec": {
   "display_name": "Python 3",
   "language": "python",
   "name": "python3"
  },
  "language_info": {
   "codemirror_mode": {
    "name": "ipython",
    "version": 3
   },
   "file_extension": ".py",
   "mimetype": "text/x-python",
   "name": "python",
   "nbconvert_exporter": "python",
   "pygments_lexer": "ipython3",
   "version": "3.10.12"
  },
  "nav_menu": {},
  "toc": {
   "navigate_menu": true,
   "number_sections": true,
   "sideBar": true,
   "threshold": 6,
   "toc_cell": false,
   "toc_section_display": "block",
   "toc_window_display": false
  }
 },
 "nbformat": 4,
 "nbformat_minor": 4
}
