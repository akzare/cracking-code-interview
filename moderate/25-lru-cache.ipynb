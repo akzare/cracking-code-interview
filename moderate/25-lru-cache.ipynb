{
 "cells": [
  {
   "cell_type": "markdown",
   "metadata": {},
   "source": [
    "# Problem Description"
   ]
  },
  {
   "cell_type": "markdown",
   "metadata": {},
   "source": [
    "Design and build a least recently used cache, which evicts the least recently used item. The cache should map from keys to values (allowing you to insert and retrieve a value associated\n",
    "with a particular key) and be initialized with a max size. When it is full, it should evict the least recently used item. You can assume the keys are integers and the values are strings."
   ]
  },
  {
   "cell_type": "markdown",
   "metadata": {},
   "source": [
    "### LinkedListNode Class"
   ]
  },
  {
   "cell_type": "markdown",
   "metadata": {},
   "source": [
    "* Purpose: Represents a node in a doubly-linked list, which helps in maintaining the order of elements in the cache.\n",
    "* Attributes:\n",
    "   * key: The key associated with the node.\n",
    "   * value: The value associated with the key.\n",
    "   * next: Reference to the next node in the linked list.\n",
    "   * prev: Reference to the previous node in the linked list."
   ]
  },
  {
   "cell_type": "code",
   "execution_count": 7,
   "metadata": {},
   "outputs": [],
   "source": [
    "class LinkedListNode:\n",
    "    '''\n",
    "    LinkedListNode Class:\n",
    "        Represents a node in the doubly-linked list.\n",
    "    '''\n",
    "    def __init__(self, k:int, v:str) -> None:\n",
    "        '''\n",
    "        Attributes:\n",
    "            key: The key of the node.\n",
    "            value: The value associated with the key.\n",
    "            next: Reference to the next node in the linked list.\n",
    "            prev: Reference to the previous node in the linked list.\n",
    "        '''\n",
    "        self.key = k\n",
    "        self.value = v\n",
    "        self.next:LinkedListNode = None\n",
    "        self.prev:LinkedListNode = None"
   ]
  },
  {
   "cell_type": "markdown",
   "metadata": {},
   "source": [
    "### Cache Class"
   ]
  },
  {
   "cell_type": "markdown",
   "metadata": {},
   "source": [
    "* Purpose: Represents the LRU cache and manages key-value pairs with efficient access and eviction policies.\n",
    "* Attributes:\n",
    "   * maxCacheSize: The maximum size of the cache.\n",
    "   * map: A dictionary to quickly access nodes by their keys.\n",
    "   * listHead: The head of the doubly-linked list, representing the most recently used item.\n",
    "   * listTail: The tail of the doubly-linked list, representing the least recently used item.\n",
    "* Methods:\n",
    "   * GetValue(key): Retrieves the value for a given key and marks it as most recently used.\n",
    "   * RemoveFromLinkeList(node): Removes a node from the doubly-linked list.\n",
    "   * InsertAtFrontOfLinkedList(node): Inserts a node at the front of the doubly-linked list.\n",
    "   * RemoveKey(key): Removes a key-value pair from the cache.\n",
    "   * SetKeyValue(key, value): Inserts or updates a key-value pair in the cache, ensuring the cache's capacity is respected."
   ]
  },
  {
   "cell_type": "code",
   "execution_count": 8,
   "metadata": {},
   "outputs": [],
   "source": [
    "class Cache:\n",
    "    '''\n",
    "    Cache Class:\n",
    "    Represents the LRU cache.\n",
    "    Overview\n",
    "    An LRU cache evicts the least recently used item when it reaches its maximum capacity.\n",
    "    The cache should support the following operations:\n",
    "        GetValue(key): Retrieve the value associated with key and mark it as most recently used.\n",
    "        SetKeyValue(key, value): Insert or update the key with value and mark it as most recently used.\n",
    "        Internally, it uses a combination of a hash table for O(1) lookups and a doubly-linked list to maintain the order of use.\n",
    "    This implementation ensures that all operations (insertion, deletion, access) run in O(1) time complexity, making it highly efficient.\n",
    "    '''\n",
    "    def __init__(self, maxSize:int) -> None:\n",
    "        self.maxCacheSize:int = maxSize\n",
    "        self.map:dict[int, LinkedListNode] = {}\n",
    "        self.listHead:LinkedListNode = None\n",
    "        self.listTail:LinkedListNode = None\n",
    "\n",
    "    def GetValue(self, key:int) -> str:\n",
    "        '''\n",
    "        Retrieves the value for a key and marks it as most recently used.\n",
    "        Logic:\n",
    "           Look up the node in the map.\n",
    "           If found, move it to the front of the linked list to mark it as most recently used.\n",
    "           Return the value.\n",
    "        '''\n",
    "        if key not in self.map:\n",
    "            return None\n",
    "        item:LinkedListNode = self.map[key]\n",
    "        if (item == None):\n",
    "            return None\n",
    "        # Move to front of list to mark as most recently used\n",
    "        if (item != self.listHead):\n",
    "            self.RemoveFromLinkeList(item)\n",
    "            self.InsertAtFrontOfLinkedList(item)\n",
    "        return item.value\n",
    "\n",
    "    def RemoveFromLinkeList(self, node:LinkedListNode) -> None:\n",
    "        '''\n",
    "        Removes a node from the linked list.\n",
    "        Logic:\n",
    "            Update the pointers of the neighboring nodes to remove the node from the linked list.\n",
    "        '''\n",
    "        if (node == None):\n",
    "            return\n",
    "        if (node.prev != None):\n",
    "            node.prev.next = node.next\n",
    "        if (node.next != None):\n",
    "            node.next.prev = node.prev\n",
    "        if (node == self.listTail):\n",
    "            self.listTail = node.prev\n",
    "        if (node == self.listHead):\n",
    "            self.listHead = node.next\n",
    "\n",
    "\n",
    "    def InsertAtFrontOfLinkedList(self, node:LinkedListNode) -> None:\n",
    "        '''\n",
    "        Inserts a node at the front of the linked list.\n",
    "        Logic:\n",
    "            Update the pointers to insert the node at the front of the linked list.\n",
    "        '''\n",
    "        if (self.listHead == None):\n",
    "            self.listHead = node\n",
    "            self.listTail = node\n",
    "        else:\n",
    "            self.listHead.prev = node\n",
    "            node.next = self.listHead\n",
    "            self.listHead = node\n",
    "            self.listHead.prev = None\n",
    "\n",
    "    def RemoveKey(self, key:int) -> bool:\n",
    "        '''\n",
    "        Removes a key-value pair from the cache.\n",
    "        Logic:\n",
    "            Remove the node from both the map and the linked list.\n",
    "        '''\n",
    "        if key in self.map:\n",
    "            node:LinkedListNode = self.map[key]\n",
    "            self.RemoveFromLinkeList(node)\n",
    "            self.map.pop(key)\n",
    "        return True\n",
    "\n",
    "    def SetKeyValue(self, key:int, value:str) -> None:\n",
    "        '''\n",
    "        SetKeyValue Method:\n",
    "        Inserts or updates a key-value pair in the cache.\n",
    "        Logic:\n",
    "            Remove the old value if the key already exists.\n",
    "            If the cache is full, evict the least recently used item (i.e., the tail of the linked list).\n",
    "            Insert the new key-value pair and update the map and linked list.\n",
    "        '''\n",
    "        # Remove if already there\n",
    "        self.RemoveKey(key)\n",
    "        # If full, remove least recently used item from cache.\n",
    "        if (len(self.map) >= self.maxCacheSize and self.listTail != None):\n",
    "            self.RemoveKey(self.listTail.key)\n",
    "        # Insert new node\n",
    "        node:LinkedListNode = LinkedListNode(key, value)\n",
    "        self.map[key] = node"
   ]
  },
  {
   "cell_type": "markdown",
   "metadata": {},
   "source": [
    "### Logic and Flow"
   ]
  },
  {
   "cell_type": "markdown",
   "metadata": {},
   "source": [
    "1. Initialization:\n",
    "   * The Cache class is initialized with a specified maximum size. It uses a dictionary (map) for O(1) key lookups and a doubly-linked list to maintain the order of items.\n",
    "2. Retrieving Values (GetValue):\n",
    "   * When a value is retrieved, the corresponding node is moved to the front of the linked list to mark it as the most recently used.\n",
    "   * If the key is not found in the cache, None is returned.\n",
    "3. Inserting Values (SetKeyValue):\n",
    "   * Before inserting a new key-value pair, the method checks if the key already exists and removes the old value if necessary.\n",
    "   * If the cache is full, the least recently used item (the tail of the linked list) is evicted.\n",
    "   * The new key-value pair is inserted, and the node is added to the front of the linked list.\n",
    "4. Maintaining Order:\n",
    "   * The linked list ensures that the most recently used items are at the front (listHead), and the least recently used items are at the back (listTail)."
   ]
  },
  {
   "cell_type": "markdown",
   "metadata": {},
   "source": [
    "## Example Usage"
   ]
  },
  {
   "cell_type": "markdown",
   "metadata": {},
   "source": [
    "Here's an example of how to use this LRU cache:"
   ]
  },
  {
   "cell_type": "code",
   "execution_count": 9,
   "metadata": {},
   "outputs": [
    {
     "name": "stdout",
     "output_type": "stream",
     "text": [
      "one\n",
      "two\n",
      "three\n"
     ]
    }
   ],
   "source": [
    "# Initialize the LRU cache with a max size of 3\n",
    "cache = Cache(3)\n",
    "\n",
    "# Set key-value pairs\n",
    "cache.SetKeyValue(1, \"one\")\n",
    "cache.SetKeyValue(2, \"two\")\n",
    "cache.SetKeyValue(3, \"three\")\n",
    "\n",
    "# Retrieve values\n",
    "print(cache.GetValue(1))  # Output: one\n",
    "print(cache.GetValue(2))  # Output: two\n",
    "\n",
    "# Set more values and evict least recently used item\n",
    "cache.SetKeyValue(4, \"four\")\n",
    "print(cache.GetValue(3))  # Output: None (as 3 was evicted)\n",
    "\n",
    "# The cache now contains (in most-recent to least-recent order): 4, 2, 1"
   ]
  },
  {
   "cell_type": "markdown",
   "metadata": {},
   "source": [
    "# Literature\n",
    "\n",
    "The contents base on the following literature:\n",
    "\n",
    "* Gayle Laakmann McDowell, *Cracking the Coding Interview*, [Link](https://www.crackingthecodinginterview.com/)."
   ]
  },
  {
   "cell_type": "markdown",
   "metadata": {},
   "source": [
    "**Copyright**\n",
    "\n",
    "The notebooks are provided as [Open Educational Resources](https://en.wikipedia.org/wiki/Open_educational_resources). Feel free to use the notebooks for your own purposes. The text is licensed under [Creative Commons Attribution 4.0](https://creativecommons.org/licenses/by/4.0/), the code of the IPython examples under the [MIT license](https://opensource.org/licenses/MIT)."
   ]
  }
 ],
 "metadata": {
  "kernelspec": {
   "display_name": "Python 3",
   "language": "python",
   "name": "python3"
  },
  "language_info": {
   "codemirror_mode": {
    "name": "ipython",
    "version": 3
   },
   "file_extension": ".py",
   "mimetype": "text/x-python",
   "name": "python",
   "nbconvert_exporter": "python",
   "pygments_lexer": "ipython3",
   "version": "3.10.12"
  },
  "nav_menu": {},
  "toc": {
   "navigate_menu": true,
   "number_sections": true,
   "sideBar": true,
   "threshold": 6,
   "toc_cell": false,
   "toc_section_display": "block",
   "toc_window_display": false
  }
 },
 "nbformat": 4,
 "nbformat_minor": 4
}
