{
 "cells": [
  {
   "cell_type": "markdown",
   "metadata": {},
   "source": [
    "# Problem Description"
   ]
  },
  {
   "cell_type": "markdown",
   "metadata": {},
   "source": [
    "Given two straight line segments (represented as a start point and an end point), compute the point of intersection, if any."
   ]
  },
  {
   "cell_type": "markdown",
   "metadata": {},
   "source": [
    "# Solution"
   ]
  },
  {
   "cell_type": "markdown",
   "metadata": {},
   "source": [
    "Here is the solution to find the intersection point of two line segments, if it exists. Let's review the key components of this implementation:"
   ]
  },
  {
   "cell_type": "markdown",
   "metadata": {},
   "source": [
    "### Point Class"
   ]
  },
  {
   "cell_type": "markdown",
   "metadata": {},
   "source": [
    "This class represents a point in 2D space with x and y coordinates."
   ]
  },
  {
   "cell_type": "code",
   "execution_count": 1,
   "metadata": {},
   "outputs": [],
   "source": [
    "class Point:\n",
    "    '''\n",
    "    Point Class: Represents a point in 2D space.\n",
    "    '''\n",
    "    def __init__(self, x:float, y:float) -> None:\n",
    "        self.x:float = x\n",
    "        self.y:float = y"
   ]
  },
  {
   "cell_type": "markdown",
   "metadata": {},
   "source": [
    "### Line Class"
   ]
  },
  {
   "cell_type": "markdown",
   "metadata": {},
   "source": [
    "This class represents a line segment and computes its slope and y-intercept. It also includes helper methods to:\n",
    "  * Check if the line is vertical (IsVertical).\n",
    "  * Get the y-coordinate for a given x-coordinate using the line equation (GetYFromX)."
   ]
  },
  {
   "cell_type": "code",
   "execution_count": 2,
   "metadata": {},
   "outputs": [],
   "source": [
    "class Line:\n",
    "    '''\n",
    "    Line Class: Represents a line segment and computes its slope and y-intercept.\n",
    "    '''\n",
    "    def __init__(self, start: Point, end: Point) -> None:\n",
    "        '''\n",
    "        Initialization:\n",
    "            Computes the slope and y-intercept of the line defined by the start and end points.\n",
    "            Handles vertical lines by setting the slope to positive infinity.\n",
    "        '''\n",
    "        self.slope: float = 0\n",
    "        self.yintercept: float = 0\n",
    "        self.start: Point = start\n",
    "        self.end: Point = end\n",
    "        if start.x == end.x:\n",
    "            self.slope = float('inf')  # PositiveInfinity\n",
    "            self.yintercept = float('inf')  # PositiveInfinity\n",
    "        else:\n",
    "            self.slope = (end.y - start.y) / (end.x - start.x)\n",
    "            self.yintercept = end.y - self.slope * end.x\n",
    "\n",
    "    def IsVertical(self) -> bool:\n",
    "        '''\n",
    "        Checks if the line is vertical (i.e., its slope is positive infinity).\n",
    "        '''\n",
    "        return self.slope == float('inf')\n",
    "\n",
    "    def GetYFromX(self, x: float) -> float:\n",
    "        '''\n",
    "        Computes the y-coordinate for a given x-coordinate using the line equation 𝑦=𝑚𝑥+𝑏.\n",
    "        '''\n",
    "        if self.IsVertical():\n",
    "            return float('inf')\n",
    "        return self.slope * x + self.yintercept"
   ]
  },
  {
   "cell_type": "markdown",
   "metadata": {},
   "source": [
    "## Solution Methods\n",
    "This class contains methods to compute the intersection point of two line segments.\n",
    "\n",
    "### GetIntersection Method\n",
    "   * Step-by-Step:\n",
    "       1. Creates Line objects for the two segments.\n",
    "       2. Checks if the lines are parallel by comparing their slopes.\n",
    "           * If parallel and have different y-intercepts, they don't intersect.\n",
    "           * If parallel and have the same y-intercept, checks if one segment's start or end point is between the start and end of the other segment.\n",
    "       3. If not parallel, computes the intersection point of the infinite lines.\n",
    "       4. Checks if the intersection point lies within the bounds of both line segments.\n",
    "### IsBetweenHelper Method\n",
    "   * Checks if a point (middle) lies between two other points (start and end) on one axis.\n",
    "### IsBetween Method\n",
    "   * Uses IsBetweenHelper to check if a point (middle) lies between two other points (start and end) on both x and y axes."
   ]
  },
  {
   "cell_type": "code",
   "execution_count": 3,
   "metadata": {},
   "outputs": [],
   "source": [
    "def GetIntersection(start1: Point, end1: Point, start2: Point, end2: Point) -> Point:\n",
    "    '''\n",
    "    GetIntersection Method:\n",
    "    Computes the intersection point of two line segments.\n",
    "    Step-by-Step:\n",
    "        Creates Line objects for the two segments.\n",
    "        Checks if the lines are parallel by comparing their slopes.\n",
    "        If the lines are parallel and have different y-intercepts, they don't intersect.\n",
    "        If the lines are parallel and have the same y-intercept, checks if one segment's start\n",
    "        or end point is between the start and end of the other segment.\n",
    "        If the lines are not parallel, computes the intersection point of the infinite lines.\n",
    "        Checks if the intersection point lies within the bounds of both line segments.\n",
    "    '''         \n",
    "    line1: Line = Line(start1, end1)\n",
    "    line2: Line = Line(start2, end2)\n",
    "    \n",
    "    if line1.slope == line2.slope:\n",
    "        if line1.yintercept != line2.yintercept:\n",
    "            return None\n",
    "        if IsBetween(start1, start2, end1):\n",
    "            return start2\n",
    "        elif IsBetween(start1, end2, end1):\n",
    "            return end2\n",
    "        elif IsBetween(start2, start1, end2):\n",
    "            return start1\n",
    "        elif IsBetween(start2, end1, end2):\n",
    "            return end1\n",
    "        else:\n",
    "            return None\n",
    "    \n",
    "    x: float = 0\n",
    "    if line1.IsVertical() or line2.IsVertical():\n",
    "        x = line1.start.x if line1.IsVertical() else line2.start.x\n",
    "    else:\n",
    "        x = (line2.yintercept - line1.yintercept) / (line1.slope - line2.slope)\n",
    "    \n",
    "    y: float = line2.GetYFromX(x) if line1.IsVertical() else line1.GetYFromX(x)\n",
    "    intersection: Point = Point(x, y)\n",
    "    \n",
    "    if IsBetween(start1, intersection, end1) and IsBetween(start2, intersection, end2):\n",
    "        return intersection\n",
    "    return None\n",
    "\n",
    "def IsBetweenHelper(start: float, middle: float, end: float) -> bool:\n",
    "    if start > end:\n",
    "        return end <= middle <= start\n",
    "    else:\n",
    "        return start <= middle <= end\n",
    "\n",
    "def IsBetween(start: Point, middle: Point, end: Point) -> bool:\n",
    "    '''\n",
    "    IsBetween Method:\n",
    "        Checks if a point (middle) lies between two other points (start and end) on both x and y axes.\n",
    "    '''\n",
    "    return IsBetweenHelper(start.x, middle.x, end.x) and IsBetweenHelper(start.y, middle.y, end.y)"
   ]
  },
  {
   "cell_type": "markdown",
   "metadata": {},
   "source": [
    "## Example Usage"
   ]
  },
  {
   "cell_type": "markdown",
   "metadata": {},
   "source": [
    "Here's an example of how you might use these classes to find the intersection point of two line segments:"
   ]
  },
  {
   "cell_type": "code",
   "execution_count": 4,
   "metadata": {},
   "outputs": [
    {
     "name": "stdout",
     "output_type": "stream",
     "text": [
      "Intersection Point: (1.5, 1.5)\n"
     ]
    }
   ],
   "source": [
    "# Define the start and end points of the first line segment\n",
    "start1 = Point(0, 0)\n",
    "end1 = Point(3, 3)\n",
    "\n",
    "# Define the start and end points of the second line segment\n",
    "start2 = Point(0, 3)\n",
    "end2 = Point(3, 0)\n",
    "\n",
    "# Create an instance of the Solution class and find the intersection\n",
    "intersection = GetIntersection(start1, end1, start2, end2)\n",
    "\n",
    "if intersection:\n",
    "    print(f\"Intersection Point: ({intersection.x}, {intersection.y})\")\n",
    "else:\n",
    "    print(\"No intersection\")"
   ]
  },
  {
   "cell_type": "markdown",
   "metadata": {},
   "source": [
    "# Literature\n",
    "\n",
    "The contents base on the following literature:\n",
    "\n",
    "* Gayle Laakmann McDowell, *Cracking the Coding Interview*, [Link](https://www.crackingthecodinginterview.com/)."
   ]
  },
  {
   "cell_type": "markdown",
   "metadata": {},
   "source": [
    "**Copyright**\n",
    "\n",
    "The notebooks are provided as [Open Educational Resources](https://en.wikipedia.org/wiki/Open_educational_resources). Feel free to use the notebooks for your own purposes. The text is licensed under [Creative Commons Attribution 4.0](https://creativecommons.org/licenses/by/4.0/), the code of the IPython examples under the [MIT license](https://opensource.org/licenses/MIT)."
   ]
  }
 ],
 "metadata": {
  "kernelspec": {
   "display_name": "Python 3",
   "language": "python",
   "name": "python3"
  },
  "language_info": {
   "codemirror_mode": {
    "name": "ipython",
    "version": 3
   },
   "file_extension": ".py",
   "mimetype": "text/x-python",
   "name": "python",
   "nbconvert_exporter": "python",
   "pygments_lexer": "ipython3",
   "version": "3.10.12"
  },
  "nav_menu": {},
  "toc": {
   "navigate_menu": true,
   "number_sections": true,
   "sideBar": true,
   "threshold": 6,
   "toc_cell": false,
   "toc_section_display": "block",
   "toc_window_display": false
  }
 },
 "nbformat": 4,
 "nbformat_minor": 4
}
