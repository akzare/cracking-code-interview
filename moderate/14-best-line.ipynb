{
 "cells": [
  {
   "cell_type": "markdown",
   "metadata": {},
   "source": [
    "# Problem Description"
   ]
  },
  {
   "cell_type": "markdown",
   "metadata": {},
   "source": [
    "Given two squares on a two dimensional plane, find a line that would cut these two squares in half. Assume that the top and bottom sides of the square run parallel to the x-axis."
   ]
  },
  {
   "cell_type": "markdown",
   "metadata": {},
   "source": [
    "# Solution"
   ]
  },
  {
   "cell_type": "markdown",
   "metadata": {},
   "source": [
    "The solution provided involves creating classes to represent points and lines, and methods to identify the best line that passes through the maximum number of points."
   ]
  },
  {
   "cell_type": "markdown",
   "metadata": {},
   "source": [
    "### GraphPoint Class"
   ]
  },
  {
   "cell_type": "markdown",
   "metadata": {},
   "source": [
    "Represents a point on the graph with x and y coordinates."
   ]
  },
  {
   "cell_type": "code",
   "execution_count": 9,
   "metadata": {},
   "outputs": [],
   "source": [
    "class GraphPoint:\n",
    "    def __init__(self, x: float, y: float) -> None:\n",
    "        self.x = x\n",
    "        self.y = y"
   ]
  },
  {
   "cell_type": "markdown",
   "metadata": {},
   "source": [
    "### Line Class"
   ]
  },
  {
   "cell_type": "markdown",
   "metadata": {},
   "source": [
    "Represents a line defined by two points. It calculates the slope and y-intercept of the line and includes helper methods to determine if two lines are equivalent within a small epsilon value."
   ]
  },
  {
   "cell_type": "code",
   "execution_count": 10,
   "metadata": {},
   "outputs": [],
   "source": [
    "class Line:\n",
    "    def __init__(self, start: GraphPoint, end: GraphPoint) -> None:\n",
    "        self.epsilon: float = 0.0001\n",
    "        self.slope: float = 0\n",
    "        self.yintercept: float = 0\n",
    "        self.infinite_slope: bool = False\n",
    "        self.start: GraphPoint = start\n",
    "        self.end: GraphPoint = end\n",
    "        if abs(start.x - end.x) < self.epsilon:\n",
    "            self.infinite_slope = True\n",
    "            self.yintercept = start.x\n",
    "        else:\n",
    "            self.slope = (end.y - start.y) / (end.x - start.x)\n",
    "            self.yintercept = end.y - self.slope * end.x\n",
    "\n",
    "    def FloorToNearestEpsilon(self, d: float) -> float:\n",
    "        r: int = int(d // self.epsilon)\n",
    "        return float(r * self.epsilon)\n",
    "\n",
    "    def IsEquivalentHelper(self, a: float, b: float) -> bool:\n",
    "        return abs(a - b) < self.epsilon\n",
    "\n",
    "    def IsEquivalent(self, a: 'Line') -> bool:\n",
    "        if self.IsEquivalentHelper(a.slope, self.slope) and self.IsEquivalentHelper(a.yintercept, self.yintercept) and a.infinite_slope == self.infinite_slope:\n",
    "            return True\n",
    "        return False"
   ]
  },
  {
   "cell_type": "markdown",
   "metadata": {},
   "source": [
    "### BestLine Class"
   ]
  },
  {
   "cell_type": "markdown",
   "metadata": {},
   "source": [
    "Contains methods to find the best line that passes through the most points.\n",
    "   * FindBestLine: Finds the best line that passes through the most points.\n",
    "   * GetListOfLines: Generates a list of lines from all pairs of points.\n",
    "   * GetBestLine: Finds the best line by counting equivalent lines.\n",
    "   * CountEquivalentLines: Counts lines that are equivalent to a given line.\n",
    "   * CountEquivalentLinesHelper: Helper method to count lines within a list that are equivalent to a given line."
   ]
  },
  {
   "cell_type": "code",
   "execution_count": 11,
   "metadata": {},
   "outputs": [],
   "source": [
    "class BestLine:\n",
    "\n",
    "    def FindBestLine(self, points: list[GraphPoint]) -> Line:\n",
    "        lineBySlope: dict[float, Line] = self.GetListOfLines(points)\n",
    "        return self.GetBestLine(lineBySlope)\n",
    "\n",
    "    def GetListOfLines(self, points: list[GraphPoint]) -> dict[float, Line]:\n",
    "        '''\n",
    "        Add each pair of points as a line to the list\n",
    "        '''\n",
    "        linesBySlope: dict[float, Line] = {}\n",
    "        for i in range(len(points)):\n",
    "            for j in range(i + 1, len(points), 1):\n",
    "                line: Line = Line(points[i], points[j])\n",
    "                key: float = line.FloorToNearestEpsilon(line.slope)\n",
    "                if key not in linesBySlope:\n",
    "                    linesBySlope[key] = []\n",
    "                linesBySlope[key].append(line)\n",
    "        return linesBySlope\n",
    "\n",
    "    def GetBestLine(self, lineBySlope: dict[float, Line]) -> Line:\n",
    "        bestLine: Line = None\n",
    "        bestCount: int = 0\n",
    "        slopes: list[float] = list(lineBySlope.keys())\n",
    "        for slope in slopes:\n",
    "            lines: list[Line] = lineBySlope[slope]\n",
    "            for line in lines:\n",
    "                # count lines that are equivalent to current line\n",
    "                count: int = self.CountEquivalentLines(lineBySlope, line)\n",
    "                # if better than current line, replace it\n",
    "                if count > bestCount:\n",
    "                    bestLine = line\n",
    "                    bestCount = count\n",
    "                    print(f\"Best line: Slope={bestLine.slope}, Y-intercept={bestLine.yintercept}, Count={bestCount}\")\n",
    "        return bestLine\n",
    "\n",
    "    def CountEquivalentLines(self, lineBySlope: dict[float, Line], line: Line) -> int:\n",
    "        '''\n",
    "        Check hashmap for lines that are equivalent. Note that we need to check one\n",
    "        epsilon above and below the actual slope since we're defining two lines as\n",
    "        equivalent if they're within an epsilon of each other\n",
    "        '''\n",
    "        key: float = line.FloorToNearestEpsilon(line.slope)\n",
    "        count: int = self.CountEquivalentLinesHelper(lineBySlope.get(key, []), line)\n",
    "        count += self.CountEquivalentLinesHelper(lineBySlope.get(key - line.epsilon, []), line)\n",
    "        count += self.CountEquivalentLinesHelper(lineBySlope.get(key + line.epsilon, []), line)\n",
    "        return count\n",
    "\n",
    "    def CountEquivalentLinesHelper(self, lines: list[Line], line: Line) -> int:\n",
    "        '''\n",
    "        Count lines within an array of lines which are equivalent (slope and\n",
    "        y-intercept are within an epsilon value) to a given line\n",
    "        '''\n",
    "        if lines is None:\n",
    "            return 0\n",
    "        count: int = 0\n",
    "        for parallelLine in lines:\n",
    "            if parallelLine.IsEquivalent(line):\n",
    "                count += 1\n",
    "        return count"
   ]
  },
  {
   "cell_type": "markdown",
   "metadata": {},
   "source": [
    "## Example Usage"
   ]
  },
  {
   "cell_type": "markdown",
   "metadata": {},
   "source": [
    "Here's how you might use these classes to find the best line that passes through the most points:"
   ]
  },
  {
   "cell_type": "code",
   "execution_count": 12,
   "metadata": {},
   "outputs": [
    {
     "name": "stdout",
     "output_type": "stream",
     "text": [
      "Best line: Slope=1.0, Y-intercept=1.0, Count=6\n",
      "Best line passes through points: (1, 2) and (2, 3)\n"
     ]
    }
   ],
   "source": [
    "# Example points\n",
    "points = [\n",
    "    GraphPoint(1, 2),\n",
    "    GraphPoint(2, 3),\n",
    "    GraphPoint(3, 4),\n",
    "    GraphPoint(4, 5),\n",
    "    GraphPoint(6, 8)\n",
    "]\n",
    "\n",
    "solution = BestLine()\n",
    "best_line = solution.FindBestLine(points)\n",
    "\n",
    "print(f\"Best line passes through points: ({best_line.start.x}, {best_line.start.y}) and ({best_line.end.x}, {best_line.end.y})\")"
   ]
  },
  {
   "cell_type": "markdown",
   "metadata": {},
   "source": [
    "# Literature\n",
    "\n",
    "The contents base on the following literature:\n",
    "\n",
    "* Gayle Laakmann McDowell, *Cracking the Coding Interview*, [Link](https://www.crackingthecodinginterview.com/)."
   ]
  },
  {
   "cell_type": "markdown",
   "metadata": {},
   "source": [
    "**Copyright**\n",
    "\n",
    "The notebooks are provided as [Open Educational Resources](https://en.wikipedia.org/wiki/Open_educational_resources). Feel free to use the notebooks for your own purposes. The text is licensed under [Creative Commons Attribution 4.0](https://creativecommons.org/licenses/by/4.0/), the code of the IPython examples under the [MIT license](https://opensource.org/licenses/MIT)."
   ]
  }
 ],
 "metadata": {
  "kernelspec": {
   "display_name": "Python 3",
   "language": "python",
   "name": "python3"
  },
  "language_info": {
   "codemirror_mode": {
    "name": "ipython",
    "version": 3
   },
   "file_extension": ".py",
   "mimetype": "text/x-python",
   "name": "python",
   "nbconvert_exporter": "python",
   "pygments_lexer": "ipython3",
   "version": "3.10.12"
  },
  "nav_menu": {},
  "toc": {
   "navigate_menu": true,
   "number_sections": true,
   "sideBar": true,
   "threshold": 6,
   "toc_cell": false,
   "toc_section_display": "block",
   "toc_window_display": false
  }
 },
 "nbformat": 4,
 "nbformat_minor": 4
}
