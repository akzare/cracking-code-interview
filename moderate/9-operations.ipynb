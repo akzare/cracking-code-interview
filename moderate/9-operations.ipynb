{
 "cells": [
  {
   "cell_type": "markdown",
   "metadata": {},
   "source": [
    "# Problem Description"
   ]
  },
  {
   "cell_type": "markdown",
   "metadata": {},
   "source": [
    "Write methods to implement the multiply, subtract, and subtract, and divide operations for integres.\n",
    "The result of all of these are integers. You can use the add operator, but not minus, times, or divide."
   ]
  },
  {
   "cell_type": "markdown",
   "metadata": {},
   "source": [
    "# Solution"
   ]
  },
  {
   "cell_type": "markdown",
   "metadata": {},
   "source": [
    "To implement the multiply, subtract, and divide operations for integers without using the minus (-), times (*), or divide (/) operators, you can leverage the addition operator and bitwise operations. The provided solution includes methods to negate a number, subtract two numbers, multiply two numbers, and divide two numbers."
   ]
  },
  {
   "cell_type": "markdown",
   "metadata": {},
   "source": [
    "### Negate Method"
   ]
  },
  {
   "cell_type": "markdown",
   "metadata": {},
   "source": [
    "This method flips a number's sign using the addition operator."
   ]
  },
  {
   "cell_type": "code",
   "execution_count": 2,
   "metadata": {},
   "outputs": [],
   "source": [
    "def Negate(a: int) -> int:\n",
    "    '''\n",
    "    Flip a positive sign to negative or negative sign to positive.\n",
    "    '''\n",
    "    neg: int = 0\n",
    "    newSign: int = 1 if a < 0 else -1\n",
    "    while a != 0:\n",
    "        neg += newSign\n",
    "        a += newSign\n",
    "    return neg"
   ]
  },
  {
   "cell_type": "markdown",
   "metadata": {},
   "source": [
    "### Minus Method"
   ]
  },
  {
   "cell_type": "markdown",
   "metadata": {},
   "source": [
    "This method subtracts two numbers by negating the second number and adding them."
   ]
  },
  {
   "cell_type": "code",
   "execution_count": 3,
   "metadata": {},
   "outputs": [],
   "source": [
    "def Minus(a: int, b: int) -> int:\n",
    "    '''\n",
    "    Subtract two numbers by negating b and adding them.\n",
    "    '''\n",
    "    return a + Negate(b)"
   ]
  },
  {
   "cell_type": "markdown",
   "metadata": {},
   "source": [
    "### Abs Method"
   ]
  },
  {
   "cell_type": "markdown",
   "metadata": {},
   "source": [
    "This method returns the absolute value of a number."
   ]
  },
  {
   "cell_type": "code",
   "execution_count": 7,
   "metadata": {},
   "outputs": [],
   "source": [
    "def Abs(a: int) -> int:\n",
    "    '''\n",
    "    Return absolute value.\n",
    "    '''\n",
    "    if a < 0:\n",
    "        return Negate(a)\n",
    "    else:\n",
    "        return a"
   ]
  },
  {
   "cell_type": "markdown",
   "metadata": {},
   "source": [
    "### Multiply Method"
   ]
  },
  {
   "cell_type": "markdown",
   "metadata": {},
   "source": [
    "This method multiplies two numbers by adding one number to itself the other number of times."
   ]
  },
  {
   "cell_type": "code",
   "execution_count": 4,
   "metadata": {},
   "outputs": [],
   "source": [
    "def Multiply(a: int, b: int) -> int:\n",
    "    '''\n",
    "    Multiply a by b by adding a to itself b times.\n",
    "    '''\n",
    "    if a < b:\n",
    "        return Multiply(b, a)  # Algorithm is faster if b < a\n",
    "    sum: int = 0\n",
    "    i: int = Abs(b)\n",
    "    while i > 0:\n",
    "        sum += a\n",
    "        i = Minus(i, 1)\n",
    "    if b < 0:\n",
    "        sum = Negate(sum)\n",
    "    return sum"
   ]
  },
  {
   "cell_type": "markdown",
   "metadata": {},
   "source": [
    "### Divide Method"
   ]
  },
  {
   "cell_type": "markdown",
   "metadata": {},
   "source": [
    "This method divides one number by another by repeatedly subtracting the divisor from the dividend."
   ]
  },
  {
   "cell_type": "code",
   "execution_count": 5,
   "metadata": {},
   "outputs": [],
   "source": [
    "def Divide(a: int, b: int) -> int:\n",
    "    '''\n",
    "    Divide a by b using addition and negation.\n",
    "    '''\n",
    "    if b == 0:\n",
    "        raise ValueError(\"Cannot divide by zero\")\n",
    "    absa: int = Abs(a)\n",
    "    absb: int = Abs(b)\n",
    "    product: int = 0\n",
    "    x: int = 0\n",
    "    while product + absb <= absa:  # Don't go past a\n",
    "        product += absb\n",
    "        x += 1\n",
    "    if (a < 0 and b < 0) or (a > 0 and b > 0):\n",
    "        return x\n",
    "    else:\n",
    "        return Negate(x)"
   ]
  },
  {
   "cell_type": "markdown",
   "metadata": {},
   "source": [
    "## Example Usage"
   ]
  },
  {
   "cell_type": "markdown",
   "metadata": {},
   "source": [
    "Here's how you can use these methods to perform arithmetic operations without using minus, times, or divide operators:"
   ]
  },
  {
   "cell_type": "code",
   "execution_count": 8,
   "metadata": {},
   "outputs": [
    {
     "name": "stdout",
     "output_type": "stream",
     "text": [
      "Subtract: 10 - 4 = 6\n",
      "Multiply: 3 * 5 = 15\n",
      "Divide: 20 / 4 = 5\n"
     ]
    }
   ],
   "source": [
    "# Subtract\n",
    "a, b = 10, 4\n",
    "print(f\"Subtract: {a} - {b} = {Minus(a, b)}\")  # Output: 6\n",
    "\n",
    "# Multiply\n",
    "a, b = 3, 5\n",
    "print(f\"Multiply: {a} * {b} = {Multiply(a, b)}\")  # Output: 15\n",
    "\n",
    "# Divide\n",
    "a, b = 20, 4\n",
    "print(f\"Divide: {a} / {b} = {Divide(a, b)}\")  # Output: 5"
   ]
  },
  {
   "cell_type": "markdown",
   "metadata": {},
   "source": [
    "# Literature\n",
    "\n",
    "The contents base on the following literature:\n",
    "\n",
    "* Gayle Laakmann McDowell, *Cracking the Coding Interview*, [Link](https://www.crackingthecodinginterview.com/)."
   ]
  },
  {
   "cell_type": "markdown",
   "metadata": {},
   "source": [
    "**Copyright**\n",
    "\n",
    "The notebooks are provided as [Open Educational Resources](https://en.wikipedia.org/wiki/Open_educational_resources). Feel free to use the notebooks for your own purposes. The text is licensed under [Creative Commons Attribution 4.0](https://creativecommons.org/licenses/by/4.0/), the code of the IPython examples under the [MIT license](https://opensource.org/licenses/MIT)."
   ]
  }
 ],
 "metadata": {
  "kernelspec": {
   "display_name": "Python 3",
   "language": "python",
   "name": "python3"
  },
  "language_info": {
   "codemirror_mode": {
    "name": "ipython",
    "version": 3
   },
   "file_extension": ".py",
   "mimetype": "text/x-python",
   "name": "python",
   "nbconvert_exporter": "python",
   "pygments_lexer": "ipython3",
   "version": "3.10.12"
  },
  "nav_menu": {},
  "toc": {
   "navigate_menu": true,
   "number_sections": true,
   "sideBar": true,
   "threshold": 6,
   "toc_cell": false,
   "toc_section_display": "block",
   "toc_window_display": false
  }
 },
 "nbformat": 4,
 "nbformat_minor": 4
}
