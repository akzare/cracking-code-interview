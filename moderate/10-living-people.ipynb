{
 "cells": [
  {
   "cell_type": "markdown",
   "metadata": {},
   "source": [
    "# Problem Description"
   ]
  },
  {
   "cell_type": "markdown",
   "metadata": {},
   "source": [
    "Given a list of people with their birth and death years, implement a method to compute the year with the most number of people alive. You may assume that all people were born between 1900 and 2000 (inclusive). If a person was alive during any portion of that year, they should be included in that year's count. For example Person (birth=1908, death=1909) is included in the count for both 1908 and 1909."
   ]
  },
  {
   "cell_type": "markdown",
   "metadata": {},
   "source": [
    "# Solution"
   ]
  },
  {
   "cell_type": "markdown",
   "metadata": {},
   "source": [
    "To find the year with the most number of people alive, we can use several methods ranging from a brute-force approach to more optimized ones. Below is the solution class that implements these methods, each with its own explanation and logic."
   ]
  },
  {
   "cell_type": "markdown",
   "metadata": {},
   "source": [
    "### Person Class"
   ]
  },
  {
   "cell_type": "markdown",
   "metadata": {},
   "source": [
    "First, we define a Person class to represent each person with their birth and death years."
   ]
  },
  {
   "cell_type": "code",
   "execution_count": 1,
   "metadata": {},
   "outputs": [],
   "source": [
    "class Person:\n",
    "    '''\n",
    "    Person Class\n",
    "    This class represents a person with their birth and death years.\n",
    "    '''\n",
    "    def __init__(self, birthYear: int, deathYear: int) -> None:\n",
    "        self.birth: int = birthYear\n",
    "        self.death: int = deathYear"
   ]
  },
  {
   "cell_type": "markdown",
   "metadata": {},
   "source": [
    "### Brute Force Approach"
   ]
  },
  {
   "cell_type": "markdown",
   "metadata": {},
   "source": [
    "This method iterates through each year and counts the number of people alive in that year."
   ]
  },
  {
   "cell_type": "code",
   "execution_count": 2,
   "metadata": {},
   "outputs": [],
   "source": [
    "def MaxAliveYearBruteForce(people: list[Person], min: int, max: int) -> int:\n",
    "    '''\n",
    "    MaxAliveYearBruteForce\n",
    "    This method uses a brute-force approach to find the year with the most number of people alive.\n",
    "    '''\n",
    "    maxAlive: int = 0\n",
    "    maxAliveYear: int = 0\n",
    "    for year in range(min, max + 1):\n",
    "        alive: int = 0\n",
    "        for person in people:\n",
    "            if person.birth <= year <= person.death:\n",
    "                alive += 1\n",
    "        if alive > maxAlive:\n",
    "            maxAlive = alive\n",
    "            maxAliveYear = year\n",
    "    return maxAliveYear"
   ]
  },
  {
   "cell_type": "markdown",
   "metadata": {},
   "source": [
    "### Slightly Better Brute Force Approach"
   ]
  },
  {
   "cell_type": "markdown",
   "metadata": {},
   "source": [
    "This method improves the brute-force approach by using an array to keep track of the number of people alive in each year."
   ]
  },
  {
   "cell_type": "code",
   "execution_count": 3,
   "metadata": {},
   "outputs": [],
   "source": [
    "def MaxAliveYearSlightlyBetterBruteForce(people: list[Person], min: int, max: int) -> int:\n",
    "    '''\n",
    "    MaxAliveYearSlightlyBetterBruteForce\n",
    "    This method uses a year map to count the number of people alive in each year and then finds the year with the maximum count.\n",
    "    '''\n",
    "    years: list[int] = CreateYearMap(people, min, max)\n",
    "    best: int = GetMaxIndex(years)\n",
    "    return best + min\n",
    "        \n",
    "def CreateYearMap(people: list[Person], min: int, max: int) -> list[int]:\n",
    "    '''\n",
    "    Add each person's years to a year map\n",
    "    '''\n",
    "    years: list[int] = [0] * (max - min + 1)\n",
    "    for person in people:\n",
    "        IncrementRange(years, person.birth - min, person.death - min)\n",
    "    return years\n",
    "\n",
    "def IncrementRange(values: list[int], left: int, right: int) -> None:\n",
    "    '''\n",
    "    Increment array for each value between left and right\n",
    "    '''\n",
    "    for i in range(left, right + 1):\n",
    "        values[i] += 1\n",
    "            \n",
    "def GetMaxIndex(values: list[int]) -> int:\n",
    "    '''\n",
    "    Get index of largest element in array\n",
    "    '''\n",
    "    max_index: int = 0\n",
    "    for i in range(len(values)):\n",
    "        if values[i] > values[max_index]:\n",
    "            max_index = i\n",
    "    return max_index"
   ]
  },
  {
   "cell_type": "markdown",
   "metadata": {},
   "source": [
    "### More Optimal Approach"
   ]
  },
  {
   "cell_type": "markdown",
   "metadata": {},
   "source": [
    "This method sorts the birth and death years and then walks through the years to count the number of people alive."
   ]
  },
  {
   "cell_type": "code",
   "execution_count": 4,
   "metadata": {},
   "outputs": [],
   "source": [
    "def MaxAliveYearMoreOptimal(people: list[Person], min: int, max: int) -> int:\n",
    "    '''\n",
    "    MaxAliveYearMoreOptimal\n",
    "    This method sorts the birth and death years to find the year with the most number of people alive.\n",
    "    '''\n",
    "    births: list[int] = GetSortedYears(people, True)\n",
    "    deaths: list[int] = GetSortedYears(people, False)\n",
    "    birthIndex: int = 0\n",
    "    deathIndex: int = 0\n",
    "    currentlyAlive: int = 0\n",
    "    maxAlive: int = 0\n",
    "    maxAliveYear: int = 0\n",
    "    # Walk through years\n",
    "    while birthIndex < len(births):\n",
    "        if births[birthIndex] <= deaths[deathIndex]:\n",
    "            currentlyAlive += 1  # Include birth\n",
    "            if currentlyAlive > maxAlive:\n",
    "                maxAlive = currentlyAlive\n",
    "                maxAliveYear = births[birthIndex]\n",
    "            birthIndex += 1  # Move birth index\n",
    "        else:\n",
    "            currentlyAlive -= 1  # Include death\n",
    "            deathIndex += 1  # Move death index\n",
    "    return maxAliveYear\n",
    "\n",
    "def GetSortedYears(people: list[Person], copyBirthYear: bool) -> list[int]:\n",
    "    '''\n",
    "    Copy birth years or death years into integer array, then sort array\n",
    "    '''\n",
    "    years: list[int] = [0] * len(people)\n",
    "    for i in range(len(people)):\n",
    "        years[i] = people[i].birth if copyBirthYear else people[i].death\n",
    "    years.sort()\n",
    "    return years"
   ]
  },
  {
   "cell_type": "markdown",
   "metadata": {},
   "source": [
    "### Maybe More Optimal Approach"
   ]
  },
  {
   "cell_type": "markdown",
   "metadata": {},
   "source": [
    "This method uses a population delta array to find the year with the most number of people alive."
   ]
  },
  {
   "cell_type": "code",
   "execution_count": 5,
   "metadata": {},
   "outputs": [],
   "source": [
    "def MaxAliveYearMaybeMoreOptimal(people: list[Person], min: int, max: int) -> int:\n",
    "    '''\n",
    "    MaxAliveYearMaybeMoreOptimal\n",
    "    This method uses a population delta array to find the year with the most number of people alive.\n",
    "    '''\n",
    "    # Build population delta array\n",
    "    populationDeltas: list[int] = GetPopulationDeltas(people, min, max)\n",
    "    maxAliveYear: int = GetMaxAliveYear(populationDeltas)\n",
    "    return maxAliveYear + min\n",
    "\n",
    "def GetPopulationDeltas(people: list[Person], min: int, max: int) -> list[int]:\n",
    "    '''\n",
    "    Add birth and death years to deltas array\n",
    "    '''\n",
    "    populationDeltas: list[int] = [0] * (max - min + 2)\n",
    "    for person in people:\n",
    "        birth: int = person.birth - min\n",
    "        populationDeltas[birth] += 1\n",
    "        death: int = person.death - min\n",
    "        populationDeltas[death + 1] -= 1\n",
    "    return populationDeltas\n",
    "\n",
    "def GetMaxAliveYear(deltas: list[int]) -> int:\n",
    "    '''\n",
    "    Find the year with the maximum number of people alive by accumulating the deltas\n",
    "    '''\n",
    "    maxAliveYear: int = 0\n",
    "    maxAlive: int = 0\n",
    "    currentlyAlive: int = 0\n",
    "    for year in range(len(deltas)):\n",
    "        currentlyAlive += deltas[year]\n",
    "        if currentlyAlive > maxAlive:\n",
    "            maxAliveYear = year\n",
    "            maxAlive = currentlyAlive\n",
    "    return maxAliveYear"
   ]
  },
  {
   "cell_type": "markdown",
   "metadata": {},
   "source": [
    "## Example Usage"
   ]
  },
  {
   "cell_type": "markdown",
   "metadata": {},
   "source": [
    "Let's see how you can use these methods to find the year with the most number of people alive:"
   ]
  },
  {
   "cell_type": "code",
   "execution_count": 6,
   "metadata": {},
   "outputs": [
    {
     "name": "stdout",
     "output_type": "stream",
     "text": [
      "Max Alive Year Brute Force: 1940 Execution time:212.43 microseconds\n",
      "Max Alive Year Slightly Better Brute Force: 1940 Execution time:135.34 microseconds\n",
      "Max Alive Year More Optimal: 1940 Execution time:120.18 microseconds\n",
      "Max Alive Year Maybe More Optimal: 1940 Execution time:98.58 microseconds\n"
     ]
    }
   ],
   "source": [
    "import time\n",
    "\n",
    "people = [\n",
    "    Person(1900, 1950),\n",
    "    Person(1920, 1980),\n",
    "    Person(1940, 2000),\n",
    "    Person(1960, 1990)\n",
    "]\n",
    "\n",
    "# Brute force approach\n",
    "start_time = time.perf_counter()\n",
    "max_year_bruteforce = MaxAliveYearBruteForce(people, 1900, 2000)\n",
    "end_time = time.perf_counter()\n",
    "execution_time = (end_time - start_time) * 1_000_000  # Convert to microseconds\n",
    "print(f\"Max Alive Year Brute Force: {max_year_bruteforce} Execution time:{execution_time:.2f} microseconds\")\n",
    "\n",
    "\n",
    "# Slightly better brute force approach\n",
    "start_time = time.perf_counter()\n",
    "max_year_better = MaxAliveYearSlightlyBetterBruteForce(people, 1900, 2000)\n",
    "end_time = time.perf_counter()\n",
    "execution_time = (end_time - start_time) * 1_000_000  # Convert to microseconds\n",
    "print(f\"Max Alive Year Slightly Better Brute Force: {max_year_better} Execution time:{execution_time:.2f} microseconds\")\n",
    "\n",
    "# More optimal approach\n",
    "start_time = time.perf_counter()\n",
    "max_year_optimal = MaxAliveYearMoreOptimal(people, 1900, 2000)\n",
    "end_time = time.perf_counter()\n",
    "execution_time = (end_time - start_time) * 1_000_000  # Convert to microseconds\n",
    "print(f\"Max Alive Year More Optimal: {max_year_optimal} Execution time:{execution_time:.2f} microseconds\")\n",
    "\n",
    "# Maybe more optimal approach\n",
    "start_time = time.perf_counter()\n",
    "max_year_most_optimal = MaxAliveYearMaybeMoreOptimal(people, 1900, 2000)\n",
    "end_time = time.perf_counter()\n",
    "execution_time = (end_time - start_time) * 1_000_000  # Convert to microseconds\n",
    "print(f\"Max Alive Year Maybe More Optimal: {max_year_most_optimal} Execution time:{execution_time:.2f} microseconds\")"
   ]
  },
  {
   "cell_type": "markdown",
   "metadata": {},
   "source": [
    "# Literature\n",
    "\n",
    "The contents base on the following literature:\n",
    "\n",
    "* Gayle Laakmann McDowell, *Cracking the Coding Interview*, [Link](https://www.crackingthecodinginterview.com/)."
   ]
  },
  {
   "cell_type": "markdown",
   "metadata": {},
   "source": [
    "**Copyright**\n",
    "\n",
    "The notebooks are provided as [Open Educational Resources](https://en.wikipedia.org/wiki/Open_educational_resources). Feel free to use the notebooks for your own purposes. The text is licensed under [Creative Commons Attribution 4.0](https://creativecommons.org/licenses/by/4.0/), the code of the IPython examples under the [MIT license](https://opensource.org/licenses/MIT)."
   ]
  }
 ],
 "metadata": {
  "kernelspec": {
   "display_name": "Python 3",
   "language": "python",
   "name": "python3"
  },
  "language_info": {
   "codemirror_mode": {
    "name": "ipython",
    "version": 3
   },
   "file_extension": ".py",
   "mimetype": "text/x-python",
   "name": "python",
   "nbconvert_exporter": "python",
   "pygments_lexer": "ipython3",
   "version": "3.10.12"
  },
  "nav_menu": {},
  "toc": {
   "navigate_menu": true,
   "number_sections": true,
   "sideBar": true,
   "threshold": 6,
   "toc_cell": false,
   "toc_section_display": "block",
   "toc_window_display": false
  }
 },
 "nbformat": 4,
 "nbformat_minor": 4
}
