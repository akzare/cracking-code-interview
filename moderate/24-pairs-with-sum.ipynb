{
 "cells": [
  {
   "cell_type": "markdown",
   "metadata": {},
   "source": [
    "# Problem Description"
   ]
  },
  {
   "cell_type": "markdown",
   "metadata": {},
   "source": [
    "Design an algorithm to find all pairs of integers within an array which sum to a specified value."
   ]
  },
  {
   "cell_type": "markdown",
   "metadata": {},
   "source": [
    "### Brute Force Method"
   ]
  },
  {
   "cell_type": "markdown",
   "metadata": {},
   "source": [
    "This method checks all possible pairs of integers in the array to see if their sum equals the specified value.\n",
    "* Logic\n",
    "   * Iterate over all possible pairs of integers.\n",
    "   * Check if their sum equals the specified value.\n",
    "   * If so, add the pair to the result list."
   ]
  },
  {
   "cell_type": "code",
   "execution_count": 1,
   "metadata": {},
   "outputs": [],
   "source": [
    "class Pair:\n",
    "    def __init__(self, num1, num2):\n",
    "        self.num1 = num1\n",
    "        self.num2 = num2\n",
    "\n",
    "def PrintPairSumsBruteForce(array, target_sum):\n",
    "    result = []\n",
    "    for i in range(len(array)):\n",
    "        for j in range(i + 1, len(array)):\n",
    "            if array[i] + array[j] == target_sum:\n",
    "                result.append(Pair(array[i], array[j]))\n",
    "    return result"
   ]
  },
  {
   "cell_type": "markdown",
   "metadata": {},
   "source": [
    "### Optimized Method (Using Hash Table)"
   ]
  },
  {
   "cell_type": "markdown",
   "metadata": {},
   "source": [
    "This method uses a hash table to find pairs more efficiently by keeping track of integers and their complements.\n",
    "* Logic\n",
    "   * Use a hash table (unpaired_count) to track integers and their counts.\n",
    "   * For each integer, compute its complement (i.e., target_sum - x).\n",
    "   * If the complement is in the hash table, add the pair to the result list and decrement the complement's count.\n",
    "   * Otherwise, increment the count of the current integer in the hash table."
   ]
  },
  {
   "cell_type": "code",
   "execution_count": 2,
   "metadata": {},
   "outputs": [],
   "source": [
    "def PrintPairSumsOptimized(array, target_sum):\n",
    "    result = []\n",
    "    unpaired_count = {}\n",
    "    for x in array:\n",
    "        complement = target_sum - x\n",
    "        if complement in unpaired_count and unpaired_count[complement] > 0:\n",
    "            result.append(Pair(x, complement))\n",
    "            unpaired_count[complement] -= 1\n",
    "        else:\n",
    "            unpaired_count[x] = unpaired_count.get(x, 0) + 1\n",
    "    return result"
   ]
  },
  {
   "cell_type": "markdown",
   "metadata": {},
   "source": [
    "### Optimized Method (Using Sorting)"
   ]
  },
  {
   "cell_type": "markdown",
   "metadata": {},
   "source": [
    "This method sorts the array and uses two pointers to find pairs.\n",
    "* Logic\n",
    "   * Sort the array.\n",
    "   * Use two pointers (first starting at the beginning and last at the end).\n",
    "   * If the sum of the elements at the two pointers equals the target value, print the pair and move both pointers.\n",
    "   * If the sum is less than the target value, move the first pointer to the right.\n",
    "   * If the sum is greater than the target value, move the last pointer to the left."
   ]
  },
  {
   "cell_type": "code",
   "execution_count": 3,
   "metadata": {},
   "outputs": [],
   "source": [
    "def PrintPairSumsOptimizedAlternate(array, target_sum):\n",
    "    array.sort()\n",
    "    first = 0\n",
    "    last = len(array) - 1\n",
    "    while first < last:\n",
    "        s = array[first] + array[last]\n",
    "        if s == target_sum:\n",
    "            print(array[first], array[last])\n",
    "            first += 1\n",
    "            last -= 1\n",
    "        elif s < target_sum:\n",
    "            first += 1\n",
    "        else:\n",
    "            last -= 1"
   ]
  },
  {
   "cell_type": "markdown",
   "metadata": {},
   "source": [
    "## Example Usage"
   ]
  },
  {
   "cell_type": "markdown",
   "metadata": {},
   "source": [
    "Here are examples of how to use each method to find pairs of integers that sum to a specified value.\n",
    "* Expected Output for All Methods\n",
    "   * For the given array [1, 2, 3, 4, 5, 6, 7, 8, 9] and target sum 10, the expected pairs are:\n",
    "     * (1, 9)\n",
    "     * (2, 8)\n",
    "     * (3, 7)\n",
    "     * (4, 6)\n",
    "\n",
    "Each method will find and print these pairs according to their logic."
   ]
  },
  {
   "cell_type": "code",
   "execution_count": 4,
   "metadata": {},
   "outputs": [
    {
     "name": "stdout",
     "output_type": "stream",
     "text": [
      "Print Pair Sums Brute Force: Execution time:109.56 microseconds\n",
      "Pair: (1, 9)\n",
      "Pair: (2, 8)\n",
      "Pair: (3, 7)\n",
      "Pair: (4, 6)\n",
      "Print Pair Sums Brute Force: Execution time:105.67 microseconds\n",
      "Pair: (6, 4)\n",
      "Pair: (7, 3)\n",
      "Pair: (8, 2)\n",
      "Pair: (9, 1)\n",
      "1 9\n",
      "2 8\n",
      "3 7\n",
      "4 6\n"
     ]
    }
   ],
   "source": [
    "import time\n",
    "\n",
    "# Create a list of integers\n",
    "array = [1, 2, 3, 4, 5, 6, 7, 8, 9]\n",
    "# Define the target sum\n",
    "target_sum = 10\n",
    "\n",
    "# Find pairs using the brute force method\n",
    "\n",
    "start_time = time.perf_counter()\n",
    "pairs_brute_force = PrintPairSumsBruteForce(array, target_sum)\n",
    "end_time = time.perf_counter()\n",
    "execution_time = (end_time - start_time) * 1_000_000  # Convert to microseconds\n",
    "print(f\"Print Pair Sums Brute Force: Execution time:{execution_time:.2f} microseconds\")\n",
    "\n",
    "# Print the pairs\n",
    "for pair in pairs_brute_force:\n",
    "    print(f\"Pair: ({pair.num1}, {pair.num2})\")\n",
    "\n",
    "\n",
    "\n",
    "# Find pairs using the optimized method\n",
    "start_time = time.perf_counter()\n",
    "pairs_optimized = PrintPairSumsOptimized(array, target_sum)\n",
    "end_time = time.perf_counter()\n",
    "execution_time = (end_time - start_time) * 1_000_000  # Convert to microseconds\n",
    "print(f\"Print Pair Sums Brute Force: Execution time:{execution_time:.2f} microseconds\")\n",
    "\n",
    "# Print the pairs\n",
    "for pair in pairs_optimized:\n",
    "    print(f\"Pair: ({pair.num1}, {pair.num2})\")\n",
    "\n",
    "\n",
    "\n",
    "# Find and print pairs using the optimized alternate method\n",
    "PrintPairSumsOptimizedAlternate(array, target_sum)\n"
   ]
  },
  {
   "cell_type": "markdown",
   "metadata": {},
   "source": [
    "# Literature\n",
    "\n",
    "The contents base on the following literature:\n",
    "\n",
    "* Gayle Laakmann McDowell, *Cracking the Coding Interview*, [Link](https://www.crackingthecodinginterview.com/)."
   ]
  },
  {
   "cell_type": "markdown",
   "metadata": {},
   "source": [
    "**Copyright**\n",
    "\n",
    "The notebooks are provided as [Open Educational Resources](https://en.wikipedia.org/wiki/Open_educational_resources). Feel free to use the notebooks for your own purposes. The text is licensed under [Creative Commons Attribution 4.0](https://creativecommons.org/licenses/by/4.0/), the code of the IPython examples under the [MIT license](https://opensource.org/licenses/MIT)."
   ]
  }
 ],
 "metadata": {
  "kernelspec": {
   "display_name": "Python 3",
   "language": "python",
   "name": "python3"
  },
  "language_info": {
   "codemirror_mode": {
    "name": "ipython",
    "version": 3
   },
   "file_extension": ".py",
   "mimetype": "text/x-python",
   "name": "python",
   "nbconvert_exporter": "python",
   "pygments_lexer": "ipython3",
   "version": "3.10.12"
  },
  "nav_menu": {},
  "toc": {
   "navigate_menu": true,
   "number_sections": true,
   "sideBar": true,
   "threshold": 6,
   "toc_cell": false,
   "toc_section_display": "block",
   "toc_window_display": false
  }
 },
 "nbformat": 4,
 "nbformat_minor": 4
}
