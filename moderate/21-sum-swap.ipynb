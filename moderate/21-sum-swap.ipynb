{
 "cells": [
  {
   "cell_type": "markdown",
   "metadata": {},
   "source": [
    "# Problem Description"
   ]
  },
  {
   "cell_type": "markdown",
   "metadata": {},
   "source": [
    "Given two arrays of integers, find a pair of values (one from each array) that you can swap to give the two arrays the same sum.\n",
    "* Example:\n",
    "   * Input {4,1,2,1,1,2} and {3,6,3,3}\n",
    "   * Output: {1,3}"
   ]
  },
  {
   "cell_type": "markdown",
   "metadata": {},
   "source": [
    "### Approach 1: Brute-Force"
   ]
  },
  {
   "cell_type": "markdown",
   "metadata": {},
   "source": [
    "This method uses a brute-force approach to find the pair:\n",
    "1. ***Calculate the sums*** of both arrays.\n",
    "2. ***Iterate through each element*** in array1, and for each element, iterate through each element in array2.\n",
    "3. ***Check if swapping the two elements*** results in equal sums.\n",
    "4. If found, ***return the pair***. If not, return None."
   ]
  },
  {
   "cell_type": "code",
   "execution_count": 2,
   "metadata": {},
   "outputs": [],
   "source": [
    "def FindSwapValues(array1: list[int], array2: list[int]) -> list[int]:\n",
    "    sum1: int = sum(array1)\n",
    "    sum2: int = sum(array2)\n",
    "    for one in array1:\n",
    "        for two in array2:\n",
    "            newSum1: int = sum1 - one + two\n",
    "            newSum2: int = sum2 - two + one\n",
    "            if newSum1 == newSum2:\n",
    "                return [one, two]\n",
    "    return None"
   ]
  },
  {
   "cell_type": "markdown",
   "metadata": {},
   "source": [
    "### Approach 2: Target Difference"
   ]
  },
  {
   "cell_type": "markdown",
   "metadata": {},
   "source": [
    "This method uses a target difference approach:\n",
    "1. ***Calculate the target difference*** between the sums of the two arrays.\n",
    "2. For each element in `array1`, check every element in `array2`.\n",
    "3. ***Check if the difference*** between the elements equals the target.\n",
    "4. If found, ***return the pair***. If not, return None."
   ]
  },
  {
   "cell_type": "code",
   "execution_count": 3,
   "metadata": {},
   "outputs": [],
   "source": [
    "def FindSwapValuesTargetApproach(array1: list[int], array2: list[int]) -> list[int]:\n",
    "    target: int = GetTarget(array1, array2)\n",
    "    if target is None:\n",
    "        return None\n",
    "    for one in array1:\n",
    "        for two in array2:\n",
    "            if one - two == target:\n",
    "                return [one, two]\n",
    "    return None\n",
    "\n",
    "def GetTarget(array1: list[int], array2: list[int]) -> int:\n",
    "    sum1: int = sum(array1)\n",
    "    sum2: int = sum(array2)\n",
    "    if (sum1 - sum2) % 2 != 0:\n",
    "        return None\n",
    "    return (sum1 - sum2) // 2"
   ]
  },
  {
   "cell_type": "markdown",
   "metadata": {},
   "source": [
    "### Approach 3: Optimal with Set Lookup"
   ]
  },
  {
   "cell_type": "markdown",
   "metadata": {},
   "source": [
    "This method optimizes the target approach:\n",
    "1. ***Calculate the target difference***.\n",
    "2. ***Use a set*** to store elements of array2 for quick lookup.\n",
    "3. For each element in `array1`, check if `element - target` exists in `array2`.\n",
    "4. If found, ***return the pair***. If not, return None."
   ]
  },
  {
   "cell_type": "code",
   "execution_count": 4,
   "metadata": {},
   "outputs": [],
   "source": [
    "def FindSwapValuesOptimal(array1: list[int], array2: list[int]) -> list[int]:\n",
    "    target: int = GetTarget(array1, array2)\n",
    "    if target is None:\n",
    "        return None\n",
    "    return FindDifference(array1, array2, target)\n",
    "\n",
    "def FindDifference(array1: list[int], array2: list[int], target: int) -> list[int]:\n",
    "    contents2: set[int] = set(array2)\n",
    "    for one in array1:\n",
    "        two = one - target\n",
    "        if two in contents2:\n",
    "            return [one, two]\n",
    "    return None"
   ]
  },
  {
   "cell_type": "markdown",
   "metadata": {},
   "source": [
    "### Approach 4: Optimal with Two Pointers"
   ]
  },
  {
   "cell_type": "markdown",
   "metadata": {},
   "source": [
    "This method further optimizes the search by using two pointers:\n",
    "1. Calculate the target difference.\n",
    "2. Use two pointers to iterate through both arrays.\n",
    "3. Adjust the pointers based on the current difference compared to the target.\n",
    "4. If the difference matches the target, return the pair. If not, return None."
   ]
  },
  {
   "cell_type": "code",
   "execution_count": 5,
   "metadata": {},
   "outputs": [],
   "source": [
    "def FindSwapValuesOptimalAlternate(array1: list[int], array2: list[int]) -> list[int]:\n",
    "    target: int = GetTarget(array1, array2)\n",
    "    if target is None:\n",
    "        return None\n",
    "    return FindDifferenceOptimalAlternate(array1, array2, target)\n",
    "\n",
    "def FindDifferenceOptimalAlternate(array1: list[int], array2: list[int], target: int) -> list[int]:\n",
    "    a: int = 0\n",
    "    b: int = 0\n",
    "    array1.sort()\n",
    "    array2.sort()\n",
    "    while a < len(array1) and b < len(array2):\n",
    "        difference: int = array1[a] - array2[b]\n",
    "        if difference == target:\n",
    "            return [array1[a], array2[b]]\n",
    "        elif difference < target:\n",
    "            a += 1\n",
    "        else:\n",
    "            b += 1\n",
    "    return None"
   ]
  },
  {
   "cell_type": "markdown",
   "metadata": {},
   "source": [
    "## Example Usage"
   ]
  },
  {
   "cell_type": "markdown",
   "metadata": {},
   "source": [
    "Here's how you can use these methods to find the pair of values:"
   ]
  },
  {
   "cell_type": "code",
   "execution_count": 6,
   "metadata": {},
   "outputs": [
    {
     "name": "stdout",
     "output_type": "stream",
     "text": [
      "Find Swap Values Brute Force: [4, 6] Execution time:367.54 microseconds\n",
      "Find Swap Values Target Approach: [4, 6] Execution time:230.93 microseconds\n",
      "Find Swap Values Optimal Approach with set lookup: [4, 6] Execution time:445.48 microseconds\n",
      "Find Swap Values Optimal Approach with two pointers: [1, 3] Execution time:194.59 microseconds\n"
     ]
    }
   ],
   "source": [
    "import time\n",
    "\n",
    "array1 = [4, 1, 2, 1, 1, 2]\n",
    "array2 = [3, 6, 3, 3]\n",
    "\n",
    "# Using brute-force approach\n",
    "start_time = time.perf_counter()\n",
    "result = FindSwapValues(array1, array2)  # Output: [1, 3]\n",
    "end_time = time.perf_counter()\n",
    "execution_time = (end_time - start_time) * 1_000_000  # Convert to microseconds\n",
    "print(f\"Find Swap Values Brute Force: {result} Execution time:{execution_time:.2f} microseconds\")\n",
    "\n",
    "# Using target difference approach\n",
    "start_time = time.perf_counter()\n",
    "result = FindSwapValuesTargetApproach(array1, array2)  # Output: [1, 3]\n",
    "end_time = time.perf_counter()\n",
    "execution_time = (end_time - start_time) * 1_000_000  # Convert to microseconds\n",
    "print(f\"Find Swap Values Target Approach: {result} Execution time:{execution_time:.2f} microseconds\")\n",
    "\n",
    "# Using optimal approach with set lookup\n",
    "start_time = time.perf_counter()\n",
    "result = FindSwapValuesOptimal(array1, array2)  # Output: [1, 3]\n",
    "end_time = time.perf_counter()\n",
    "execution_time = (end_time - start_time) * 1_000_000  # Convert to microseconds\n",
    "print(f\"Find Swap Values Optimal Approach with set lookup: {result} Execution time:{execution_time:.2f} microseconds\")\n",
    "\n",
    "# Using optimal approach with two pointers\n",
    "start_time = time.perf_counter()\n",
    "result = FindSwapValuesOptimalAlternate(array1, array2)  # Output: [1, 3]\n",
    "end_time = time.perf_counter()\n",
    "execution_time = (end_time - start_time) * 1_000_000  # Convert to microseconds\n",
    "print(f\"Find Swap Values Optimal Approach with two pointers: {result} Execution time:{execution_time:.2f} microseconds\")"
   ]
  },
  {
   "cell_type": "markdown",
   "metadata": {},
   "source": [
    "# Literature\n",
    "\n",
    "The contents base on the following literature:\n",
    "\n",
    "* Gayle Laakmann McDowell, *Cracking the Coding Interview*, [Link](https://www.crackingthecodinginterview.com/)."
   ]
  },
  {
   "cell_type": "markdown",
   "metadata": {},
   "source": [
    "**Copyright**\n",
    "\n",
    "The notebooks are provided as [Open Educational Resources](https://en.wikipedia.org/wiki/Open_educational_resources). Feel free to use the notebooks for your own purposes. The text is licensed under [Creative Commons Attribution 4.0](https://creativecommons.org/licenses/by/4.0/), the code of the IPython examples under the [MIT license](https://opensource.org/licenses/MIT)."
   ]
  }
 ],
 "metadata": {
  "kernelspec": {
   "display_name": "Python 3",
   "language": "python",
   "name": "python3"
  },
  "language_info": {
   "codemirror_mode": {
    "name": "ipython",
    "version": 3
   },
   "file_extension": ".py",
   "mimetype": "text/x-python",
   "name": "python",
   "nbconvert_exporter": "python",
   "pygments_lexer": "ipython3",
   "version": "3.10.12"
  },
  "nav_menu": {},
  "toc": {
   "navigate_menu": true,
   "number_sections": true,
   "sideBar": true,
   "threshold": 6,
   "toc_cell": false,
   "toc_section_display": "block",
   "toc_window_display": false
  }
 },
 "nbformat": 4,
 "nbformat_minor": 4
}
