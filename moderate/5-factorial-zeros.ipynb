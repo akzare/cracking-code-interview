{
 "cells": [
  {
   "cell_type": "markdown",
   "metadata": {},
   "source": [
    "# Problem Description"
   ]
  },
  {
   "cell_type": "markdown",
   "metadata": {},
   "source": [
    "Write an algorithm which computes the number of trailing zeros in n factorial."
   ]
  },
  {
   "cell_type": "markdown",
   "metadata": {},
   "source": [
    "# Solution"
   ]
  },
  {
   "cell_type": "markdown",
   "metadata": {},
   "source": [
    "This solution provides two methods to calculate the number of trailing zeros in the factorial of a given number 𝑛!.\n",
    "\n",
    "#### Explanation\n",
    "* The number of trailing zeros in 𝑛! is determined by the number of times 10 is a factor in the numbers from 1 to 𝑛.\n",
    "* A factor of 10 is produced by multiplying 2 and 5. In any factorial, there are generally more 2s than 5s, so the number of trailing zeros is determined by the number of 5s in the factors of 𝑛!."
   ]
  },
  {
   "cell_type": "markdown",
   "metadata": {},
   "source": [
    "### FactorsOf5 Method"
   ]
  },
  {
   "cell_type": "markdown",
   "metadata": {},
   "source": [
    "This method counts how many times 5 is a factor in a given number."
   ]
  },
  {
   "cell_type": "code",
   "execution_count": 5,
   "metadata": {},
   "outputs": [],
   "source": [
    "def FactorsOf5(i: int) -> int:\n",
    "    '''\n",
    "    This method counts how many times 5 is a factor in a given number.\n",
    "    Parameters:\n",
    "        i: The number to check for factors of 5.\n",
    "    Returns:\n",
    "        The count of 5s in the factorization of i.\n",
    "    Logic:\n",
    "        Initialize a counter.\n",
    "        While i is divisible by 5, increment the counter and divide i by 5.\n",
    "    '''\n",
    "    count: int = 0\n",
    "    while i % 5 == 0:\n",
    "        count += 1\n",
    "        i //= 5\n",
    "    return count"
   ]
  },
  {
   "cell_type": "markdown",
   "metadata": {},
   "source": [
    "### CountFactZeros Method"
   ]
  },
  {
   "cell_type": "markdown",
   "metadata": {},
   "source": [
    "This method counts the total number of trailing zeros in 𝑛! by summing the factors of 5 in each number from 2 to 𝑛."
   ]
  },
  {
   "cell_type": "code",
   "execution_count": 6,
   "metadata": {},
   "outputs": [],
   "source": [
    "def CountFactZeros(num: int) -> int:\n",
    "    '''\n",
    "    This method counts the total number of trailing zeros in n! by summing the factors\n",
    "    of 5 in each number from 2 to n.\n",
    "    Parameters:\n",
    "        num: The number n for which we want to find the factorial trailing zeros.\n",
    "    Returns:\n",
    "        The total count of trailing zeros in n!.\n",
    "    Logic:\n",
    "        Initialize a counter.\n",
    "        For each number from 2 to n-1, add the number of factors of 5 to the counter.\n",
    "        Return the total count.\n",
    "    '''\n",
    "    count: int = 0\n",
    "    for i in range(2, num + 1):\n",
    "        count += FactorsOf5(i)\n",
    "    return count"
   ]
  },
  {
   "cell_type": "markdown",
   "metadata": {},
   "source": [
    "## CountFactZerosOptimize Method\n",
    "This optimized method counts the trailing zeros in 𝑛! by directly counting multiples of 5, 25, 125, etc."
   ]
  },
  {
   "cell_type": "code",
   "execution_count": 7,
   "metadata": {},
   "outputs": [],
   "source": [
    "def CountFactZerosOptimize(num: int) -> int:\n",
    "    '''\n",
    "    This optimized method counts the trailing zeros in n! by directly counting multiples\n",
    "    of 5, 25, 125, etc.\n",
    "    Parameters:\n",
    "        num: The number n for which we want to find the factorial trailing zeros.\n",
    "    Returns:\n",
    "        The total count of trailing zeros in n!.\n",
    "    Logic:\n",
    "        Initialize a counter.\n",
    "        While num divided by i (which starts at 5) is greater than 0:\n",
    "        Add the integer division of num by i to the counter.\n",
    "        Multiply i by 5 to check higher powers of 5.\n",
    "        Return the total count.\n",
    "    '''\n",
    "    count: int = 0\n",
    "    if num < 0:\n",
    "        return -1\n",
    "    i = 5\n",
    "    while num // i > 0:\n",
    "        count += num // i\n",
    "        i *= 5\n",
    "    return count"
   ]
  },
  {
   "cell_type": "markdown",
   "metadata": {},
   "source": [
    "## Example Usage"
   ]
  },
  {
   "cell_type": "markdown",
   "metadata": {},
   "source": [
    "Let's see how we can use these methods to calculate the number of trailing zeros in 𝑛!:"
   ]
  },
  {
   "cell_type": "code",
   "execution_count": 8,
   "metadata": {},
   "outputs": [
    {
     "name": "stdout",
     "output_type": "stream",
     "text": [
      "Count Fact Zeros: 6 Execution time:592.54 microseconds\n",
      "Count Fact Zeros Optimize: 6 Execution time:351.07 microseconds\n"
     ]
    }
   ],
   "source": [
    "import time\n",
    "\n",
    "# Example using CountFactZeros\n",
    "n = 25\n",
    "start_time = time.perf_counter()\n",
    "result = CountFactZeros(n)  # Output: 6\n",
    "end_time = time.perf_counter()\n",
    "execution_time = (end_time - start_time) * 1_000_000  # Convert to microseconds\n",
    "print(f\"Count Fact Zeros: {result} Execution time:{execution_time:.2f} microseconds\")\n",
    "\n",
    "# Example using CountFactZerosOptimize\n",
    "start_time = time.perf_counter()\n",
    "result = CountFactZerosOptimize(n)  # Output: 6\n",
    "end_time = time.perf_counter()\n",
    "execution_time = (end_time - start_time) * 1_000_000  # Convert to microseconds\n",
    "print(f\"Count Fact Zeros Optimize: {result} Execution time:{execution_time:.2f} microseconds\")\n"
   ]
  },
  {
   "cell_type": "markdown",
   "metadata": {},
   "source": [
    "# Literature\n",
    "\n",
    "The contents base on the following literature:\n",
    "\n",
    "* Gayle Laakmann McDowell, *Cracking the Coding Interview*, [Link](https://www.crackingthecodinginterview.com/)."
   ]
  },
  {
   "cell_type": "markdown",
   "metadata": {},
   "source": [
    "**Copyright**\n",
    "\n",
    "The notebooks are provided as [Open Educational Resources](https://en.wikipedia.org/wiki/Open_educational_resources). Feel free to use the notebooks for your own purposes. The text is licensed under [Creative Commons Attribution 4.0](https://creativecommons.org/licenses/by/4.0/), the code of the IPython examples under the [MIT license](https://opensource.org/licenses/MIT)."
   ]
  }
 ],
 "metadata": {
  "kernelspec": {
   "display_name": "Python 3",
   "language": "python",
   "name": "python3"
  },
  "language_info": {
   "codemirror_mode": {
    "name": "ipython",
    "version": 3
   },
   "file_extension": ".py",
   "mimetype": "text/x-python",
   "name": "python",
   "nbconvert_exporter": "python",
   "pygments_lexer": "ipython3",
   "version": "3.10.12"
  },
  "nav_menu": {},
  "toc": {
   "navigate_menu": true,
   "number_sections": true,
   "sideBar": true,
   "threshold": 6,
   "toc_cell": false,
   "toc_section_display": "block",
   "toc_window_display": false
  }
 },
 "nbformat": 4,
 "nbformat_minor": 4
}
