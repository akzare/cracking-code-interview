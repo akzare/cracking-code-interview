{
 "cells": [
  {
   "cell_type": "markdown",
   "metadata": {},
   "source": [
    "# Problem Description"
   ]
  },
  {
   "cell_type": "markdown",
   "metadata": {},
   "source": [
    "You are given two strings, pattern and value. The pattern string consists of just the letters a and b, describing a pattern within a string. For example, the string catcatgocatgo matches the pattern aabab (where cat is a and go is b). It also matches patterns like a, ab, and b. Write a method to determine if value matches pattern."
   ]
  },
  {
   "cell_type": "markdown",
   "metadata": {},
   "source": [
    "### DoesMatchBruteForce Method"
   ]
  },
  {
   "cell_type": "markdown",
   "metadata": {},
   "source": [
    "This method attempts to find a match using a brute-force approach."
   ]
  },
  {
   "cell_type": "code",
   "execution_count": 2,
   "metadata": {},
   "outputs": [],
   "source": [
    "def DoesMatchBruteForce(pattern: str, value: str) -> bool:\n",
    "    '''\n",
    "    DoesMatchBruteForce\n",
    "    This method attempts to find a match using a brute-force approach:\n",
    "        If the pattern is empty, return True if value is also empty.\n",
    "        Iterate through possible sizes for the main string (mainSize).\n",
    "        For each possible size of the main string, iterate through\n",
    "        possible start and end positions of the alternate string.\n",
    "        Build the candidate string using BuildFromPattern and check\n",
    "        if it matches value.\n",
    "    '''\n",
    "    if len(pattern) == 0:\n",
    "        return len(value) == 0\n",
    "    size: int = len(value)\n",
    "    for mainSize in range(size):\n",
    "        main: str = value[:mainSize]\n",
    "        for altStart in range(mainSize, size):\n",
    "            for altEnd in range(altStart, size):\n",
    "                alt: str = value[altStart:altEnd]\n",
    "                cand: str = BuildFromPattern(pattern, main, alt)\n",
    "                if cand == value:\n",
    "                    return True\n",
    "    return False\n",
    "\n",
    "def BuildFromPattern(pattern: str, main: str, alt: str) -> str:\n",
    "    sb: str = ''\n",
    "    first: chr = pattern[0]\n",
    "    for c in pattern:\n",
    "        if c == first:\n",
    "            sb += main\n",
    "        else:\n",
    "            sb += alt\n",
    "    return sb"
   ]
  },
  {
   "cell_type": "markdown",
   "metadata": {},
   "source": [
    "### DoesMatchOptimized Method"
   ]
  },
  {
   "cell_type": "markdown",
   "metadata": {},
   "source": [
    "This method optimizes the brute-force approach by identifying the main and alternate characters and iterating through possible sizes for the main string."
   ]
  },
  {
   "cell_type": "code",
   "execution_count": 3,
   "metadata": {},
   "outputs": [],
   "source": [
    "def DoesMatchOptimized(pattern: str, value: str) -> bool:\n",
    "    '''\n",
    "    DoesMatchOptimized\n",
    "    This method optimizes the brute-force approach:\n",
    "        If the pattern is empty, return True if value is also empty.\n",
    "        Identify the main character (either 'a' or 'b') and the alternate character.\n",
    "        Count the occurrences of the main character in the pattern.\n",
    "        Iterate through possible sizes for the main string (mainSize).\n",
    "        Calculate the remaining length for the alternate string.\n",
    "        Build the candidate string using BuildFromPattern and check if it matches value.\n",
    "    '''\n",
    "    if len(pattern) == 0:\n",
    "        return len(value) == 0\n",
    "    mainChar: chr = pattern[0]\n",
    "    altChar: chr = 'b' if mainChar == 'a' else 'a'\n",
    "    size: int = len(value)\n",
    "    countOfMain: int = CountOf(pattern, mainChar)\n",
    "    countOfAlt: int = len(pattern) - countOfMain\n",
    "    firstAlt: int = pattern.find(altChar)\n",
    "    maxMainSize: int = size // countOfMain\n",
    "    for mainSize in range(maxMainSize + 1):\n",
    "        remainingLength: int = size - mainSize * countOfMain\n",
    "        first: str = value[:mainSize]\n",
    "        if countOfAlt == 0 or remainingLength % countOfAlt == 0:\n",
    "            altIndex: int = firstAlt * mainSize\n",
    "            altSize: int = 0 if countOfAlt == 0 else remainingLength // countOfAlt\n",
    "            second: str = '' if countOfAlt == 0 else value[altIndex:altSize + altIndex]\n",
    "            cand: str = BuildFromPattern(pattern, first, second)\n",
    "            if cand == value:\n",
    "                return True\n",
    "    return False\n",
    "\n",
    "def CountOf(pattern: str, c: chr) -> int:\n",
    "    count: int = 0\n",
    "    for i in range(len(pattern)):\n",
    "        if pattern[i] == c:\n",
    "            count += 1\n",
    "    return count"
   ]
  },
  {
   "cell_type": "markdown",
   "metadata": {},
   "source": [
    "### DoesMatchOptimizedAlt Method"
   ]
  },
  {
   "cell_type": "markdown",
   "metadata": {},
   "source": [
    "This method is another optimized version that uses an additional helper method Matches."
   ]
  },
  {
   "cell_type": "code",
   "execution_count": 4,
   "metadata": {},
   "outputs": [],
   "source": [
    "def DoesMatchOptimizedAlt(pattern: str, value: str) -> bool:\n",
    "    '''\n",
    "    DoesMatchOptimizedAlt\n",
    "    This method is another optimized version:\n",
    "        If the pattern is empty, return True if value is also empty.\n",
    "        Similar to DoesMatchOptimized, but uses an additional helper method Matches.\n",
    "        The Matches method iterates through the pattern and value and checks if the\n",
    "        next set of characters match the original set (either main or alternate).\n",
    "    '''\n",
    "    if len(pattern) == 0:\n",
    "        return len(value) == 0\n",
    "    mainChar: chr = pattern[0]\n",
    "    altChar: chr = 'b' if mainChar == 'a' else 'a'\n",
    "    size: int = len(value)\n",
    "    countOfMain: int = CountOf(pattern, mainChar)\n",
    "    countOfAlt: int = len(pattern) - countOfMain\n",
    "    firstAlt: int = pattern.find(altChar)\n",
    "    maxMainSize: int = size // countOfMain\n",
    "    for mainSize in range(maxMainSize + 1):\n",
    "        remainingLength: int = size - mainSize * countOfMain\n",
    "        first: str = value[:mainSize]\n",
    "        if countOfAlt == 0 or remainingLength % countOfAlt == 0:\n",
    "            altIndex: int = firstAlt * mainSize\n",
    "            altSize: int = 0 if countOfAlt == 0 else remainingLength // countOfAlt\n",
    "            if Matches(pattern, value, mainSize, altSize, altIndex):\n",
    "                return True\n",
    "    return False\n",
    "\n",
    "def Matches(pattern: str, value: str, mainSize: int, altSize: int, firstAlt: int) -> bool:\n",
    "    stringIndex: int = mainSize\n",
    "    for i in range(1, len(pattern)):\n",
    "        size: int = mainSize if pattern[i] == pattern[0] else altSize\n",
    "        offset: int = 0 if pattern[i] == pattern[0] else firstAlt\n",
    "        if not IsEqual(value, offset, stringIndex, size):\n",
    "            return False\n",
    "        stringIndex += size\n",
    "    return True\n",
    "\n",
    "def IsEqual(s1: str, offset1: int, offset2: int, size: int) -> bool:\n",
    "    for i in range(size):\n",
    "        if s1[offset1 + i] != s1[offset2 + i]:\n",
    "            return False\n",
    "    return True"
   ]
  },
  {
   "cell_type": "markdown",
   "metadata": {},
   "source": [
    "## Example Usage"
   ]
  },
  {
   "cell_type": "markdown",
   "metadata": {},
   "source": [
    "Here's how you can use these methods to determine if the value matches the pattern:"
   ]
  },
  {
   "cell_type": "code",
   "execution_count": 6,
   "metadata": {},
   "outputs": [
    {
     "name": "stdout",
     "output_type": "stream",
     "text": [
      "Does Match BruteForce: True Execution time:2195.27 microseconds\n",
      "Does Match Optimized: True Execution time:288.47 microseconds\n",
      "Does Match Optimized Alt: True Execution time:377.52 microseconds\n"
     ]
    }
   ],
   "source": [
    "import time\n",
    "\n",
    "pattern = \"aabab\"\n",
    "value = \"catcatgocatgo\"\n",
    "\n",
    "# Using brute force approach\n",
    "start_time = time.perf_counter()\n",
    "output = DoesMatchBruteForce(pattern, value)  # Output: True\n",
    "end_time = time.perf_counter()\n",
    "execution_time = (end_time - start_time) * 1_000_000  # Convert to microseconds\n",
    "print(f\"Does Match BruteForce: {output} Execution time:{execution_time:.2f} microseconds\")  # Output: True\n",
    "\n",
    "# Using optimized approach\n",
    "start_time = time.perf_counter()\n",
    "output = DoesMatchOptimized(pattern, value)  # Output: True\n",
    "end_time = time.perf_counter()\n",
    "execution_time = (end_time - start_time) * 1_000_000  # Convert to microseconds\n",
    "print(f\"Does Match Optimized: {output} Execution time:{execution_time:.2f} microseconds\")  # Output: True\n",
    "\n",
    "# Using optimized alternative approach\n",
    "start_time = time.perf_counter()\n",
    "output = DoesMatchOptimizedAlt(pattern, value)  # Output: True\n",
    "end_time = time.perf_counter()\n",
    "execution_time = (end_time - start_time) * 1_000_000  # Convert to microseconds\n",
    "print(f\"Does Match Optimized Alt: {output} Execution time:{execution_time:.2f} microseconds\")  # Output: True"
   ]
  },
  {
   "cell_type": "markdown",
   "metadata": {},
   "source": [
    "# Literature\n",
    "\n",
    "The contents base on the following literature:\n",
    "\n",
    "* Gayle Laakmann McDowell, *Cracking the Coding Interview*, [Link](https://www.crackingthecodinginterview.com/)."
   ]
  },
  {
   "cell_type": "markdown",
   "metadata": {},
   "source": [
    "**Copyright**\n",
    "\n",
    "The notebooks are provided as [Open Educational Resources](https://en.wikipedia.org/wiki/Open_educational_resources). Feel free to use the notebooks for your own purposes. The text is licensed under [Creative Commons Attribution 4.0](https://creativecommons.org/licenses/by/4.0/), the code of the IPython examples under the [MIT license](https://opensource.org/licenses/MIT)."
   ]
  }
 ],
 "metadata": {
  "kernelspec": {
   "display_name": "Python 3",
   "language": "python",
   "name": "python3"
  },
  "language_info": {
   "codemirror_mode": {
    "name": "ipython",
    "version": 3
   },
   "file_extension": ".py",
   "mimetype": "text/x-python",
   "name": "python",
   "nbconvert_exporter": "python",
   "pygments_lexer": "ipython3",
   "version": "3.10.12"
  },
  "nav_menu": {},
  "toc": {
   "navigate_menu": true,
   "number_sections": true,
   "sideBar": true,
   "threshold": 6,
   "toc_cell": false,
   "toc_section_display": "block",
   "toc_window_display": false
  }
 },
 "nbformat": 4,
 "nbformat_minor": 4
}
