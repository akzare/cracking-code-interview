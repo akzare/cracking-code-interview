{
 "cells": [
  {
   "cell_type": "markdown",
   "metadata": {},
   "source": [
    "# Problem Description"
   ]
  },
  {
   "cell_type": "markdown",
   "metadata": {},
   "source": [
    "You have an integer matrix representing a plot of land, where the value at that location represents the height above sea level. A value of zero indicates water. A pond is a region of water connected vertically, horizontally, or diagonally. The size of the pond is the total number of connected water cells. Write a method to compute the sizes of all ponds in the matrix.\n",
    "* Example:\n",
    "   * Input\n",
    "     *  0 2 1 0\n",
    "     *  0 1 0 1\n",
    "     *  1 1 0 1\n",
    "     *  0 1 0 1\n",
    "   * Output: 2, 4, 1 (in any order)"
   ]
  },
  {
   "cell_type": "markdown",
   "metadata": {},
   "source": [
    "### ComputePondSizes Method"
   ]
  },
  {
   "cell_type": "markdown",
   "metadata": {},
   "source": [
    "This method iterates through the matrix and looks for water cells (0s). When it finds a water cell, it computes the size of the pond using a helper method ComputeSize and adds the size to a list of pond sizes.\n",
    "\n",
    "#### ComputeSize Method\n",
    "This is a recursive method that computes the size of a pond starting from a given cell. It uses `depth-first search` (DFS) to explore all connected water cells. The method marks visited cells by setting their value to -1."
   ]
  },
  {
   "cell_type": "code",
   "execution_count": 7,
   "metadata": {},
   "outputs": [],
   "source": [
    "def ComputePondSizes(land: list[list[int]]) -> list[int]:\n",
    "    '''\n",
    "    ComputePondSizes\n",
    "    This method iterates through the matrix and looks for water cells\n",
    "    (0s). When it finds a water cell, it computes the size of the pond\n",
    "    using a helper method ComputeSize and adds the size to a list of\n",
    "    pond sizes.\n",
    "    '''\n",
    "    pondSizes: list[int] = []\n",
    "    for r in range(len(land)):\n",
    "        for c in range(len(land[r])):\n",
    "            if land[r][c] == 0:\n",
    "                size: int = ComputeSize(land, r, c)\n",
    "                pondSizes.append(size)\n",
    "    return pondSizes\n",
    "\n",
    "def ComputeSize(land: list[list[int]], row: int, col: int) -> int:\n",
    "    '''\n",
    "    ComputeSize\n",
    "    This is a recursive method that computes the size of a pond starting\n",
    "    from a given cell. It uses depth-first search (DFS) to explore all\n",
    "    connected water cells. The method marks visited cells by setting their value to -1.\n",
    "    '''\n",
    "    if row < 0 or col < 0 or row >= len(land) or col >= len(land[row]) or land[row][col] != 0:\n",
    "        return 0\n",
    "    size: int = 1\n",
    "    land[row][col] = -1  # mark visited\n",
    "    for dr in range(-1, 2, 1):\n",
    "        for dc in range(-1, 2, 1):\n",
    "            size += ComputeSize(land, row + dr, col + dc)\n",
    "    return size"
   ]
  },
  {
   "cell_type": "markdown",
   "metadata": {},
   "source": [
    "### ComputePondSizesOptimize Method"
   ]
  },
  {
   "cell_type": "markdown",
   "metadata": {},
   "source": [
    "This is an optimized version of `ComputePondSizes` that uses a separate visited matrix to keep track of visited cells instead of modifying the original matrix.\n",
    "\n",
    "#### ComputeSizeOptimize Method\n",
    "This is a recursive method similar to `ComputeSize`, but it uses the visited matrix to track visited cells."
   ]
  },
  {
   "cell_type": "code",
   "execution_count": 8,
   "metadata": {},
   "outputs": [],
   "source": [
    "def ComputePondSizesOptimize(land: list[list[int]]) -> list[int]:\n",
    "    '''\n",
    "    ComputePondSizesOptimize\n",
    "    This is an optimized version of ComputePondSizes that uses a separate\n",
    "    visited matrix to keep track of visited cells instead of modifying the original matrix.\n",
    "    '''\n",
    "    visited: list[list[bool]] = [[False] * len(land[0]) for _ in range(len(land))]\n",
    "    pondSizes: list[int] = []\n",
    "    for r in range(len(land)):\n",
    "        for c in range(len(land[r])):\n",
    "            #print(f'r:{r} c:{c} vistied:{visited[r][c]} land:{land[r][c]}')\n",
    "            if land[r][c] == 0 and not visited[r][c]:\n",
    "                size: int = ComputeSizeOptimize(land, visited, r, c)\n",
    "                pondSizes.append(size)\n",
    "    return pondSizes\n",
    "\n",
    "def ComputeSizeOptimize(land: list[list[int]], visited: list[list[bool]], row: int, col: int) -> int:\n",
    "    '''\n",
    "    ComputeSizeOptimize\n",
    "    This is a recursive method similar to ComputeSize, but it uses the\n",
    "    visited matrix to track visited cells.\n",
    "    '''\n",
    "    if row < 0 or col < 0 or row >= len(land) or col >= len(land[row]) or visited[row][col] or land[row][col] != 0:\n",
    "        return 0\n",
    "    size: int = 1\n",
    "    visited[row][col] = True  # mark visited\n",
    "    for dr in range(-1, 2, 1):\n",
    "        for dc in range(-1, 2, 1):\n",
    "            size += ComputeSizeOptimize(land, visited, row + dr, col + dc)\n",
    "    return size"
   ]
  },
  {
   "cell_type": "markdown",
   "metadata": {},
   "source": [
    "## Example Usage"
   ]
  },
  {
   "cell_type": "markdown",
   "metadata": {},
   "source": [
    "Here's how you can use these methods to compute the sizes of all ponds in a matrix:"
   ]
  },
  {
   "cell_type": "code",
   "execution_count": 10,
   "metadata": {},
   "outputs": [
    {
     "name": "stdout",
     "output_type": "stream",
     "text": [
      "Pond Sizes: [2, 4, 1] Execution time:992.77 microseconds\n",
      "Optimized Pond Sizes:[2, 4, 1] Execution time:354.97 microseconds\n"
     ]
    }
   ],
   "source": [
    "import time\n",
    "\n",
    "matrix = [\n",
    "    [0, 2, 1, 0],\n",
    "    [0, 1, 0, 1],\n",
    "    [1, 1, 0, 1],\n",
    "    [0, 1, 0, 1]\n",
    "]\n",
    "\n",
    "# Using the basic ComputePondSizes method\n",
    "start_time = time.perf_counter()\n",
    "pond_sizes = ComputePondSizes(matrix)\n",
    "end_time = time.perf_counter()\n",
    "execution_time = (end_time - start_time) * 1_000_000  # Convert to microseconds\n",
    "print(f\"Pond Sizes: {pond_sizes} Execution time:{execution_time:.2f} microseconds\")  # Output: [2, 4, 1]\n",
    "\n",
    "matrix = [\n",
    "    [0, 2, 1, 0],\n",
    "    [0, 1, 0, 1],\n",
    "    [1, 1, 0, 1],\n",
    "    [0, 1, 0, 1]\n",
    "]\n",
    "\n",
    "# Using the optimized ComputePondSizesOptimize method\n",
    "start_time = time.perf_counter()\n",
    "pond_sizes_optimized = ComputePondSizesOptimize(matrix)\n",
    "end_time = time.perf_counter()\n",
    "execution_time = (end_time - start_time) * 1_000_000  # Convert to microseconds\n",
    "print(f\"Optimized Pond Sizes:{pond_sizes_optimized} Execution time:{execution_time:.2f} microseconds\")  # Output: [2, 4, 1]"
   ]
  },
  {
   "cell_type": "markdown",
   "metadata": {},
   "source": [
    "# Literature\n",
    "\n",
    "The contents base on the following literature:\n",
    "\n",
    "* Gayle Laakmann McDowell, *Cracking the Coding Interview*, [Link](https://www.crackingthecodinginterview.com/)."
   ]
  },
  {
   "cell_type": "markdown",
   "metadata": {},
   "source": [
    "**Copyright**\n",
    "\n",
    "The notebooks are provided as [Open Educational Resources](https://en.wikipedia.org/wiki/Open_educational_resources). Feel free to use the notebooks for your own purposes. The text is licensed under [Creative Commons Attribution 4.0](https://creativecommons.org/licenses/by/4.0/), the code of the IPython examples under the [MIT license](https://opensource.org/licenses/MIT)."
   ]
  }
 ],
 "metadata": {
  "kernelspec": {
   "display_name": "Python 3",
   "language": "python",
   "name": "python3"
  },
  "language_info": {
   "codemirror_mode": {
    "name": "ipython",
    "version": 3
   },
   "file_extension": ".py",
   "mimetype": "text/x-python",
   "name": "python",
   "nbconvert_exporter": "python",
   "pygments_lexer": "ipython3",
   "version": "3.10.12"
  },
  "nav_menu": {},
  "toc": {
   "navigate_menu": true,
   "number_sections": true,
   "sideBar": true,
   "threshold": 6,
   "toc_cell": false,
   "toc_section_display": "block",
   "toc_window_display": false
  }
 },
 "nbformat": 4,
 "nbformat_minor": 4
}
