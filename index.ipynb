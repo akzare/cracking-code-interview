{
 "cells": [
  {
   "cell_type": "markdown",
   "metadata": {
    "nbsphinx": "hidden"
   },
   "source": [
    "# Python Solutions to Cracking the Coding Interview\n",
    "\n",
    "This collection of [jupyter](https://jupyter.org/) notebooks presents solutions to various topics of [Cracking the Coding Interview](https://www.crackingthecodinginterview.com/). The sources of the notebooks, as well as installation and usage instructions can be found on [GitHub](https://github.com/akzare/cracking-code-interview)."
   ]
  },
  {
   "cell_type": "markdown",
   "metadata": {
    "nbsphinx-toctree": {
     "maxdepth": 3,
     "numbered": true
    }
   },
   "source": [
    "## 1. Array-String"
   ]
  },
  {
   "cell_type": "markdown",
   "metadata": {
    "nbsphinx-toctree": {
     "maxdepth": 3,
     "numbered": true
    }
   },
   "source": [
    "* [is-uinque](array-string/1-is-uinque.ipynb)"
   ]
  },
  {
   "cell_type": "markdown",
   "metadata": {},
   "source": [
    "## 2. Bit-Manipulation"
   ]
  },
  {
   "cell_type": "markdown",
   "metadata": {},
   "source": [
    "* [insertion](bit-manipulation/1-insertion.ipynb)"
   ]
  },
  {
   "cell_type": "markdown",
   "metadata": {},
   "source": [
    "## 3. Dynamic-Programming"
   ]
  },
  {
   "cell_type": "markdown",
   "metadata": {},
   "source": [
    "* [tripple-step](dynamic-programming/1-tripple-step.ipynb)"
   ]
  },
  {
   "cell_type": "markdown",
   "metadata": {},
   "source": [
    "## 4. Linked-List"
   ]
  },
  {
   "cell_type": "markdown",
   "metadata": {},
   "source": [
    "* [remove-dups](linked-list/1-remove-dups.ipynb)"
   ]
  },
  {
   "cell_type": "markdown",
   "metadata": {},
   "source": [
    "## 5. Stack-Queue"
   ]
  },
  {
   "cell_type": "markdown",
   "metadata": {},
   "source": [
    "* [three-in-one](stack-queue/1-three-in-one.ipynb)"
   ]
  },
  {
   "cell_type": "markdown",
   "metadata": {},
   "source": [
    "## 6. Trees-Graphs"
   ]
  },
  {
   "cell_type": "markdown",
   "metadata": {},
   "source": [
    "* [route-between-nodes](trees-graphs/1-route-between-nodes.ipynb)"
   ]
  },
  {
   "cell_type": "markdown",
   "metadata": {},
   "source": [
    "## 7. Sorting-Searching"
   ]
  },
  {
   "cell_type": "markdown",
   "metadata": {},
   "source": [
    "* [sorted-merge](sorting-searching/1-sorted-merge.ipynb)"
   ]
  },
  {
   "cell_type": "markdown",
   "metadata": {},
   "source": [
    "## 8. Moderate"
   ]
  },
  {
   "cell_type": "markdown",
   "metadata": {},
   "source": [
    "* [number-swapper](moderate/1-number-swapper.ipynb)\n",
    "* [word-frequencies](moderate/2-word-frequencies.ipynb)\n",
    "* [intersection](moderate/3-intersection.ipynb)\n",
    "* [factorial-zeros](moderate/5-factorial-zeros.ipynb)\n",
    "* [smallest-difference](moderate/6-smallest-difference.ipynb)\n",
    "* [number-max](moderate/7-number-max.ipynb)\n",
    "* [operations](moderate/9-operations.ipynb)\n",
    "* [living-people](moderate/10-living-people.ipynb)\n",
    "* [diving-board](moderate/11-diving-board.ipynb)\n",
    "* [bisect-squares](moderate/13-bisect-squares.ipynb)\n",
    "* [best-line](moderate/14-best-line.ipynb)\n",
    "* [sub-sort](moderate/16-sub-sort.ipynb)\n",
    "* [pattern-matching](moderate/18-pattern-matching.ipynb)\n",
    "* [pond-size](moderate/19-pond-size.ipynb)\n",
    "* [sum-swap](moderate/21-sum-swap.ipynb)\n",
    "* [langton-ant](moderate/22-langton-ant.ipynb)\n",
    "* [pairs-with-sum](moderate/24-pairs-with-sum.ipynb)\n",
    "* [lru-cache](moderate/25-lru-cache.ipynb)\n"
   ]
  },
  {
   "cell_type": "markdown",
   "metadata": {},
   "source": [
    "## 9. Hard"
   ]
  },
  {
   "cell_type": "markdown",
   "metadata": {},
   "source": [
    "* [add-without-plus](hard/1-add-without-plus.ipynb)"
   ]
  },
  {
   "cell_type": "markdown",
   "metadata": {},
   "source": [
    "# Literature\n",
    "\n",
    "The contents base on the following literature:\n",
    "\n",
    "* Gayle Laakmann McDowell, *Cracking the Coding Interview*, [Link](https://www.crackingthecodinginterview.com/)."
   ]
  },
  {
   "cell_type": "markdown",
   "metadata": {},
   "source": [
    "**Copyright**\n",
    "\n",
    "The notebooks are provided as [Open Educational Resources](https://en.wikipedia.org/wiki/Open_educational_resources). Feel free to use the notebooks for your own purposes. The text is licensed under [Creative Commons Attribution 4.0](https://creativecommons.org/licenses/by/4.0/), the code of the IPython examples under the [MIT license](https://opensource.org/licenses/MIT)."
   ]
  }
 ],
 "metadata": {
  "anaconda-cloud": {},
  "kernelspec": {
   "display_name": "Python 3 (ipykernel)",
   "language": "python",
   "name": "python3"
  },
  "language_info": {
   "codemirror_mode": {
    "name": "ipython",
    "version": 3
   },
   "file_extension": ".py",
   "mimetype": "text/x-python",
   "name": "python",
   "nbconvert_exporter": "python",
   "pygments_lexer": "ipython3",
   "version": "3.9.13"
  }
 },
 "nbformat": 4,
 "nbformat_minor": 2
}
