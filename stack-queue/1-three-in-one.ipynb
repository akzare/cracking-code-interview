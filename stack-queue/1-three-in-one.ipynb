{
 "cells": [
  {
   "cell_type": "markdown",
   "metadata": {},
   "source": [
    "# Problem Description"
   ]
  },
  {
   "cell_type": "markdown",
   "metadata": {},
   "source": [
    "Describe how you could use a single array to implement three stacks."
   ]
  },
  {
   "cell_type": "markdown",
   "metadata": {},
   "source": [
    "# Solution"
   ]
  },
  {
   "cell_type": "markdown",
   "metadata": {},
   "source": [
    "Implementing three stacks using a single array can be challenging, but it is achievable with two approaches: Fixed Division and Flexible Division."
   ]
  },
  {
   "cell_type": "markdown",
   "metadata": {},
   "source": [
    "### Fixed Division"
   ]
  },
  {
   "cell_type": "markdown",
   "metadata": {},
   "source": [
    "In this approach, the array is divided into three fixed segments, one for each stack."
   ]
  },
  {
   "cell_type": "code",
   "execution_count": 1,
   "metadata": {},
   "outputs": [],
   "source": [
    "class FixedMultiStack:\n",
    "    def __init__(self, stackSize) -> None:\n",
    "        self.numberOfStacks: int = 3\n",
    "        self.stackCapacity: int = stackSize\n",
    "        self.values: list[int] = [0] * (self.numberOfStacks * stackSize)\n",
    "        self.sizes: list[int] = [0] * self.numberOfStacks\n",
    "\n",
    "    def push(self, stackNum: int, value: int) -> None:\n",
    "        if self.isFull(stackNum):\n",
    "            return\n",
    "        \n",
    "        self.sizes[stackNum] += 1\n",
    "        self.values[self.indexOfTop(stackNum)] = value\n",
    "\n",
    "    def pop(self, stackNum: int) -> int:\n",
    "        if self.isEmpty(stackNum):\n",
    "            return\n",
    "        \n",
    "        topIndex: int = self.indexOfTop(stackNum)\n",
    "        value: int = self.values[topIndex]\n",
    "        self.values[topIndex] = 0\n",
    "        self.sizes[stackNum] -= 1\n",
    "        return value\n",
    "\n",
    "    def peek(self, stackNum: int) -> int:\n",
    "        if self.isEmpty(stackNum):\n",
    "            return\n",
    "        \n",
    "        topIndex: int = self.indexOfTop(stackNum)\n",
    "        return self.values[topIndex]\n",
    "\n",
    "    def isEmpty(self, stackNum: int) -> bool:\n",
    "        return self.sizes[stackNum] == 0\n",
    "\n",
    "    def isFull(self, stackNum: int) -> bool:\n",
    "        return self.sizes[stackNum] == self.stackCapacity\n",
    "\n",
    "    def indexOfTop(self, stackNum: int) -> int:\n",
    "        offset: int = stackNum * self.stackCapacity\n",
    "        size: int = self.sizes[stackNum]\n",
    "        return offset + size - 1"
   ]
  },
  {
   "cell_type": "markdown",
   "metadata": {},
   "source": [
    "### Flexible Division"
   ]
  },
  {
   "cell_type": "markdown",
   "metadata": {},
   "source": [
    "In this approach, the stacks can grow and shrink dynamically by shifting elements."
   ]
  },
  {
   "cell_type": "code",
   "execution_count": 2,
   "metadata": {},
   "outputs": [],
   "source": [
    "class Solution:\n",
    "    values:list = []\n",
    "\n",
    "    class StackInfo:\n",
    "        def __init__(self, start, capacity) -> None:\n",
    "            self.start: int = start\n",
    "            self.size: int = 0\n",
    "            self.capacity: int = capacity\n",
    "        \n",
    "        def isWithinStackCapacity(self, index) -> bool:\n",
    "            if index < 0 or index >= len(Solution.values):\n",
    "                return False\n",
    "            contiguousIndex: int = index + len(Solution.values) if index < self.start else index\n",
    "            end: int = self.start + self.capacity\n",
    "            return self.start <= contiguousIndex and contiguousIndex < end\n",
    "\n",
    "        def lastCapacityIndex(self) -> int:\n",
    "            return self.adjustIndex(self.start + self.capacity - 1)\n",
    "\n",
    "        def lastElementIndex(self) -> int:\n",
    "            return self.adjustIndex(self.start + self.size - 1)\n",
    "        \n",
    "        def isFull(self) -> bool:\n",
    "            return self.size == self.capacity\n",
    "\n",
    "        def isEmpty(self) -> bool:\n",
    "            return self.size == 0\n",
    "        \n",
    "        def adjustIndex(self, index: int) -> int:\n",
    "            max: int = len(Solution.values)\n",
    "            return ((index % max) + max) % max\n",
    "\n",
    "        def nextIndex(self, index: int) -> int:\n",
    "            return self.adjustIndex(index + 1)\n",
    "        \n",
    "        def previousIndex(self, index: int) -> int:\n",
    "            return self.adjustIndex(index - 1)\n",
    "\n",
    "    class FlexibleMultiStack:\n",
    "        def __init__(self, numberOfStacks: int, defaultSize: int) -> None:\n",
    "            self.info: list[Solution.StackInfo] = [Solution.StackInfo(defaultSize * i, defaultSize) for i in range(numberOfStacks)]\n",
    "            Solution.values = [0] * (numberOfStacks * defaultSize)\n",
    "\n",
    "        def push(self, stackNum: int, value: int) -> None:\n",
    "            if self.allStacksAreFull():\n",
    "                return\n",
    "            \n",
    "            stack = self.info[stackNum]\n",
    "            if stack.isFull():\n",
    "                self.expand(stackNum)\n",
    "\n",
    "            stack.size += 1\n",
    "            Solution.values[stack.lastElementIndex()] = value\n",
    "        \n",
    "        def pop(self, stackNum: int) -> int:\n",
    "            stack = self.info[stackNum]\n",
    "            if stack.isEmpty():\n",
    "                return\n",
    "            \n",
    "            value: int = Solution.values[stack.lastElementIndex()]\n",
    "            Solution.values[stack.lastElementIndex()] = 0\n",
    "            stack.size -= 1\n",
    "            return value\n",
    "    \n",
    "        def peek(self, stackNum: int) -> int:\n",
    "            stack = self.info[stackNum]\n",
    "            if stack.isEmpty():\n",
    "                return\n",
    "            \n",
    "            return Solution.values[stack.lastElementIndex()]\n",
    "\n",
    "        def shift(self, stackNum: int) -> None:\n",
    "            stack = self.info[stackNum]\n",
    "            if stack.size >= stack.capacity:\n",
    "                nextStack: int = (stackNum + 1) % len(self.info)\n",
    "                self.shift(nextStack)\n",
    "                stack.capacity += 1\n",
    "            \n",
    "            index: int = stack.lastCapacityIndex()\n",
    "            while stack.isWithinStackCapacity(index):\n",
    "                Solution.values[index] = Solution.values[stack.previousIndex(index)]\n",
    "                index = stack.previousIndex(index)\n",
    "            \n",
    "            Solution.values[stack.start] = 0\n",
    "            stack.start = stack.nextIndex(stack.start)\n",
    "            stack.capacity -= 1\n",
    "\n",
    "        def expand(self, stackNum: int) -> None:\n",
    "            self.shift((stackNum + 1) % len(self.info))\n",
    "            self.info[stackNum].capacity += 1\n",
    "        \n",
    "        def numberOfElements(self) -> int:\n",
    "            size: int = 0\n",
    "            for sd in self.info:\n",
    "                size += sd.size\n",
    "            return size\n",
    "        \n",
    "        def allStacksAreFull(self) -> bool:\n",
    "            return self.numberOfElements() == len(Solution.values)"
   ]
  },
  {
   "cell_type": "markdown",
   "metadata": {},
   "source": [
    "## Explanation\n",
    "1. Fixed Division:\n",
    "   * Divides the array into three fixed segments.\n",
    "   * Each segment operates as an independent stack.\n",
    "   * This approach is simple but may lead to inefficient use of space.\n",
    "2. Flexible Division:\n",
    "   * Allows the stacks to grow and shrink dynamically.\n",
    "   * Shifts elements in the array to accommodate growth.\n",
    "   * This approach is more complex but ensures efficient use of space.\n",
    "\n",
    "Both approaches have their advantages and can be chosen based on the specific requirements of the problem."
   ]
  },
  {
   "cell_type": "markdown",
   "metadata": {},
   "source": [
    "## Example Usage\n",
    "These examples demonstrate how to use the FixedMultiStack and FlexibleMultiStack classes to implement three stacks using a single array."
   ]
  },
  {
   "cell_type": "markdown",
   "metadata": {},
   "source": [
    "### FixedMultiStack"
   ]
  },
  {
   "cell_type": "code",
   "execution_count": 3,
   "metadata": {},
   "outputs": [
    {
     "name": "stdout",
     "output_type": "stream",
     "text": [
      "12\n",
      "20\n",
      "30\n",
      "11\n",
      "False\n",
      "True\n"
     ]
    }
   ],
   "source": [
    "# Create a FixedMultiStack with a stack size of 4 for each stack\n",
    "fixedStack = FixedMultiStack(4)\n",
    "\n",
    "# Push elements onto each stack\n",
    "fixedStack.push(0, 10)  # Push 10 onto stack 0\n",
    "fixedStack.push(1, 20)  # Push 20 onto stack 1\n",
    "fixedStack.push(2, 30)  # Push 30 onto stack 2\n",
    "\n",
    "# Push more elements onto stack 0\n",
    "fixedStack.push(0, 11)\n",
    "fixedStack.push(0, 12)\n",
    "\n",
    "# Pop elements from each stack\n",
    "print(fixedStack.pop(0))  # Output: 12\n",
    "print(fixedStack.pop(1))  # Output: 20\n",
    "print(fixedStack.pop(2))  # Output: 30\n",
    "\n",
    "# Peek at the top element of stack 0\n",
    "print(fixedStack.peek(0))  # Output: 11\n",
    "\n",
    "# Check if a stack is empty\n",
    "print(fixedStack.isEmpty(0))  # Output: False\n",
    "print(fixedStack.isEmpty(1))  # Output: True"
   ]
  },
  {
   "cell_type": "markdown",
   "metadata": {},
   "source": [
    "### FlexibleMultiStack"
   ]
  },
  {
   "cell_type": "code",
   "execution_count": 5,
   "metadata": {},
   "outputs": [
    {
     "name": "stdout",
     "output_type": "stream",
     "text": [
      "14\n",
      "20\n",
      "30\n",
      "13\n"
     ]
    }
   ],
   "source": [
    "# Create a FlexibleMultiStack with 3 stacks and a default size of 4\n",
    "flexibleStack = Solution.FlexibleMultiStack(3, 4)\n",
    "\n",
    "# Push elements onto each stack\n",
    "flexibleStack.push(0, 10)  # Push 10 onto stack 0\n",
    "flexibleStack.push(1, 20)  # Push 20 onto stack 1\n",
    "flexibleStack.push(2, 30)  # Push 30 onto stack 2\n",
    "\n",
    "# Push more elements onto stack 0\n",
    "flexibleStack.push(0, 11)\n",
    "flexibleStack.push(0, 12)\n",
    "flexibleStack.push(0, 13)\n",
    "flexibleStack.push(0, 14)  # This may trigger an expansion if stack 0 is full\n",
    "\n",
    "# Pop elements from each stack\n",
    "print(flexibleStack.pop(0))  # Output: 14\n",
    "print(flexibleStack.pop(1))  # Output: 20\n",
    "print(flexibleStack.pop(2))  # Output: 30\n",
    "\n",
    "# Peek at the top element of stack 0\n",
    "print(flexibleStack.peek(0))  # Output: 13"
   ]
  },
  {
   "cell_type": "markdown",
   "metadata": {},
   "source": [
    "# Literature\n",
    "\n",
    "The contents base on the following literature:\n",
    "\n",
    "* Gayle Laakmann McDowell, *Cracking the Coding Interview*, [Link](https://www.crackingthecodinginterview.com/)."
   ]
  },
  {
   "cell_type": "markdown",
   "metadata": {},
   "source": [
    "**Copyright**\n",
    "\n",
    "The notebooks are provided as [Open Educational Resources](https://en.wikipedia.org/wiki/Open_educational_resources). Feel free to use the notebooks for your own purposes. The text is licensed under [Creative Commons Attribution 4.0](https://creativecommons.org/licenses/by/4.0/), the code of the IPython examples under the [MIT license](https://opensource.org/licenses/MIT)."
   ]
  }
 ],
 "metadata": {
  "kernelspec": {
   "display_name": "Python 3",
   "language": "python",
   "name": "python3"
  },
  "language_info": {
   "codemirror_mode": {
    "name": "ipython",
    "version": 3
   },
   "file_extension": ".py",
   "mimetype": "text/x-python",
   "name": "python",
   "nbconvert_exporter": "python",
   "pygments_lexer": "ipython3",
   "version": "3.10.12"
  },
  "nav_menu": {},
  "toc": {
   "navigate_menu": true,
   "number_sections": true,
   "sideBar": true,
   "threshold": 6,
   "toc_cell": false,
   "toc_section_display": "block",
   "toc_window_display": false
  }
 },
 "nbformat": 4,
 "nbformat_minor": 4
}
