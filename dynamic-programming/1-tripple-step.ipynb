{
 "cells": [
  {
   "cell_type": "markdown",
   "metadata": {},
   "source": [
    "# Problem Description"
   ]
  },
  {
   "cell_type": "markdown",
   "metadata": {},
   "source": [
    "A child can hop either 1 step, 2 steps, or 3 steps at a time. The task is to count the number of possible ways the child can run up a staircase with n steps."
   ]
  },
  {
   "cell_type": "markdown",
   "metadata": {},
   "source": [
    "# Solution"
   ]
  },
  {
   "cell_type": "markdown",
   "metadata": {},
   "source": [
    "The `Solution` contains methods to count the number of ways."
   ]
  },
  {
   "cell_type": "markdown",
   "metadata": {},
   "source": [
    "## Functions"
   ]
  },
  {
   "cell_type": "markdown",
   "metadata": {},
   "source": [
    "### CountWaysBruteForce"
   ]
  },
  {
   "cell_type": "markdown",
   "metadata": {},
   "source": [
    "This method uses a brute force approach to count the number of ways:\n",
    "1. If n is less than 0, return 0 (no way to run up the stairs).\n",
    "2. If n is 0, return 1 (one way to stay at the bottom).\n",
    "3. Recursively count the number of ways to run up the stairs by taking 1, 2, or 3 steps."
   ]
  },
  {
   "cell_type": "code",
   "execution_count": 1,
   "metadata": {},
   "outputs": [],
   "source": [
    "def CountWaysBruteForce(n: int) -> int:\n",
    "    if n < 0:\n",
    "        return 0\n",
    "    elif n == 0:\n",
    "        return 1\n",
    "    else:\n",
    "        return CountWaysBruteForce(n - 1) + CountWaysBruteForce(n - 2) + CountWaysBruteForce(n - 3)"
   ]
  },
  {
   "cell_type": "markdown",
   "metadata": {},
   "source": [
    "### CountWaysMemoization"
   ]
  },
  {
   "cell_type": "markdown",
   "metadata": {},
   "source": [
    "This method uses memoization to optimize the brute force approach:\n",
    "1. Create a memoization array memo to store the results of subproblems.\n",
    "2. If n is less than 0, return 0 (no way to run up the stairs).\n",
    "3. If n is 0, return 1 (one way to stay at the bottom).\n",
    "4. If the result for n is already computed, return it.\n",
    "5. Recursively count the number of ways to run up the stairs by taking 1, 2, or 3 steps and store the result in memo."
   ]
  },
  {
   "cell_type": "code",
   "execution_count": 2,
   "metadata": {},
   "outputs": [],
   "source": [
    "def CountWaysHelperMemoization(n: int, memo: list[int]) -> int:\n",
    "    if n < 0:\n",
    "        return 0\n",
    "    elif n == 0:\n",
    "        return 1\n",
    "    elif memo[n] > -1:\n",
    "        return memo[n]\n",
    "    else:\n",
    "        memo[n] = CountWaysHelperMemoization(n - 1, memo) + CountWaysHelperMemoization(n - 2, memo) + CountWaysHelperMemoization(n - 3, memo)\n",
    "    return memo[n]\n",
    "\n",
    "def CountWaysMemoization(n: int) -> int:\n",
    "    memo: list[int] = [-1] * (n + 1)\n",
    "    return CountWaysHelperMemoization(n, memo)"
   ]
  },
  {
   "cell_type": "markdown",
   "metadata": {},
   "source": [
    "## Explanation\n",
    "1. Brute Force Approach: Uses recursion to explore all possible ways to run up the stairs by taking 1, 2, or 3 steps. This can result in redundant calculations.\n",
    "2. Memoization Approach: Optimizes the brute force approach by storing previously computed results in a memo array, avoiding redundant calculations.\n",
    "\n",
    "These methods provide two different ways to count the number of ways the child can run up the stairs, one using brute force and the other using memoization."
   ]
  },
  {
   "cell_type": "markdown",
   "metadata": {},
   "source": [
    "## Example Usage"
   ]
  },
  {
   "cell_type": "code",
   "execution_count": 3,
   "metadata": {},
   "outputs": [
    {
     "name": "stdout",
     "output_type": "stream",
     "text": [
      "Brute Force: 13\n",
      "Memoization: 13\n"
     ]
    }
   ],
   "source": [
    "# Example using brute force approach\n",
    "n = 5\n",
    "ways_brute_force = CountWaysBruteForce(n)\n",
    "print(\"Brute Force:\", ways_brute_force)  # Output should be the number of ways to run up 5 steps\n",
    "\n",
    "# Example using memoization approach\n",
    "ways_memoization = CountWaysMemoization(n)\n",
    "print(\"Memoization:\", ways_memoization)  # Output should be the number of ways to run up 5 steps"
   ]
  },
  {
   "cell_type": "markdown",
   "metadata": {},
   "source": [
    "# Literature\n",
    "\n",
    "The contents base on the following literature:\n",
    "\n",
    "* Gayle Laakmann McDowell, *Cracking the Coding Interview*, [Link](https://www.crackingthecodinginterview.com/)."
   ]
  },
  {
   "cell_type": "markdown",
   "metadata": {},
   "source": [
    "**Copyright**\n",
    "\n",
    "The notebooks are provided as [Open Educational Resources](https://en.wikipedia.org/wiki/Open_educational_resources). Feel free to use the notebooks for your own purposes. The text is licensed under [Creative Commons Attribution 4.0](https://creativecommons.org/licenses/by/4.0/), the code of the IPython examples under the [MIT license](https://opensource.org/licenses/MIT)."
   ]
  }
 ],
 "metadata": {
  "kernelspec": {
   "display_name": "Python 3",
   "language": "python",
   "name": "python3"
  },
  "language_info": {
   "codemirror_mode": {
    "name": "ipython",
    "version": 3
   },
   "file_extension": ".py",
   "mimetype": "text/x-python",
   "name": "python",
   "nbconvert_exporter": "python",
   "pygments_lexer": "ipython3",
   "version": "3.10.12"
  },
  "nav_menu": {},
  "toc": {
   "navigate_menu": true,
   "number_sections": true,
   "sideBar": true,
   "threshold": 6,
   "toc_cell": false,
   "toc_section_display": "block",
   "toc_window_display": false
  }
 },
 "nbformat": 4,
 "nbformat_minor": 4
}
