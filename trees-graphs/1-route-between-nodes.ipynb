{
 "cells": [
  {
   "cell_type": "markdown",
   "metadata": {},
   "source": [
    "# Problem Description"
   ]
  },
  {
   "cell_type": "markdown",
   "metadata": {},
   "source": [
    "Given a directed graph and two nodes (S and E), the goal is to design an algorithm to determine if there is a route from node S to node E."
   ]
  },
  {
   "cell_type": "markdown",
   "metadata": {},
   "source": [
    "# Solution"
   ]
  },
  {
   "cell_type": "markdown",
   "metadata": {},
   "source": [
    "The solution uses `Breadth-First Search` (BFS) to traverse the graph and check if there is a path from the start node (S) to the end node (E)."
   ]
  },
  {
   "cell_type": "markdown",
   "metadata": {},
   "source": [
    "## Implementation\n",
    "Here's the implementation of the algorithm in Python:"
   ]
  },
  {
   "cell_type": "markdown",
   "metadata": {},
   "source": [
    "### State Definitions\n",
    "We define the states for the nodes to keep track of their traversal status."
   ]
  },
  {
   "cell_type": "code",
   "execution_count": 1,
   "metadata": {},
   "outputs": [],
   "source": [
    "STATE = {'UNVISITED': 0, 'VISITED': 1, 'VISITING': 2}"
   ]
  },
  {
   "cell_type": "markdown",
   "metadata": {},
   "source": [
    "### Node Class\n",
    "This class represents a node in the graph. Each node has a name, state, and a list of children (adjacent nodes)."
   ]
  },
  {
   "cell_type": "code",
   "execution_count": 2,
   "metadata": {},
   "outputs": [],
   "source": [
    "class Node:\n",
    "    def __init__(self, name: str) -> None:\n",
    "        self.name: str = name\n",
    "        self.state: int = STATE['UNVISITED']\n",
    "        self.children: list[Node] = []"
   ]
  },
  {
   "cell_type": "markdown",
   "metadata": {},
   "source": [
    "### Graph Class\n",
    "This class represents the graph. The graph contains a list of nodes."
   ]
  },
  {
   "cell_type": "code",
   "execution_count": 3,
   "metadata": {},
   "outputs": [],
   "source": [
    "class Graph:\n",
    "    def __init__(self) -> None:\n",
    "        self.nodes: list[Node] = []"
   ]
  },
  {
   "cell_type": "markdown",
   "metadata": {},
   "source": [
    "### RouteBetweenNodes Class"
   ]
  },
  {
   "cell_type": "markdown",
   "metadata": {},
   "source": [
    "This class contains the method to find if there is a route between two nodes using BFS."
   ]
  },
  {
   "cell_type": "code",
   "execution_count": 4,
   "metadata": {},
   "outputs": [],
   "source": [
    "class RouteBetweenNodes:\n",
    " \n",
    "    def search(self, graph: Graph, start: Node, end: Node) -> bool:\n",
    "        '''\n",
    "        Design an algorithm to find out whether there is a route from S to E\n",
    "        '''\n",
    "        if start == end:\n",
    "            return True\n",
    "        \n",
    "        # Queue for BFS\n",
    "        queue = []\n",
    "        \n",
    "        for node in graph.nodes:\n",
    "            node.state = STATE['UNVISITED']\n",
    "        \n",
    "        start.state = STATE['VISITING']\n",
    "        queue.append(start)\n",
    "        \n",
    "        while queue:\n",
    "            current = queue.pop(0)  # Dequeue the first element\n",
    "            for child in current.children:\n",
    "                if child.state == STATE['UNVISITED']:\n",
    "                    if child == end:\n",
    "                        return True\n",
    "                    else:\n",
    "                        child.state = STATE['VISITING']\n",
    "                        queue.append(child)\n",
    "            current.state = STATE['VISITED']\n",
    "            \n",
    "        return False"
   ]
  },
  {
   "cell_type": "markdown",
   "metadata": {},
   "source": [
    "## Explanation\n",
    "1. Node Class: Represents each node in the graph with a name, state, and a list of children (adjacent nodes).\n",
    "2. Graph Class: Represents the graph with a list of nodes.\n",
    "3. RouteBetweenNodes Class: Contains the search method to determine if there is a route from the start node to the end node using BFS.\n",
    "4. Breadth-First Search (BFS):\n",
    "   * Initialize all nodes to the UNVISITED state.\n",
    "   * Start from the start node and mark it as VISITING.\n",
    "   * Use a queue to keep track of nodes to be visited.\n",
    "   * Dequeue a node and check its children.\n",
    "   * If a child node is unvisited and is the end node, return True.\n",
    "   * Otherwise, mark the child node as VISITING and add it to the queue.\n",
    "   * Mark the dequeued node as VISITED.\n",
    "   * If the queue is empty and no path is found, return False."
   ]
  },
  {
   "cell_type": "markdown",
   "metadata": {},
   "source": [
    "## Example Usage"
   ]
  },
  {
   "cell_type": "markdown",
   "metadata": {},
   "source": [
    "Here's how you can use the Graph, Node, and RouteBetweenNodes classes to check if there is a route between two nodes:"
   ]
  },
  {
   "cell_type": "code",
   "execution_count": 5,
   "metadata": {},
   "outputs": [
    {
     "name": "stdout",
     "output_type": "stream",
     "text": [
      "True\n",
      "True\n",
      "False\n"
     ]
    }
   ],
   "source": [
    "# Create graph nodes\n",
    "nodeA = Node(\"A\")\n",
    "nodeB = Node(\"B\")\n",
    "nodeC = Node(\"C\")\n",
    "nodeD = Node(\"D\")\n",
    "\n",
    "# Create graph and add nodes\n",
    "graph = Graph()\n",
    "graph.nodes.append(nodeA)\n",
    "graph.nodes.append(nodeB)\n",
    "graph.nodes.append(nodeC)\n",
    "graph.nodes.append(nodeD)\n",
    "\n",
    "# Define the edges (connections between nodes)\n",
    "nodeA.children.append(nodeB)\n",
    "nodeB.children.append(nodeC)\n",
    "nodeC.children.append(nodeD)\n",
    "\n",
    "# Create Solution and check for route\n",
    "solution = RouteBetweenNodes()\n",
    "print(solution.search(graph, nodeA, nodeD))  # Output: True\n",
    "print(solution.search(graph, nodeA, nodeC))  # Output: True\n",
    "print(solution.search(graph, nodeD, nodeA))  # Output: False"
   ]
  },
  {
   "cell_type": "markdown",
   "metadata": {},
   "source": [
    "# Literature\n",
    "\n",
    "The contents base on the following literature:\n",
    "\n",
    "* Gayle Laakmann McDowell, *Cracking the Coding Interview*, [Link](https://www.crackingthecodinginterview.com/)."
   ]
  },
  {
   "cell_type": "markdown",
   "metadata": {},
   "source": [
    "**Copyright**\n",
    "\n",
    "The notebooks are provided as [Open Educational Resources](https://en.wikipedia.org/wiki/Open_educational_resources). Feel free to use the notebooks for your own purposes. The text is licensed under [Creative Commons Attribution 4.0](https://creativecommons.org/licenses/by/4.0/), the code of the IPython examples under the [MIT license](https://opensource.org/licenses/MIT)."
   ]
  }
 ],
 "metadata": {
  "kernelspec": {
   "display_name": "Python 3",
   "language": "python",
   "name": "python3"
  },
  "language_info": {
   "codemirror_mode": {
    "name": "ipython",
    "version": 3
   },
   "file_extension": ".py",
   "mimetype": "text/x-python",
   "name": "python",
   "nbconvert_exporter": "python",
   "pygments_lexer": "ipython3",
   "version": "3.10.12"
  },
  "nav_menu": {},
  "toc": {
   "navigate_menu": true,
   "number_sections": true,
   "sideBar": true,
   "threshold": 6,
   "toc_cell": false,
   "toc_section_display": "block",
   "toc_window_display": false
  }
 },
 "nbformat": 4,
 "nbformat_minor": 4
}
