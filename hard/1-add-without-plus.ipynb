{
 "cells": [
  {
   "cell_type": "markdown",
   "metadata": {},
   "source": [
    "# Problem Description"
   ]
  },
  {
   "cell_type": "markdown",
   "metadata": {},
   "source": [
    "Write a function that adds two numbers. You should not use + or any arithmetic operators."
   ]
  },
  {
   "cell_type": "markdown",
   "metadata": {},
   "source": [
    "# Solution"
   ]
  },
  {
   "cell_type": "markdown",
   "metadata": {},
   "source": [
    "Here's a solution that adds two numbers without using the + or any arithmetic operators with two methods:\n",
    "   * Recursive Method\n",
    "   * Iterative Method"
   ]
  },
  {
   "cell_type": "markdown",
   "metadata": {},
   "source": [
    "## Explanation\n",
    "* `XOR Operation` (^): Sums the bits without carrying. For example, 1 ^ 1 = 0, 0 ^ 0 = 0, and 1 ^ 0 = 1.\n",
    "* `AND Operation` (&) and Left Shift (<<): This combination helps compute the carry. For example, 1 & 1 = 1 (indicating a carry) and 1 << 1 = 2."
   ]
  },
  {
   "cell_type": "markdown",
   "metadata": {},
   "source": [
    "## Methods"
   ]
  },
  {
   "cell_type": "markdown",
   "metadata": {},
   "source": [
    "### Recursive Method Logic"
   ]
  },
  {
   "cell_type": "markdown",
   "metadata": {},
   "source": [
    "1. Base Case: If b is 0, return a (no carry).\n",
    "2. Recursive Case:\n",
    "    * Compute the sum without carrying using the XOR operation (a ^ b).\n",
    "    * Compute the carry using the AND operation and left shift it by 1 ((a & b) << 1).\n",
    "    * Recursively add the sum and the carry.    "
   ]
  },
  {
   "cell_type": "code",
   "execution_count": 1,
   "metadata": {},
   "outputs": [],
   "source": [
    "def AddRecursive(a: int, b: int) -> int:\n",
    "    '''\n",
    "    Add two numbers using recursion without arithmetic operators.\n",
    "    '''\n",
    "    if b == 0:\n",
    "        return a\n",
    "    sum: int = a ^ b  # Add without carrying\n",
    "    carry: int = (a & b) << 1  # Carry, but don't add\n",
    "    return AddRecursive(sum, carry)  # Recurse with sum + carry"
   ]
  },
  {
   "cell_type": "markdown",
   "metadata": {},
   "source": [
    "### Iterative Method Logic"
   ]
  },
  {
   "cell_type": "markdown",
   "metadata": {},
   "source": [
    "1. Loop Until No Carry:\n",
    "2. Compute the sum without carrying using the XOR operation (a ^ b).\n",
    "3. Compute the carry using the AND operation and left shift it by 1 ((a & b) << 1).\n",
    "4. Update a to sum and b to carry.\n",
    "5. When b becomes 0, return a.   "
   ]
  },
  {
   "cell_type": "code",
   "execution_count": 2,
   "metadata": {},
   "outputs": [],
   "source": [
    "def AddItertive(a: int, b: int) -> int:\n",
    "    '''\n",
    "    Add two numbers using an iterative approach without arithmetic operators.\n",
    "    '''\n",
    "    while b != 0:\n",
    "        sum: int = a ^ b  # Add without carrying\n",
    "        carry: int = (a & b) << 1  # Carry, but don't add\n",
    "        a = sum\n",
    "        b = carry\n",
    "    return a"
   ]
  },
  {
   "cell_type": "markdown",
   "metadata": {},
   "source": [
    "## Example Usage"
   ]
  },
  {
   "cell_type": "markdown",
   "metadata": {},
   "source": [
    "Here's how you can use these methods to add two numbers:"
   ]
  },
  {
   "cell_type": "code",
   "execution_count": 3,
   "metadata": {},
   "outputs": [
    {
     "name": "stdout",
     "output_type": "stream",
     "text": [
      "8\n",
      "8\n"
     ]
    }
   ],
   "source": [
    "# Using the recursive method\n",
    "print(AddRecursive(5, 3))  # Output: 8\n",
    "\n",
    "# Using the iterative method\n",
    "print(AddItertive(5, 3))  # Output: 8"
   ]
  },
  {
   "cell_type": "markdown",
   "metadata": {},
   "source": [
    "# Literature\n",
    "\n",
    "The contents base on the following literature:\n",
    "\n",
    "* Gayle Laakmann McDowell, *Cracking the Coding Interview*, [Link](https://www.crackingthecodinginterview.com/)."
   ]
  },
  {
   "cell_type": "markdown",
   "metadata": {},
   "source": [
    "**Copyright**\n",
    "\n",
    "The notebooks are provided as [Open Educational Resources](https://en.wikipedia.org/wiki/Open_educational_resources). Feel free to use the notebooks for your own purposes. The text is licensed under [Creative Commons Attribution 4.0](https://creativecommons.org/licenses/by/4.0/), the code of the IPython examples under the [MIT license](https://opensource.org/licenses/MIT)."
   ]
  }
 ],
 "metadata": {
  "kernelspec": {
   "display_name": "Python 3",
   "language": "python",
   "name": "python3"
  },
  "language_info": {
   "codemirror_mode": {
    "name": "ipython",
    "version": 3
   },
   "file_extension": ".py",
   "mimetype": "text/x-python",
   "name": "python",
   "nbconvert_exporter": "python",
   "pygments_lexer": "ipython3",
   "version": "3.10.12"
  },
  "nav_menu": {},
  "toc": {
   "navigate_menu": true,
   "number_sections": true,
   "sideBar": true,
   "threshold": 6,
   "toc_cell": false,
   "toc_section_display": "block",
   "toc_window_display": false
  }
 },
 "nbformat": 4,
 "nbformat_minor": 4
}
